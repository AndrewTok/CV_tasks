{
 "cells": [
  {
   "cell_type": "code",
   "execution_count": 1,
   "metadata": {},
   "outputs": [],
   "source": [
    "import classification as classification\n",
    "import utils"
   ]
  },
  {
   "cell_type": "code",
   "execution_count": 2,
   "metadata": {},
   "outputs": [],
   "source": [
    "imgs_path = 'public_tests/00_test_img_input/train/images/'\n",
    "labels_path= 'public_tests/00_test_img_input/train/gt.csv'"
   ]
  },
  {
   "cell_type": "code",
   "execution_count": 3,
   "metadata": {},
   "outputs": [],
   "source": [
    "labels = utils.load_labels(labels_path)"
   ]
  },
  {
   "cell_type": "code",
   "execution_count": 4,
   "metadata": {},
   "outputs": [
    {
     "name": "stderr",
     "output_type": "stream",
     "text": [
      "c:\\ProgramData\\Python3_64\\lib\\site-packages\\pkg_resources\\__init__.py:122: PkgResourcesDeprecationWarning: p is an invalid version and will not be supported in a future release\n",
      "  warnings.warn(\n",
      "c:\\ProgramData\\Python3_64\\lib\\site-packages\\pkg_resources\\__init__.py:122: PkgResourcesDeprecationWarning: gments is an invalid version and will not be supported in a future release\n",
      "  warnings.warn(\n",
      "c:\\ProgramData\\Python3_64\\lib\\site-packages\\pkg_resources\\__init__.py:122: PkgResourcesDeprecationWarning: lorama is an invalid version and will not be supported in a future release\n",
      "  warnings.warn(\n",
      "GPU available: True (cuda), used: True\n",
      "TPU available: False, using: 0 TPU cores\n",
      "IPU available: False, using: 0 IPUs\n",
      "HPU available: False, using: 0 HPUs\n",
      "LOCAL_RANK: 0 - CUDA_VISIBLE_DEVICES: [0]\n",
      "\n",
      "  | Name  | Type                | Params\n",
      "----------------------------------------------\n",
      "0 | model | MobileNetClassifier | 23.6 M\n",
      "----------------------------------------------\n",
      "15.1 M    Trainable params\n",
      "8.5 M     Non-trainable params\n",
      "23.6 M    Total params\n",
      "94.442    Total estimated model params size (MB)\n"
     ]
    },
    {
     "name": "stdout",
     "output_type": "stream",
     "text": [
      "Sanity Checking: |          | 0/? [00:00<?, ?it/s]"
     ]
    },
    {
     "name": "stderr",
     "output_type": "stream",
     "text": [
      "c:\\ProgramData\\Python3_64\\lib\\site-packages\\pytorch_lightning\\trainer\\connectors\\data_connector.py:441: The 'val_dataloader' does not have many workers which may be a bottleneck. Consider increasing the value of the `num_workers` argument` to `num_workers=7` in the `DataLoader` to improve performance.\n"
     ]
    },
    {
     "name": "stdout",
     "output_type": "stream",
     "text": [
      "                                                                           "
     ]
    },
    {
     "name": "stderr",
     "output_type": "stream",
     "text": [
      "c:\\ProgramData\\Python3_64\\lib\\site-packages\\pytorch_lightning\\trainer\\connectors\\data_connector.py:441: The 'train_dataloader' does not have many workers which may be a bottleneck. Consider increasing the value of the `num_workers` argument` to `num_workers=7` in the `DataLoader` to improve performance.\n",
      "c:\\ProgramData\\Python3_64\\lib\\site-packages\\pytorch_lightning\\loops\\fit_loop.py:293: The number of training batches (28) is smaller than the logging interval Trainer(log_every_n_steps=50). Set a lower value for log_every_n_steps if you want to see logs for the training epoch.\n"
     ]
    },
    {
     "name": "stdout",
     "output_type": "stream",
     "text": [
      "Epoch 22: 100%|██████████| 28/28 [01:30<00:00,  0.31it/s, v_num=19, loss_step=3.280, accuracy_step=0.227, val_accuracy=0.145, loss_epoch=3.420, accuracy_epoch=0.126]   Epoch 00023: reducing learning rate of group 0 to 2.0000e-04.\n",
      "Epoch 00023: reducing learning rate of group 1 to 2.0000e-03.\n",
      "Epoch 31: 100%|██████████| 28/28 [00:50<00:00,  0.55it/s, v_num=19, loss_step=3.150, accuracy_step=0.182, val_accuracy=0.203, loss_epoch=3.270, accuracy_epoch=0.166] "
     ]
    }
   ],
   "source": [
    "model = classification.train_classifier(labels,imgs_path, fast_train=False)"
   ]
  },
  {
   "cell_type": "code",
   "execution_count": null,
   "metadata": {},
   "outputs": [],
   "source": [
    "dataset = classification.BirdsClassificationDataset(imgs_path, labels, mode='val', transform=classification.test_transform)"
   ]
  },
  {
   "cell_type": "code",
   "execution_count": null,
   "metadata": {},
   "outputs": [],
   "source": [
    "import numpy as np"
   ]
  },
  {
   "cell_type": "code",
   "execution_count": null,
   "metadata": {},
   "outputs": [
    {
     "name": "stdout",
     "output_type": "stream",
     "text": [
      "0.9236\n"
     ]
    }
   ],
   "source": [
    "result = {}\n",
    "\n",
    "model.eval()\n",
    "\n",
    "correct = 0\n",
    "\n",
    "for i in range(len(dataset)):\n",
    "    img, label = dataset[i]\n",
    "    pred = model(img[None,:])\n",
    "    pred = np.argmax(pred.detach().numpy(), axis = 1)\n",
    "    if pred == label:\n",
    "        correct += 1\n",
    "correct /= len(dataset)\n",
    "print(correct)\n"
   ]
  },
  {
   "cell_type": "code",
   "execution_count": null,
   "metadata": {},
   "outputs": [],
   "source": []
  }
 ],
 "metadata": {
  "kernelspec": {
   "display_name": "Python 3",
   "language": "python",
   "name": "python3"
  },
  "language_info": {
   "codemirror_mode": {
    "name": "ipython",
    "version": 3
   },
   "file_extension": ".py",
   "mimetype": "text/x-python",
   "name": "python",
   "nbconvert_exporter": "python",
   "pygments_lexer": "ipython3",
   "version": "3.10.3"
  }
 },
 "nbformat": 4,
 "nbformat_minor": 2
}
