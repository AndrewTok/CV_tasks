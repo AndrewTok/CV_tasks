{
 "cells": [
  {
   "cell_type": "code",
   "execution_count": 290,
   "metadata": {},
   "outputs": [],
   "source": [
    "import numpy as np"
   ]
  },
  {
   "cell_type": "code",
   "execution_count": 291,
   "metadata": {},
   "outputs": [
    {
     "data": {
      "text/plain": [
       "array([[0, 1],\n",
       "       [2, 3],\n",
       "       [4, 5],\n",
       "       [6, 7],\n",
       "       [8, 9]])"
      ]
     },
     "execution_count": 291,
     "metadata": {},
     "output_type": "execute_result"
    }
   ],
   "source": [
    "a = np.arange(10).reshape(5, 2)\n",
    "a"
   ]
  },
  {
   "cell_type": "code",
   "execution_count": 292,
   "metadata": {},
   "outputs": [
    {
     "data": {
      "text/plain": [
       "array([[1.00000000e+00, 2.71828183e+00],\n",
       "       [7.38905610e+00, 2.00855369e+01],\n",
       "       [5.45981500e+01, 1.48413159e+02],\n",
       "       [4.03428793e+02, 1.09663316e+03],\n",
       "       [2.98095799e+03, 8.10308393e+03]])"
      ]
     },
     "execution_count": 292,
     "metadata": {},
     "output_type": "execute_result"
    }
   ],
   "source": [
    "exps = np.exp(a)\n",
    "exps"
   ]
  },
  {
   "cell_type": "code",
   "execution_count": 293,
   "metadata": {},
   "outputs": [
    {
     "data": {
      "text/plain": [
       "array([[3.71828183e+00],\n",
       "       [2.74745930e+01],\n",
       "       [2.03011309e+02],\n",
       "       [1.50006195e+03],\n",
       "       [1.10840419e+04]])"
      ]
     },
     "execution_count": 293,
     "metadata": {},
     "output_type": "execute_result"
    }
   ],
   "source": [
    "norms = np.sum(exps, axis = 1)\n",
    "norms = norms[:, None]\n",
    "norms"
   ]
  },
  {
   "cell_type": "code",
   "execution_count": 294,
   "metadata": {},
   "outputs": [
    {
     "data": {
      "text/plain": [
       "array([[0.26894142, 0.73105858],\n",
       "       [0.26894142, 0.73105858],\n",
       "       [0.26894142, 0.73105858],\n",
       "       [0.26894142, 0.73105858],\n",
       "       [0.26894142, 0.73105858]])"
      ]
     },
     "execution_count": 294,
     "metadata": {},
     "output_type": "execute_result"
    }
   ],
   "source": [
    "# norms = [1,2]\n",
    "normalized = exps / norms\n",
    "normalized"
   ]
  },
  {
   "cell_type": "code",
   "execution_count": 295,
   "metadata": {},
   "outputs": [
    {
     "data": {
      "text/plain": [
       "array([1.34470711, 3.65529289])"
      ]
     },
     "execution_count": 295,
     "metadata": {},
     "output_type": "execute_result"
    }
   ],
   "source": [
    "np.sum(normalized, axis = 0)"
   ]
  },
  {
   "cell_type": "code",
   "execution_count": 296,
   "metadata": {},
   "outputs": [],
   "source": [
    "def SM(a):\n",
    "    inputs = a.copy()\n",
    "    inputs -= inputs.max()\n",
    "    print(inputs.shape)\n",
    "    exps = np.exp(inputs)\n",
    "    print(exps.shape)\n",
    "    norm_coefs = np.sum(exps, axis=1)[:,None]\n",
    "    return np.divide(exps, norm_coefs)"
   ]
  },
  {
   "cell_type": "code",
   "execution_count": 297,
   "metadata": {},
   "outputs": [],
   "source": [
    "a = np.array([[-264., -346.], [-130., 241.], [-745., -601.], [-662., -4.], [ 749.,  305.],\n",
    "                  [ 716.,  485.],\n",
    "                  [1004., -711.],\n",
    "                  [ 512.,  682.],\n",
    "                  [ 166.,  393.],\n",
    "                  [-255.,   62.],                  [-753.,   36.],\n",
    "                 [  15.,  765.],\n",
    "                 [-682., -679.],\n",
    "                 [ 847.,  538.],\n",
    "                 [ 958.,  622.],\n",
    "                 [-792.,  -35.],\n",
    "                  [-449.,  608.],\n",
    "                  [-609., -120.],\n",
    "                  [-758.,  -28.],\n",
    "                  [ 325.,  925.],\n",
    "                  [-281., -114.],\n",
    "                  [-582., -465.],\n",
    "                  [ 861.,  721.],\n",
    "                  [-949., -778.],\n",
    "                  [ 827., -445.],\n",
    "                 [-712., -449.],\n",
    "                  [ 693.,  591.],\n",
    "                  [-682., -310.],\n",
    "                [ 181.,  954.],\n",
    "                 [ -41., -299.],\n",
    "                  [ 934., -393.],\n",
    "                  [-626.,  240.]])"
   ]
  },
  {
   "cell_type": "code",
   "execution_count": 298,
   "metadata": {},
   "outputs": [
    {
     "name": "stdout",
     "output_type": "stream",
     "text": [
      "(32, 2)\n",
      "(32, 2)\n"
     ]
    },
    {
     "name": "stderr",
     "output_type": "stream",
     "text": [
      "C:\\Users\\Андрей\\AppData\\Local\\Temp\\ipykernel_18540\\3472492231.py:8: RuntimeWarning: invalid value encountered in divide\n",
      "  return np.divide(exps, norm_coefs)\n"
     ]
    },
    {
     "data": {
      "text/plain": [
       "array([[            nan,             nan],\n",
       "       [            nan,             nan],\n",
       "       [            nan,             nan],\n",
       "       [            nan,             nan],\n",
       "       [1.00000000e+000, 1.49021879e-193],\n",
       "       [1.00000000e+000, 4.76403211e-101],\n",
       "       [1.00000000e+000, 0.00000000e+000],\n",
       "       [1.47889751e-074, 1.00000000e+000],\n",
       "       [0.00000000e+000, 1.00000000e+000],\n",
       "       [            nan,             nan],\n",
       "       [            nan,             nan],\n",
       "       [0.00000000e+000, 1.00000000e+000],\n",
       "       [            nan,             nan],\n",
       "       [1.00000000e+000, 6.35338381e-135],\n",
       "       [1.00000000e+000, 1.19413680e-146],\n",
       "       [            nan,             nan],\n",
       "       [0.00000000e+000, 1.00000000e+000],\n",
       "       [            nan,             nan],\n",
       "       [            nan,             nan],\n",
       "       [2.65039655e-261, 1.00000000e+000],\n",
       "       [            nan,             nan],\n",
       "       [            nan,             nan],\n",
       "       [1.00000000e+000, 1.58042006e-061],\n",
       "       [            nan,             nan],\n",
       "       [1.00000000e+000, 0.00000000e+000],\n",
       "       [            nan,             nan],\n",
       "       [1.00000000e+000, 5.03457536e-045],\n",
       "       [            nan,             nan],\n",
       "       [0.00000000e+000, 1.00000000e+000],\n",
       "       [            nan,             nan],\n",
       "       [1.00000000e+000, 0.00000000e+000],\n",
       "       [            nan,             nan]])"
      ]
     },
     "execution_count": 298,
     "metadata": {},
     "output_type": "execute_result"
    }
   ],
   "source": [
    "SM(a)"
   ]
  },
  {
   "cell_type": "code",
   "execution_count": null,
   "metadata": {},
   "outputs": [],
   "source": []
  },
  {
   "cell_type": "code",
   "execution_count": 299,
   "metadata": {},
   "outputs": [
    {
     "data": {
      "text/plain": [
       "(3, 4)"
      ]
     },
     "execution_count": 299,
     "metadata": {},
     "output_type": "execute_result"
    }
   ],
   "source": [
    "y_gt = np.array([[0., 0., 1., 0.], [0., 0., 1., 0.], [0., 1., 0., 0.]])\n",
    "y_gt.shape"
   ]
  },
  {
   "cell_type": "code",
   "execution_count": 300,
   "metadata": {},
   "outputs": [],
   "source": [
    "target_indices = np.argmax(y_gt, axis=1)"
   ]
  },
  {
   "cell_type": "code",
   "execution_count": 301,
   "metadata": {},
   "outputs": [],
   "source": [
    "y_pred = np.array([[0.33691088, 0.3064258 , 0.1339102 , 0.22275312], [0.24908269, 0.05323729, 0.21219856, 0.48548146],\n",
    "                [0.28376126, 0.41721049, 0.09371058, 0.20531767]])"
   ]
  },
  {
   "cell_type": "code",
   "execution_count": 302,
   "metadata": {},
   "outputs": [
    {
     "data": {
      "text/plain": [
       "(3, 4)"
      ]
     },
     "execution_count": 302,
     "metadata": {},
     "output_type": "execute_result"
    }
   ],
   "source": [
    "y_pred.shape"
   ]
  },
  {
   "cell_type": "code",
   "execution_count": 303,
   "metadata": {},
   "outputs": [
    {
     "data": {
      "text/plain": [
       "array([0.1339102 , 0.21219856, 0.41721049])"
      ]
     },
     "execution_count": 303,
     "metadata": {},
     "output_type": "execute_result"
    }
   ],
   "source": [
    "probs = y_pred[(np.arange(3), target_indices)]\n",
    "probs"
   ]
  },
  {
   "cell_type": "code",
   "execution_count": 304,
   "metadata": {},
   "outputs": [],
   "source": [
    "loss = -np.mean((np.log(probs)))[None]"
   ]
  },
  {
   "cell_type": "code",
   "execution_count": 305,
   "metadata": {},
   "outputs": [
    {
     "data": {
      "text/plain": [
       "(2, 3, 4, 4)"
      ]
     },
     "execution_count": 305,
     "metadata": {},
     "output_type": "execute_result"
    }
   ],
   "source": [
    "img = np.arange(25).reshape(5,5)\n",
    "img = np.stack([img, img], axis=0)\n",
    "img = np.stack([img, img], axis = 0)\n",
    "kernel = np.array([[0, 1],[0, 0]])\n",
    "kernel = np.stack([kernel, kernel], axis = 0)\n",
    "kernel = np.stack([kernel, kernel, kernel], axis = 0)\n",
    "res = np.zeros((img.shape[0],kernel.shape[0], img.shape[-2]- kernel.shape[-2]//2,img.shape[-1] - kernel.shape[-1]//2))\n",
    "res.shape"
   ]
  },
  {
   "cell_type": "code",
   "execution_count": 306,
   "metadata": {},
   "outputs": [
    {
     "data": {
      "text/plain": [
       "(2, 2, 5, 5)"
      ]
     },
     "execution_count": 306,
     "metadata": {},
     "output_type": "execute_result"
    }
   ],
   "source": [
    "img.shape"
   ]
  },
  {
   "cell_type": "code",
   "execution_count": 307,
   "metadata": {},
   "outputs": [
    {
     "data": {
      "text/plain": [
       "array([[[ 0,  1,  2,  3,  4],\n",
       "        [ 5,  6,  7,  8,  9],\n",
       "        [10, 11, 12, 13, 14],\n",
       "        [15, 16, 17, 18, 19],\n",
       "        [20, 21, 22, 23, 24]],\n",
       "\n",
       "       [[ 0,  1,  2,  3,  4],\n",
       "        [ 5,  6,  7,  8,  9],\n",
       "        [10, 11, 12, 13, 14],\n",
       "        [15, 16, 17, 18, 19],\n",
       "        [20, 21, 22, 23, 24]]])"
      ]
     },
     "execution_count": 307,
     "metadata": {},
     "output_type": "execute_result"
    }
   ],
   "source": [
    "img[0]"
   ]
  },
  {
   "cell_type": "code",
   "execution_count": 308,
   "metadata": {},
   "outputs": [
    {
     "data": {
      "text/plain": [
       "array([[[[0, 1],\n",
       "         [0, 0]],\n",
       "\n",
       "        [[0, 1],\n",
       "         [0, 0]]],\n",
       "\n",
       "\n",
       "       [[[0, 1],\n",
       "         [0, 0]],\n",
       "\n",
       "        [[0, 1],\n",
       "         [0, 0]]],\n",
       "\n",
       "\n",
       "       [[[0, 1],\n",
       "         [0, 0]],\n",
       "\n",
       "        [[0, 1],\n",
       "         [0, 0]]]])"
      ]
     },
     "execution_count": 308,
     "metadata": {},
     "output_type": "execute_result"
    }
   ],
   "source": [
    "kernel"
   ]
  },
  {
   "cell_type": "code",
   "execution_count": 309,
   "metadata": {},
   "outputs": [
    {
     "data": {
      "text/plain": [
       "(3, 2, 2, 2)"
      ]
     },
     "execution_count": 309,
     "metadata": {},
     "output_type": "execute_result"
    }
   ],
   "source": [
    "kernel.shape"
   ]
  },
  {
   "cell_type": "code",
   "execution_count": 310,
   "metadata": {},
   "outputs": [
    {
     "data": {
      "text/plain": [
       "(2, 1, 2, 5, 5)"
      ]
     },
     "execution_count": 310,
     "metadata": {},
     "output_type": "execute_result"
    }
   ],
   "source": [
    "ext_img = img[:,None,...]\n",
    "ext_img.shape"
   ]
  },
  {
   "cell_type": "code",
   "execution_count": 311,
   "metadata": {},
   "outputs": [
    {
     "data": {
      "text/plain": [
       "(1, 3, 2, 2, 2)"
      ]
     },
     "execution_count": 311,
     "metadata": {},
     "output_type": "execute_result"
    }
   ],
   "source": [
    "ext_kernel = kernel[None,...]\n",
    "ext_kernel.shape"
   ]
  },
  {
   "cell_type": "code",
   "execution_count": 312,
   "metadata": {},
   "outputs": [],
   "source": [
    "img = np.array([[[[ 205., 985., -846., -828., 1014.], [-290., -936., -226.,  433., -237.],\n",
    "                        [-277.,  182., -816., -532.,  129.],\n",
    "                        [-360.,   12.,  633., -154., -293.],\n",
    "                        [ 105.,  374.,  581.,  706., -327.]]]])\n",
    "\n",
    "kernel = np.array([[[[ 98., -431., 586.], [-139., -173., 191.], [-700., -46.,  725.]]]])"
   ]
  },
  {
   "cell_type": "code",
   "execution_count": 313,
   "metadata": {},
   "outputs": [
    {
     "name": "stdout",
     "output_type": "stream",
     "text": [
      "(1, 1, 5, 5)\n"
     ]
    },
    {
     "data": {
      "text/plain": [
       "(1, 1, 3, 3)"
      ]
     },
     "execution_count": 313,
     "metadata": {},
     "output_type": "execute_result"
    }
   ],
   "source": [
    "print(img.shape)\n",
    "kernel.shape"
   ]
  },
  {
   "cell_type": "code",
   "execution_count": 314,
   "metadata": {},
   "outputs": [
    {
     "name": "stdout",
     "output_type": "stream",
     "text": [
      "(1, 1, 1, 5, 5)\n",
      "(1, 1, 1, 3, 3)\n"
     ]
    }
   ],
   "source": [
    "ext_img = img[:,None,...]\n",
    "print(ext_img.shape)\n",
    "\n",
    "ext_kernel = kernel[None,...]\n",
    "print(ext_kernel.shape)"
   ]
  },
  {
   "cell_type": "code",
   "execution_count": null,
   "metadata": {},
   "outputs": [],
   "source": []
  },
  {
   "cell_type": "code",
   "execution_count": 315,
   "metadata": {},
   "outputs": [],
   "source": [
    "res = np.zeros((img.shape[0],kernel.shape[0], img.shape[-2]- kernel.shape[-2] + 1,img.shape[-1] - kernel.shape[-1] + 1))"
   ]
  },
  {
   "cell_type": "code",
   "execution_count": 316,
   "metadata": {},
   "outputs": [
    {
     "data": {
      "text/plain": [
       "array([[-1147201.,  -247711.,  1468599.],\n",
       "       [  804094.,   124506.,  -765995.],\n",
       "       [  -84376.,   140513.,  -568641.]])"
      ]
     },
     "execution_count": 316,
     "metadata": {},
     "output_type": "execute_result"
    }
   ],
   "source": [
    "di = kernel.shape[-2]\n",
    "dj = kernel.shape[-1]\n",
    "for i in range(res.shape[-2]):\n",
    "    for j in range(res.shape[-1]):\n",
    "        # print(ext_img[...,i:i+di,j:j+dj])\n",
    "        res[...,i,j] = np.sum(ext_kernel*ext_img[...,i:i+di,j:j+dj])\n",
    "res[0,0]"
   ]
  },
  {
   "cell_type": "code",
   "execution_count": 317,
   "metadata": {},
   "outputs": [
    {
     "data": {
      "text/plain": [
       "(1, 1, 7, 9)"
      ]
     },
     "execution_count": 317,
     "metadata": {},
     "output_type": "execute_result"
    }
   ],
   "source": [
    "np.pad(img, [[0,0],[0,0],[1,1],[2,2]]).shape"
   ]
  },
  {
   "cell_type": "code",
   "execution_count": 318,
   "metadata": {},
   "outputs": [
    {
     "data": {
      "text/plain": [
       "array([[[ 205.,  985., -846., -828., 1014.],\n",
       "        [-290., -936., -226.,  433., -237.],\n",
       "        [-277.,  182., -816., -532.,  129.],\n",
       "        [-360.,   12.,  633., -154., -293.],\n",
       "        [ 105.,  374.,  581.,  706., -327.]]])"
      ]
     },
     "execution_count": 318,
     "metadata": {},
     "output_type": "execute_result"
    }
   ],
   "source": [
    "img[0]"
   ]
  },
  {
   "cell_type": "code",
   "execution_count": 319,
   "metadata": {},
   "outputs": [
    {
     "data": {
      "text/plain": [
       "array([[[  98., -431.,  586.],\n",
       "        [-139., -173.,  191.],\n",
       "        [-700.,  -46.,  725.]]])"
      ]
     },
     "execution_count": 319,
     "metadata": {},
     "output_type": "execute_result"
    }
   ],
   "source": [
    "kernel[0]"
   ]
  },
  {
   "cell_type": "code",
   "execution_count": 320,
   "metadata": {},
   "outputs": [
    {
     "data": {
      "text/plain": [
       "-1147201.0"
      ]
     },
     "execution_count": 320,
     "metadata": {},
     "output_type": "execute_result"
    }
   ],
   "source": [
    "np.sum((kernel[0]*img[...,:kernel.shape[-2], :kernel.shape[-1]]))"
   ]
  },
  {
   "cell_type": "code",
   "execution_count": 321,
   "metadata": {},
   "outputs": [],
   "source": [
    "x = np.arange(54).reshape(2, 3,3,3)"
   ]
  },
  {
   "cell_type": "code",
   "execution_count": 322,
   "metadata": {},
   "outputs": [
    {
     "data": {
      "text/plain": [
       "array([[[[ 0,  1,  2],\n",
       "         [ 3,  4,  5],\n",
       "         [ 6,  7,  8]],\n",
       "\n",
       "        [[ 9, 10, 11],\n",
       "         [12, 13, 14],\n",
       "         [15, 16, 17]],\n",
       "\n",
       "        [[18, 19, 20],\n",
       "         [21, 22, 23],\n",
       "         [24, 25, 26]]],\n",
       "\n",
       "\n",
       "       [[[27, 28, 29],\n",
       "         [30, 31, 32],\n",
       "         [33, 34, 35]],\n",
       "\n",
       "        [[36, 37, 38],\n",
       "         [39, 40, 41],\n",
       "         [42, 43, 44]],\n",
       "\n",
       "        [[45, 46, 47],\n",
       "         [48, 49, 50],\n",
       "         [51, 52, 53]]]])"
      ]
     },
     "execution_count": 322,
     "metadata": {},
     "output_type": "execute_result"
    }
   ],
   "source": [
    "x"
   ]
  },
  {
   "cell_type": "code",
   "execution_count": 323,
   "metadata": {},
   "outputs": [
    {
     "data": {
      "text/plain": [
       "(2, 3, 3, 3)"
      ]
     },
     "execution_count": 323,
     "metadata": {},
     "output_type": "execute_result"
    }
   ],
   "source": [
    "x.shape"
   ]
  },
  {
   "cell_type": "code",
   "execution_count": 324,
   "metadata": {},
   "outputs": [],
   "source": [
    "xx = np.sum(x, axis = 0) #x.reshape(x.shape[0], -1)"
   ]
  },
  {
   "cell_type": "code",
   "execution_count": 325,
   "metadata": {},
   "outputs": [
    {
     "data": {
      "text/plain": [
       "(3, 3, 3)"
      ]
     },
     "execution_count": 325,
     "metadata": {},
     "output_type": "execute_result"
    }
   ],
   "source": [
    "xx.shape"
   ]
  },
  {
   "cell_type": "code",
   "execution_count": 326,
   "metadata": {},
   "outputs": [
    {
     "data": {
      "text/plain": [
       "array([153, 477, 801])"
      ]
     },
     "execution_count": 326,
     "metadata": {},
     "output_type": "execute_result"
    }
   ],
   "source": [
    "np.sum(x.reshape(xx.shape[0], -1), axis = 1)"
   ]
  },
  {
   "cell_type": "code",
   "execution_count": 327,
   "metadata": {},
   "outputs": [],
   "source": [
    "size_1 = 4\n",
    "size_2 = 8"
   ]
  },
  {
   "cell_type": "code",
   "execution_count": 328,
   "metadata": {},
   "outputs": [],
   "source": [
    "x = np.arange(2*3*size_1*size_2).reshape(2,3,size_1, size_2)"
   ]
  },
  {
   "cell_type": "code",
   "execution_count": 329,
   "metadata": {},
   "outputs": [],
   "source": [
    "p = 2"
   ]
  },
  {
   "cell_type": "code",
   "execution_count": 330,
   "metadata": {},
   "outputs": [],
   "source": [
    "B = x.reshape((2, 3, -1, p, x.shape[-1]//p, p))  \n",
    "C = B.transpose((0, 1, 2,4,3,5))#.reshape(2, 3, -1, p,p)"
   ]
  },
  {
   "cell_type": "code",
   "execution_count": 331,
   "metadata": {},
   "outputs": [
    {
     "data": {
      "text/plain": [
       "(2, 3, 2, 4, 2, 2)"
      ]
     },
     "execution_count": 331,
     "metadata": {},
     "output_type": "execute_result"
    }
   ],
   "source": [
    "C.shape"
   ]
  },
  {
   "cell_type": "code",
   "execution_count": 332,
   "metadata": {},
   "outputs": [],
   "source": [
    "C[...,0,0] = 20"
   ]
  },
  {
   "cell_type": "code",
   "execution_count": 333,
   "metadata": {},
   "outputs": [],
   "source": [
    "maxes = np.max(C, axis=(-1, -2))"
   ]
  },
  {
   "cell_type": "code",
   "execution_count": 334,
   "metadata": {},
   "outputs": [
    {
     "ename": "ValueError",
     "evalue": "axes don't match array",
     "output_type": "error",
     "traceback": [
      "\u001b[1;31m---------------------------------------------------------------------------\u001b[0m",
      "\u001b[1;31mValueError\u001b[0m                                Traceback (most recent call last)",
      "\u001b[1;32md:\\SCIENCE, BITCH\\IT\\CV\\task6\\sandbox.ipynb Cell 47\u001b[0m line \u001b[0;36m<cell line: 1>\u001b[1;34m()\u001b[0m\n\u001b[1;32m----> <a href='vscode-notebook-cell:/d%3A/SCIENCE%2C%20BITCH/IT/CV/task6/sandbox.ipynb#Y111sZmlsZQ%3D%3D?line=0'>1</a>\u001b[0m maxes \u001b[39m=\u001b[39m maxes\u001b[39m.\u001b[39;49mtranspose((\u001b[39m0\u001b[39;49m, \u001b[39m1\u001b[39;49m, \u001b[39m2\u001b[39;49m,\u001b[39m4\u001b[39;49m,\u001b[39m3\u001b[39;49m,\u001b[39m5\u001b[39;49m))\u001b[39m.\u001b[39mreshape(x\u001b[39m.\u001b[39mshape[\u001b[39m0\u001b[39m], x\u001b[39m.\u001b[39mshape[\u001b[39m1\u001b[39m], x\u001b[39m.\u001b[39mshape[\u001b[39m2\u001b[39m]\u001b[39m/\u001b[39m\u001b[39m/\u001b[39mp, x\u001b[39m.\u001b[39mshape[\u001b[39m3\u001b[39m]\u001b[39m/\u001b[39m\u001b[39m/\u001b[39mp)\n",
      "\u001b[1;31mValueError\u001b[0m: axes don't match array"
     ]
    }
   ],
   "source": [
    "#maxes = maxes.transpose((0, 1, 2,4,3,5)).reshape(x.shape[0], x.shape[1], x.shape[2]//p, x.shape[3]//p)\n",
    "maxes.shape"
   ]
  },
  {
   "cell_type": "code",
   "execution_count": null,
   "metadata": {},
   "outputs": [
    {
     "data": {
      "text/plain": [
       "array([[[[ 20,  20,  20,  20],\n",
       "         [ 25,  27,  29,  31]],\n",
       "\n",
       "        [[ 41,  43,  45,  47],\n",
       "         [ 57,  59,  61,  63]],\n",
       "\n",
       "        [[ 73,  75,  77,  79],\n",
       "         [ 89,  91,  93,  95]]],\n",
       "\n",
       "\n",
       "       [[[105, 107, 109, 111],\n",
       "         [121, 123, 125, 127]],\n",
       "\n",
       "        [[137, 139, 141, 143],\n",
       "         [153, 155, 157, 159]],\n",
       "\n",
       "        [[169, 171, 173, 175],\n",
       "         [185, 187, 189, 191]]]])"
      ]
     },
     "execution_count": 252,
     "metadata": {},
     "output_type": "execute_result"
    }
   ],
   "source": [
    "maxes"
   ]
  },
  {
   "cell_type": "code",
   "execution_count": null,
   "metadata": {},
   "outputs": [],
   "source": [
    "block_means = np.sum(C, axis=(-1,-2)) / p**2"
   ]
  },
  {
   "cell_type": "code",
   "execution_count": null,
   "metadata": {},
   "outputs": [],
   "source": [
    "block_means = block_means.reshape(x.shape[0], x.shape[1], x.shape[2]//p, x.shape[3]//p)"
   ]
  },
  {
   "cell_type": "code",
   "execution_count": null,
   "metadata": {},
   "outputs": [
    {
     "data": {
      "text/plain": [
       "array([[[[  9.5,  11. ,  12.5,  14. ],\n",
       "         [ 21.5,  23. ,  24.5,  26. ]],\n",
       "\n",
       "        [[ 33.5,  35. ,  36.5,  38. ],\n",
       "         [ 45.5,  47. ,  48.5,  50. ]],\n",
       "\n",
       "        [[ 57.5,  59. ,  60.5,  62. ],\n",
       "         [ 69.5,  71. ,  72.5,  74. ]]],\n",
       "\n",
       "\n",
       "       [[[ 81.5,  83. ,  84.5,  86. ],\n",
       "         [ 93.5,  95. ,  96.5,  98. ]],\n",
       "\n",
       "        [[105.5, 107. , 108.5, 110. ],\n",
       "         [117.5, 119. , 120.5, 122. ]],\n",
       "\n",
       "        [[129.5, 131. , 132.5, 134. ],\n",
       "         [141.5, 143. , 144.5, 146. ]]]])"
      ]
     },
     "execution_count": 255,
     "metadata": {},
     "output_type": "execute_result"
    }
   ],
   "source": [
    "block_means"
   ]
  },
  {
   "cell_type": "code",
   "execution_count": null,
   "metadata": {},
   "outputs": [
    {
     "data": {
      "text/plain": [
       "array([[ 20,   1,   8,   9],\n",
       "       [ 20,   3,  10,  11],\n",
       "       [ 20,   5,  12,  13],\n",
       "       [ 20,   7,  14,  15],\n",
       "       [ 20,  17,  24,  25],\n",
       "       [ 20,  19,  26,  27],\n",
       "       [ 20,  21,  28,  29],\n",
       "       [ 20,  23,  30,  31],\n",
       "       [ 20,  33,  40,  41],\n",
       "       [ 20,  35,  42,  43],\n",
       "       [ 20,  37,  44,  45],\n",
       "       [ 20,  39,  46,  47],\n",
       "       [ 20,  49,  56,  57],\n",
       "       [ 20,  51,  58,  59],\n",
       "       [ 20,  53,  60,  61],\n",
       "       [ 20,  55,  62,  63],\n",
       "       [ 20,  65,  72,  73],\n",
       "       [ 20,  67,  74,  75],\n",
       "       [ 20,  69,  76,  77],\n",
       "       [ 20,  71,  78,  79],\n",
       "       [ 20,  81,  88,  89],\n",
       "       [ 20,  83,  90,  91],\n",
       "       [ 20,  85,  92,  93],\n",
       "       [ 20,  87,  94,  95],\n",
       "       [ 20,  97, 104, 105],\n",
       "       [ 20,  99, 106, 107],\n",
       "       [ 20, 101, 108, 109],\n",
       "       [ 20, 103, 110, 111],\n",
       "       [ 20, 113, 120, 121],\n",
       "       [ 20, 115, 122, 123],\n",
       "       [ 20, 117, 124, 125],\n",
       "       [ 20, 119, 126, 127],\n",
       "       [ 20, 129, 136, 137],\n",
       "       [ 20, 131, 138, 139],\n",
       "       [ 20, 133, 140, 141],\n",
       "       [ 20, 135, 142, 143],\n",
       "       [ 20, 145, 152, 153],\n",
       "       [ 20, 147, 154, 155],\n",
       "       [ 20, 149, 156, 157],\n",
       "       [ 20, 151, 158, 159],\n",
       "       [ 20, 161, 168, 169],\n",
       "       [ 20, 163, 170, 171],\n",
       "       [ 20, 165, 172, 173],\n",
       "       [ 20, 167, 174, 175],\n",
       "       [ 20, 177, 184, 185],\n",
       "       [ 20, 179, 186, 187],\n",
       "       [ 20, 181, 188, 189],\n",
       "       [ 20, 183, 190, 191]])"
      ]
     },
     "execution_count": 262,
     "metadata": {},
     "output_type": "execute_result"
    }
   ],
   "source": [
    "flatten = C.reshape(-1, p*p)\n",
    "flatten"
   ]
  },
  {
   "cell_type": "code",
   "execution_count": null,
   "metadata": {},
   "outputs": [
    {
     "data": {
      "text/plain": [
       "array([0, 0, 0, 0, 3, 3, 3, 3, 3, 3, 3, 3, 3, 3, 3, 3, 3, 3, 3, 3, 3, 3,\n",
       "       3, 3, 3, 3, 3, 3, 3, 3, 3, 3, 3, 3, 3, 3, 3, 3, 3, 3, 3, 3, 3, 3,\n",
       "       3, 3, 3, 3], dtype=int64)"
      ]
     },
     "execution_count": 263,
     "metadata": {},
     "output_type": "execute_result"
    }
   ],
   "source": [
    "am = np.argmax(flatten, axis=-1)#.reshape(-1, 1)\n",
    "am"
   ]
  },
  {
   "cell_type": "code",
   "execution_count": null,
   "metadata": {},
   "outputs": [],
   "source": [
    "maxes_flatten = np.repeat(maxes.reshape(-1, 1), p*p, axis=-1)\n",
    "zeros_flarren = np.zeros_like(maxes_flatten)\n",
    "zeros_flarren[(np.arange(maxes_flatten.shape[0]), am)] = maxes_flatten[(np.arange(maxes_flatten.shape[0]), am)]"
   ]
  },
  {
   "cell_type": "code",
   "execution_count": null,
   "metadata": {},
   "outputs": [
    {
     "data": {
      "text/plain": [
       "array([[ 20,   0,   0,   0],\n",
       "       [ 20,   0,   0,   0],\n",
       "       [ 20,   0,   0,   0],\n",
       "       [ 20,   0,   0,   0],\n",
       "       [  0,   0,   0,  25],\n",
       "       [  0,   0,   0,  27],\n",
       "       [  0,   0,   0,  29],\n",
       "       [  0,   0,   0,  31],\n",
       "       [  0,   0,   0,  41],\n",
       "       [  0,   0,   0,  43],\n",
       "       [  0,   0,   0,  45],\n",
       "       [  0,   0,   0,  47],\n",
       "       [  0,   0,   0,  57],\n",
       "       [  0,   0,   0,  59],\n",
       "       [  0,   0,   0,  61],\n",
       "       [  0,   0,   0,  63],\n",
       "       [  0,   0,   0,  73],\n",
       "       [  0,   0,   0,  75],\n",
       "       [  0,   0,   0,  77],\n",
       "       [  0,   0,   0,  79],\n",
       "       [  0,   0,   0,  89],\n",
       "       [  0,   0,   0,  91],\n",
       "       [  0,   0,   0,  93],\n",
       "       [  0,   0,   0,  95],\n",
       "       [  0,   0,   0, 105],\n",
       "       [  0,   0,   0, 107],\n",
       "       [  0,   0,   0, 109],\n",
       "       [  0,   0,   0, 111],\n",
       "       [  0,   0,   0, 121],\n",
       "       [  0,   0,   0, 123],\n",
       "       [  0,   0,   0, 125],\n",
       "       [  0,   0,   0, 127],\n",
       "       [  0,   0,   0, 137],\n",
       "       [  0,   0,   0, 139],\n",
       "       [  0,   0,   0, 141],\n",
       "       [  0,   0,   0, 143],\n",
       "       [  0,   0,   0, 153],\n",
       "       [  0,   0,   0, 155],\n",
       "       [  0,   0,   0, 157],\n",
       "       [  0,   0,   0, 159],\n",
       "       [  0,   0,   0, 169],\n",
       "       [  0,   0,   0, 171],\n",
       "       [  0,   0,   0, 173],\n",
       "       [  0,   0,   0, 175],\n",
       "       [  0,   0,   0, 185],\n",
       "       [  0,   0,   0, 187],\n",
       "       [  0,   0,   0, 189],\n",
       "       [  0,   0,   0, 191]])"
      ]
     },
     "execution_count": 265,
     "metadata": {},
     "output_type": "execute_result"
    }
   ],
   "source": [
    "zeros_flarren"
   ]
  },
  {
   "cell_type": "code",
   "execution_count": null,
   "metadata": {},
   "outputs": [
    {
     "data": {
      "text/plain": [
       "array([[[[ 20,   0,  20,   0,  20,   0,  20,   0],\n",
       "         [  0,   0,   0,   0,   0,   0,   0,   0],\n",
       "         [  0,   0,   0,   0,   0,   0,   0,   0],\n",
       "         [  0,  25,   0,  27,   0,  29,   0,  31]],\n",
       "\n",
       "        [[  0,   0,   0,   0,   0,   0,   0,   0],\n",
       "         [  0,  41,   0,  43,   0,  45,   0,  47],\n",
       "         [  0,   0,   0,   0,   0,   0,   0,   0],\n",
       "         [  0,  57,   0,  59,   0,  61,   0,  63]],\n",
       "\n",
       "        [[  0,   0,   0,   0,   0,   0,   0,   0],\n",
       "         [  0,  73,   0,  75,   0,  77,   0,  79],\n",
       "         [  0,   0,   0,   0,   0,   0,   0,   0],\n",
       "         [  0,  89,   0,  91,   0,  93,   0,  95]]],\n",
       "\n",
       "\n",
       "       [[[  0,   0,   0,   0,   0,   0,   0,   0],\n",
       "         [  0, 105,   0, 107,   0, 109,   0, 111],\n",
       "         [  0,   0,   0,   0,   0,   0,   0,   0],\n",
       "         [  0, 121,   0, 123,   0, 125,   0, 127]],\n",
       "\n",
       "        [[  0,   0,   0,   0,   0,   0,   0,   0],\n",
       "         [  0, 137,   0, 139,   0, 141,   0, 143],\n",
       "         [  0,   0,   0,   0,   0,   0,   0,   0],\n",
       "         [  0, 153,   0, 155,   0, 157,   0, 159]],\n",
       "\n",
       "        [[  0,   0,   0,   0,   0,   0,   0,   0],\n",
       "         [  0, 169,   0, 171,   0, 173,   0, 175],\n",
       "         [  0,   0,   0,   0,   0,   0,   0,   0],\n",
       "         [  0, 185,   0, 187,   0, 189,   0, 191]]]])"
      ]
     },
     "execution_count": 270,
     "metadata": {},
     "output_type": "execute_result"
    }
   ],
   "source": [
    "zeros_flarren.reshape(x.shape[0], x.shape[1], -1, x.shape[-1]//p, p, p).transpose(0, 1, 2, 4, 3, 5).reshape(x.shape[0], x.shape[1], x.shape[2], x.shape[3])"
   ]
  },
  {
   "cell_type": "code",
   "execution_count": null,
   "metadata": {},
   "outputs": [
    {
     "data": {
      "text/plain": [
       "(2, 3, 4, 8)"
      ]
     },
     "execution_count": 271,
     "metadata": {},
     "output_type": "execute_result"
    }
   ],
   "source": [
    "x.shape"
   ]
  },
  {
   "cell_type": "code",
   "execution_count": null,
   "metadata": {},
   "outputs": [
    {
     "data": {
      "text/plain": [
       "63.37931444880104"
      ]
     },
     "execution_count": 284,
     "metadata": {},
     "output_type": "execute_result"
    }
   ],
   "source": [
    "avg = 0\n",
    "t = 0\n",
    "for n in range(x.shape[0]):\n",
    "    for h in range(x.shape[-2]):\n",
    "        for w in range(x.shape[-1]):\n",
    "            avg += x[n, 2, h, w]\n",
    "            t+=1\n",
    "avg = avg / t\n",
    "std = 0\n",
    "for n in range(x.shape[0]):\n",
    "    for h in range(x.shape[-2]):\n",
    "        for w in range(x.shape[-1]):\n",
    "            std += (x[n, 2, h, w] - avg)**2\n",
    "np.sqrt(std / t)"
   ]
  },
  {
   "cell_type": "code",
   "execution_count": null,
   "metadata": {},
   "outputs": [
    {
     "data": {
      "text/plain": [
       "array([ 53.75,  77.75, 101.75])"
      ]
     },
     "execution_count": 278,
     "metadata": {},
     "output_type": "execute_result"
    }
   ],
   "source": [
    "x_tr = x.transpose(1, 0, 2, 3)\n",
    "np.mean(x_tr.reshape(x_tr.shape[0], -1), axis=1)"
   ]
  },
  {
   "cell_type": "code",
   "execution_count": null,
   "metadata": {},
   "outputs": [
    {
     "data": {
      "text/plain": [
       "array([46.57185309, 53.86035184, 63.37931445])"
      ]
     },
     "execution_count": 282,
     "metadata": {},
     "output_type": "execute_result"
    }
   ],
   "source": [
    "np.std(x_tr.reshape(x_tr.shape[0], -1), axis=1)"
   ]
  },
  {
   "cell_type": "code",
   "execution_count": null,
   "metadata": {},
   "outputs": [
    {
     "data": {
      "text/plain": [
       "(2, 3, 4, 8)"
      ]
     },
     "execution_count": 286,
     "metadata": {},
     "output_type": "execute_result"
    }
   ],
   "source": [
    "x.shape"
   ]
  },
  {
   "cell_type": "code",
   "execution_count": null,
   "metadata": {},
   "outputs": [
    {
     "data": {
      "text/plain": [
       "(64,)"
      ]
     },
     "execution_count": 289,
     "metadata": {},
     "output_type": "execute_result"
    }
   ],
   "source": [
    "np.sum(x.reshape(x.shape[1], -1), axis = 0).shape"
   ]
  },
  {
   "cell_type": "code",
   "execution_count": null,
   "metadata": {},
   "outputs": [],
   "source": []
  }
 ],
 "metadata": {
  "kernelspec": {
   "display_name": "Python 3",
   "language": "python",
   "name": "python3"
  },
  "language_info": {
   "codemirror_mode": {
    "name": "ipython",
    "version": 3
   },
   "file_extension": ".py",
   "mimetype": "text/x-python",
   "name": "python",
   "nbconvert_exporter": "python",
   "pygments_lexer": "ipython3",
   "version": "3.10.3"
  }
 },
 "nbformat": 4,
 "nbformat_minor": 2
}
