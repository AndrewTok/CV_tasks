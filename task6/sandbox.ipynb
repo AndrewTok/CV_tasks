{
 "cells": [
  {
   "cell_type": "code",
   "execution_count": 3,
   "metadata": {},
   "outputs": [],
   "source": [
    "import numpy as np"
   ]
  },
  {
   "cell_type": "code",
   "execution_count": 4,
   "metadata": {},
   "outputs": [
    {
     "data": {
      "text/plain": [
       "array([[0, 1],\n",
       "       [2, 3],\n",
       "       [4, 5],\n",
       "       [6, 7],\n",
       "       [8, 9]])"
      ]
     },
     "execution_count": 4,
     "metadata": {},
     "output_type": "execute_result"
    }
   ],
   "source": [
    "a = np.arange(10).reshape(5, 2)\n",
    "a"
   ]
  },
  {
   "cell_type": "code",
   "execution_count": 5,
   "metadata": {},
   "outputs": [
    {
     "data": {
      "text/plain": [
       "array([[1.00000000e+00, 2.71828183e+00],\n",
       "       [7.38905610e+00, 2.00855369e+01],\n",
       "       [5.45981500e+01, 1.48413159e+02],\n",
       "       [4.03428793e+02, 1.09663316e+03],\n",
       "       [2.98095799e+03, 8.10308393e+03]])"
      ]
     },
     "execution_count": 5,
     "metadata": {},
     "output_type": "execute_result"
    }
   ],
   "source": [
    "exps = np.exp(a)\n",
    "exps"
   ]
  },
  {
   "cell_type": "code",
   "execution_count": 6,
   "metadata": {},
   "outputs": [
    {
     "data": {
      "text/plain": [
       "array([[3.71828183e+00],\n",
       "       [2.74745930e+01],\n",
       "       [2.03011309e+02],\n",
       "       [1.50006195e+03],\n",
       "       [1.10840419e+04]])"
      ]
     },
     "execution_count": 6,
     "metadata": {},
     "output_type": "execute_result"
    }
   ],
   "source": [
    "norms = np.sum(exps, axis = 1)\n",
    "norms = norms[:, None]\n",
    "norms"
   ]
  },
  {
   "cell_type": "code",
   "execution_count": 7,
   "metadata": {},
   "outputs": [
    {
     "data": {
      "text/plain": [
       "array([[0.26894142, 0.73105858],\n",
       "       [0.26894142, 0.73105858],\n",
       "       [0.26894142, 0.73105858],\n",
       "       [0.26894142, 0.73105858],\n",
       "       [0.26894142, 0.73105858]])"
      ]
     },
     "execution_count": 7,
     "metadata": {},
     "output_type": "execute_result"
    }
   ],
   "source": [
    "# norms = [1,2]\n",
    "normalized = exps / norms\n",
    "normalized"
   ]
  },
  {
   "cell_type": "code",
   "execution_count": 8,
   "metadata": {},
   "outputs": [
    {
     "data": {
      "text/plain": [
       "array([1.34470711, 3.65529289])"
      ]
     },
     "execution_count": 8,
     "metadata": {},
     "output_type": "execute_result"
    }
   ],
   "source": [
    "np.sum(normalized, axis = 0)"
   ]
  },
  {
   "cell_type": "code",
   "execution_count": 9,
   "metadata": {},
   "outputs": [],
   "source": [
    "def SM(a):\n",
    "    inputs = a.copy()\n",
    "    inputs -= inputs.max()\n",
    "    print(inputs.shape)\n",
    "    exps = np.exp(inputs)\n",
    "    print(exps.shape)\n",
    "    norm_coefs = np.sum(exps, axis=1)[:,None]\n",
    "    return np.divide(exps, norm_coefs)"
   ]
  },
  {
   "cell_type": "code",
   "execution_count": 10,
   "metadata": {},
   "outputs": [],
   "source": [
    "a = np.array([[-264., -346.], [-130., 241.], [-745., -601.], [-662., -4.], [ 749.,  305.],\n",
    "                  [ 716.,  485.],\n",
    "                  [1004., -711.],\n",
    "                  [ 512.,  682.],\n",
    "                  [ 166.,  393.],\n",
    "                  [-255.,   62.],                  [-753.,   36.],\n",
    "                 [  15.,  765.],\n",
    "                 [-682., -679.],\n",
    "                 [ 847.,  538.],\n",
    "                 [ 958.,  622.],\n",
    "                 [-792.,  -35.],\n",
    "                  [-449.,  608.],\n",
    "                  [-609., -120.],\n",
    "                  [-758.,  -28.],\n",
    "                  [ 325.,  925.],\n",
    "                  [-281., -114.],\n",
    "                  [-582., -465.],\n",
    "                  [ 861.,  721.],\n",
    "                  [-949., -778.],\n",
    "                  [ 827., -445.],\n",
    "                 [-712., -449.],\n",
    "                  [ 693.,  591.],\n",
    "                  [-682., -310.],\n",
    "                [ 181.,  954.],\n",
    "                 [ -41., -299.],\n",
    "                  [ 934., -393.],\n",
    "                  [-626.,  240.]])"
   ]
  },
  {
   "cell_type": "code",
   "execution_count": 11,
   "metadata": {},
   "outputs": [
    {
     "name": "stdout",
     "output_type": "stream",
     "text": [
      "(32, 2)\n",
      "(32, 2)\n"
     ]
    },
    {
     "name": "stderr",
     "output_type": "stream",
     "text": [
      "C:\\Users\\Андрей\\AppData\\Local\\Temp\\ipykernel_18348\\3472492231.py:8: RuntimeWarning: invalid value encountered in divide\n",
      "  return np.divide(exps, norm_coefs)\n"
     ]
    },
    {
     "data": {
      "text/plain": [
       "array([[            nan,             nan],\n",
       "       [            nan,             nan],\n",
       "       [            nan,             nan],\n",
       "       [            nan,             nan],\n",
       "       [1.00000000e+000, 1.49021879e-193],\n",
       "       [1.00000000e+000, 4.76403211e-101],\n",
       "       [1.00000000e+000, 0.00000000e+000],\n",
       "       [1.47889751e-074, 1.00000000e+000],\n",
       "       [0.00000000e+000, 1.00000000e+000],\n",
       "       [            nan,             nan],\n",
       "       [            nan,             nan],\n",
       "       [0.00000000e+000, 1.00000000e+000],\n",
       "       [            nan,             nan],\n",
       "       [1.00000000e+000, 6.35338381e-135],\n",
       "       [1.00000000e+000, 1.19413680e-146],\n",
       "       [            nan,             nan],\n",
       "       [0.00000000e+000, 1.00000000e+000],\n",
       "       [            nan,             nan],\n",
       "       [            nan,             nan],\n",
       "       [2.65039655e-261, 1.00000000e+000],\n",
       "       [            nan,             nan],\n",
       "       [            nan,             nan],\n",
       "       [1.00000000e+000, 1.58042006e-061],\n",
       "       [            nan,             nan],\n",
       "       [1.00000000e+000, 0.00000000e+000],\n",
       "       [            nan,             nan],\n",
       "       [1.00000000e+000, 5.03457536e-045],\n",
       "       [            nan,             nan],\n",
       "       [0.00000000e+000, 1.00000000e+000],\n",
       "       [            nan,             nan],\n",
       "       [1.00000000e+000, 0.00000000e+000],\n",
       "       [            nan,             nan]])"
      ]
     },
     "execution_count": 11,
     "metadata": {},
     "output_type": "execute_result"
    }
   ],
   "source": [
    "SM(a)"
   ]
  },
  {
   "cell_type": "code",
   "execution_count": null,
   "metadata": {},
   "outputs": [],
   "source": []
  },
  {
   "cell_type": "code",
   "execution_count": 12,
   "metadata": {},
   "outputs": [
    {
     "data": {
      "text/plain": [
       "(3, 4)"
      ]
     },
     "execution_count": 12,
     "metadata": {},
     "output_type": "execute_result"
    }
   ],
   "source": [
    "y_gt = np.array([[0., 0., 1., 0.], [0., 0., 1., 0.], [0., 1., 0., 0.]])\n",
    "y_gt.shape"
   ]
  },
  {
   "cell_type": "code",
   "execution_count": 13,
   "metadata": {},
   "outputs": [],
   "source": [
    "target_indices = np.argmax(y_gt, axis=1)"
   ]
  },
  {
   "cell_type": "code",
   "execution_count": 14,
   "metadata": {},
   "outputs": [],
   "source": [
    "y_pred = np.array([[0.33691088, 0.3064258 , 0.1339102 , 0.22275312], [0.24908269, 0.05323729, 0.21219856, 0.48548146],\n",
    "                [0.28376126, 0.41721049, 0.09371058, 0.20531767]])"
   ]
  },
  {
   "cell_type": "code",
   "execution_count": 15,
   "metadata": {},
   "outputs": [
    {
     "data": {
      "text/plain": [
       "(3, 4)"
      ]
     },
     "execution_count": 15,
     "metadata": {},
     "output_type": "execute_result"
    }
   ],
   "source": [
    "y_pred.shape"
   ]
  },
  {
   "cell_type": "code",
   "execution_count": 16,
   "metadata": {},
   "outputs": [
    {
     "data": {
      "text/plain": [
       "array([0.1339102 , 0.21219856, 0.41721049])"
      ]
     },
     "execution_count": 16,
     "metadata": {},
     "output_type": "execute_result"
    }
   ],
   "source": [
    "probs = y_pred[(np.arange(3), target_indices)]\n",
    "probs"
   ]
  },
  {
   "cell_type": "code",
   "execution_count": 17,
   "metadata": {},
   "outputs": [],
   "source": [
    "loss = -np.mean((np.log(probs)))[None]"
   ]
  },
  {
   "cell_type": "code",
   "execution_count": 18,
   "metadata": {},
   "outputs": [
    {
     "data": {
      "text/plain": [
       "(2, 3, 4, 4)"
      ]
     },
     "execution_count": 18,
     "metadata": {},
     "output_type": "execute_result"
    }
   ],
   "source": [
    "img = np.arange(25).reshape(5,5)\n",
    "img = np.stack([img, img], axis=0)\n",
    "img = np.stack([img, img], axis = 0)\n",
    "kernel = np.array([[0, 1],[0, 0]])\n",
    "kernel = np.stack([kernel, kernel], axis = 0)\n",
    "kernel = np.stack([kernel, kernel, kernel], axis = 0)\n",
    "res = np.zeros((img.shape[0],kernel.shape[0], img.shape[-2]- kernel.shape[-2]//2,img.shape[-1] - kernel.shape[-1]//2))\n",
    "res.shape"
   ]
  },
  {
   "cell_type": "code",
   "execution_count": 19,
   "metadata": {},
   "outputs": [
    {
     "data": {
      "text/plain": [
       "(2, 2, 5, 5)"
      ]
     },
     "execution_count": 19,
     "metadata": {},
     "output_type": "execute_result"
    }
   ],
   "source": [
    "img.shape"
   ]
  },
  {
   "cell_type": "code",
   "execution_count": 20,
   "metadata": {},
   "outputs": [
    {
     "data": {
      "text/plain": [
       "array([[[ 0,  1,  2,  3,  4],\n",
       "        [ 5,  6,  7,  8,  9],\n",
       "        [10, 11, 12, 13, 14],\n",
       "        [15, 16, 17, 18, 19],\n",
       "        [20, 21, 22, 23, 24]],\n",
       "\n",
       "       [[ 0,  1,  2,  3,  4],\n",
       "        [ 5,  6,  7,  8,  9],\n",
       "        [10, 11, 12, 13, 14],\n",
       "        [15, 16, 17, 18, 19],\n",
       "        [20, 21, 22, 23, 24]]])"
      ]
     },
     "execution_count": 20,
     "metadata": {},
     "output_type": "execute_result"
    }
   ],
   "source": [
    "img[0]"
   ]
  },
  {
   "cell_type": "code",
   "execution_count": 21,
   "metadata": {},
   "outputs": [
    {
     "data": {
      "text/plain": [
       "array([[[[0, 1],\n",
       "         [0, 0]],\n",
       "\n",
       "        [[0, 1],\n",
       "         [0, 0]]],\n",
       "\n",
       "\n",
       "       [[[0, 1],\n",
       "         [0, 0]],\n",
       "\n",
       "        [[0, 1],\n",
       "         [0, 0]]],\n",
       "\n",
       "\n",
       "       [[[0, 1],\n",
       "         [0, 0]],\n",
       "\n",
       "        [[0, 1],\n",
       "         [0, 0]]]])"
      ]
     },
     "execution_count": 21,
     "metadata": {},
     "output_type": "execute_result"
    }
   ],
   "source": [
    "kernel"
   ]
  },
  {
   "cell_type": "code",
   "execution_count": 22,
   "metadata": {},
   "outputs": [
    {
     "data": {
      "text/plain": [
       "(3, 2, 2, 2)"
      ]
     },
     "execution_count": 22,
     "metadata": {},
     "output_type": "execute_result"
    }
   ],
   "source": [
    "kernel.shape"
   ]
  },
  {
   "cell_type": "code",
   "execution_count": 23,
   "metadata": {},
   "outputs": [
    {
     "data": {
      "text/plain": [
       "(2, 1, 2, 5, 5)"
      ]
     },
     "execution_count": 23,
     "metadata": {},
     "output_type": "execute_result"
    }
   ],
   "source": [
    "ext_img = img[:,None,...]\n",
    "ext_img.shape"
   ]
  },
  {
   "cell_type": "code",
   "execution_count": 24,
   "metadata": {},
   "outputs": [
    {
     "data": {
      "text/plain": [
       "(1, 3, 2, 2, 2)"
      ]
     },
     "execution_count": 24,
     "metadata": {},
     "output_type": "execute_result"
    }
   ],
   "source": [
    "ext_kernel = kernel[None,...]\n",
    "ext_kernel.shape"
   ]
  },
  {
   "cell_type": "code",
   "execution_count": 25,
   "metadata": {},
   "outputs": [],
   "source": [
    "img = np.array([[[[ 205., 985., -846., -828., 1014.], [-290., -936., -226.,  433., -237.],\n",
    "                        [-277.,  182., -816., -532.,  129.],\n",
    "                        [-360.,   12.,  633., -154., -293.],\n",
    "                        [ 105.,  374.,  581.,  706., -327.]]]])\n",
    "\n",
    "kernel = np.array([[[[ 98., -431., 586.], [-139., -173., 191.], [-700., -46.,  725.]]]])"
   ]
  },
  {
   "cell_type": "code",
   "execution_count": 26,
   "metadata": {},
   "outputs": [
    {
     "name": "stdout",
     "output_type": "stream",
     "text": [
      "(1, 1, 5, 5)\n"
     ]
    },
    {
     "data": {
      "text/plain": [
       "(1, 1, 3, 3)"
      ]
     },
     "execution_count": 26,
     "metadata": {},
     "output_type": "execute_result"
    }
   ],
   "source": [
    "print(img.shape)\n",
    "kernel.shape"
   ]
  },
  {
   "cell_type": "code",
   "execution_count": 27,
   "metadata": {},
   "outputs": [
    {
     "name": "stdout",
     "output_type": "stream",
     "text": [
      "(1, 1, 1, 5, 5)\n",
      "(1, 1, 1, 3, 3)\n"
     ]
    }
   ],
   "source": [
    "ext_img = img[:,None,...]\n",
    "print(ext_img.shape)\n",
    "\n",
    "ext_kernel = kernel[None,...]\n",
    "print(ext_kernel.shape)"
   ]
  },
  {
   "cell_type": "code",
   "execution_count": null,
   "metadata": {},
   "outputs": [],
   "source": []
  },
  {
   "cell_type": "code",
   "execution_count": 28,
   "metadata": {},
   "outputs": [],
   "source": [
    "res = np.zeros((img.shape[0],kernel.shape[0], img.shape[-2]- kernel.shape[-2] + 1,img.shape[-1] - kernel.shape[-1] + 1))"
   ]
  },
  {
   "cell_type": "code",
   "execution_count": 29,
   "metadata": {},
   "outputs": [
    {
     "data": {
      "text/plain": [
       "array([[-1147201.,  -247711.,  1468599.],\n",
       "       [  804094.,   124506.,  -765995.],\n",
       "       [  -84376.,   140513.,  -568641.]])"
      ]
     },
     "execution_count": 29,
     "metadata": {},
     "output_type": "execute_result"
    }
   ],
   "source": [
    "di = kernel.shape[-2]\n",
    "dj = kernel.shape[-1]\n",
    "for i in range(res.shape[-2]):\n",
    "    for j in range(res.shape[-1]):\n",
    "        # print(ext_img[...,i:i+di,j:j+dj])\n",
    "        res[...,i,j] = np.sum(ext_kernel*ext_img[...,i:i+di,j:j+dj])\n",
    "res[0,0]"
   ]
  },
  {
   "cell_type": "code",
   "execution_count": 30,
   "metadata": {},
   "outputs": [
    {
     "data": {
      "text/plain": [
       "(1, 1, 7, 9)"
      ]
     },
     "execution_count": 30,
     "metadata": {},
     "output_type": "execute_result"
    }
   ],
   "source": [
    "np.pad(img, [[0,0],[0,0],[1,1],[2,2]]).shape"
   ]
  },
  {
   "cell_type": "code",
   "execution_count": 31,
   "metadata": {},
   "outputs": [
    {
     "data": {
      "text/plain": [
       "array([[[ 205.,  985., -846., -828., 1014.],\n",
       "        [-290., -936., -226.,  433., -237.],\n",
       "        [-277.,  182., -816., -532.,  129.],\n",
       "        [-360.,   12.,  633., -154., -293.],\n",
       "        [ 105.,  374.,  581.,  706., -327.]]])"
      ]
     },
     "execution_count": 31,
     "metadata": {},
     "output_type": "execute_result"
    }
   ],
   "source": [
    "img[0]"
   ]
  },
  {
   "cell_type": "code",
   "execution_count": 32,
   "metadata": {},
   "outputs": [
    {
     "data": {
      "text/plain": [
       "array([[[  98., -431.,  586.],\n",
       "        [-139., -173.,  191.],\n",
       "        [-700.,  -46.,  725.]]])"
      ]
     },
     "execution_count": 32,
     "metadata": {},
     "output_type": "execute_result"
    }
   ],
   "source": [
    "kernel[0]"
   ]
  },
  {
   "cell_type": "code",
   "execution_count": 33,
   "metadata": {},
   "outputs": [
    {
     "data": {
      "text/plain": [
       "-1147201.0"
      ]
     },
     "execution_count": 33,
     "metadata": {},
     "output_type": "execute_result"
    }
   ],
   "source": [
    "np.sum((kernel[0]*img[...,:kernel.shape[-2], :kernel.shape[-1]]))"
   ]
  },
  {
   "cell_type": "code",
   "execution_count": 56,
   "metadata": {},
   "outputs": [],
   "source": [
    "x = np.arange(54).reshape(2, 3,3,3)"
   ]
  },
  {
   "cell_type": "code",
   "execution_count": 57,
   "metadata": {},
   "outputs": [
    {
     "data": {
      "text/plain": [
       "array([[[[ 0,  1,  2],\n",
       "         [ 3,  4,  5],\n",
       "         [ 6,  7,  8]],\n",
       "\n",
       "        [[ 9, 10, 11],\n",
       "         [12, 13, 14],\n",
       "         [15, 16, 17]],\n",
       "\n",
       "        [[18, 19, 20],\n",
       "         [21, 22, 23],\n",
       "         [24, 25, 26]]],\n",
       "\n",
       "\n",
       "       [[[27, 28, 29],\n",
       "         [30, 31, 32],\n",
       "         [33, 34, 35]],\n",
       "\n",
       "        [[36, 37, 38],\n",
       "         [39, 40, 41],\n",
       "         [42, 43, 44]],\n",
       "\n",
       "        [[45, 46, 47],\n",
       "         [48, 49, 50],\n",
       "         [51, 52, 53]]]])"
      ]
     },
     "execution_count": 57,
     "metadata": {},
     "output_type": "execute_result"
    }
   ],
   "source": [
    "x"
   ]
  },
  {
   "cell_type": "code",
   "execution_count": 58,
   "metadata": {},
   "outputs": [
    {
     "data": {
      "text/plain": [
       "(2, 3, 3, 3)"
      ]
     },
     "execution_count": 58,
     "metadata": {},
     "output_type": "execute_result"
    }
   ],
   "source": [
    "x.shape"
   ]
  },
  {
   "cell_type": "code",
   "execution_count": 59,
   "metadata": {},
   "outputs": [],
   "source": [
    "xx = np.sum(x, axis = 0) #x.reshape(x.shape[0], -1)"
   ]
  },
  {
   "cell_type": "code",
   "execution_count": 61,
   "metadata": {},
   "outputs": [
    {
     "data": {
      "text/plain": [
       "(3, 3, 3)"
      ]
     },
     "execution_count": 61,
     "metadata": {},
     "output_type": "execute_result"
    }
   ],
   "source": [
    "xx.shape"
   ]
  },
  {
   "cell_type": "code",
   "execution_count": 62,
   "metadata": {},
   "outputs": [
    {
     "data": {
      "text/plain": [
       "array([153, 477, 801])"
      ]
     },
     "execution_count": 62,
     "metadata": {},
     "output_type": "execute_result"
    }
   ],
   "source": [
    "np.sum(x.reshape(xx.shape[0], -1), axis = 1)"
   ]
  },
  {
   "cell_type": "code",
   "execution_count": 101,
   "metadata": {},
   "outputs": [],
   "source": [
    "size_1 = 4\n",
    "size_2 = 8"
   ]
  },
  {
   "cell_type": "code",
   "execution_count": 102,
   "metadata": {},
   "outputs": [],
   "source": [
    "x = np.arange(size_1*size_2).reshape(size_1, size_2)"
   ]
  },
  {
   "cell_type": "code",
   "execution_count": 103,
   "metadata": {},
   "outputs": [
    {
     "data": {
      "text/plain": [
       "array([[ 0,  1,  2,  3,  4,  5,  6,  7],\n",
       "       [ 8,  9, 10, 11, 12, 13, 14, 15],\n",
       "       [16, 17, 18, 19, 20, 21, 22, 23],\n",
       "       [24, 25, 26, 27, 28, 29, 30, 31]])"
      ]
     },
     "execution_count": 103,
     "metadata": {},
     "output_type": "execute_result"
    }
   ],
   "source": [
    "x"
   ]
  },
  {
   "cell_type": "code",
   "execution_count": 94,
   "metadata": {},
   "outputs": [],
   "source": [
    "p = 2"
   ]
  },
  {
   "cell_type": "code",
   "execution_count": null,
   "metadata": {},
   "outputs": [],
   "source": [
    "x[]"
   ]
  },
  {
   "cell_type": "code",
   "execution_count": 105,
   "metadata": {},
   "outputs": [
    {
     "data": {
      "text/plain": [
       "array([[[ 0,  1],\n",
       "        [ 2,  3]],\n",
       "\n",
       "       [[ 4,  5],\n",
       "        [ 6,  7]],\n",
       "\n",
       "       [[ 8,  9],\n",
       "        [10, 11]],\n",
       "\n",
       "       [[12, 13],\n",
       "        [14, 15]],\n",
       "\n",
       "       [[16, 17],\n",
       "        [18, 19]],\n",
       "\n",
       "       [[20, 21],\n",
       "        [22, 23]],\n",
       "\n",
       "       [[24, 25],\n",
       "        [26, 27]],\n",
       "\n",
       "       [[28, 29],\n",
       "        [30, 31]]])"
      ]
     },
     "execution_count": 105,
     "metadata": {},
     "output_type": "execute_result"
    }
   ],
   "source": [
    "x.reshape(-1, p, p)#[...,::2,:]"
   ]
  },
  {
   "cell_type": "code",
   "execution_count": null,
   "metadata": {},
   "outputs": [],
   "source": []
  }
 ],
 "metadata": {
  "kernelspec": {
   "display_name": "Python 3",
   "language": "python",
   "name": "python3"
  },
  "language_info": {
   "codemirror_mode": {
    "name": "ipython",
    "version": 3
   },
   "file_extension": ".py",
   "mimetype": "text/x-python",
   "name": "python",
   "nbconvert_exporter": "python",
   "pygments_lexer": "ipython3",
   "version": "3.10.3"
  }
 },
 "nbformat": 4,
 "nbformat_minor": 2
}
