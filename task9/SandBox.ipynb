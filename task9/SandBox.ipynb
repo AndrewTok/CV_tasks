{
 "cells": [
  {
   "cell_type": "code",
   "execution_count": 2,
   "metadata": {},
   "outputs": [],
   "source": [
    "%load_ext autoreload\n",
    "%autoreload 2"
   ]
  },
  {
   "cell_type": "code",
   "execution_count": 3,
   "metadata": {},
   "outputs": [],
   "source": [
    "import numpy as np\n",
    "import torch \n",
    "import os \n",
    "import pandas as pd\n",
    "from torch.utils.data import Dataset, DataLoader\n",
    "import torchvision"
   ]
  },
  {
   "cell_type": "code",
   "execution_count": 4,
   "metadata": {},
   "outputs": [],
   "source": [
    "path_to_classes_json = 'classes.json'"
   ]
  },
  {
   "cell_type": "code",
   "execution_count": 5,
   "metadata": {},
   "outputs": [
    {
     "name": "stdout",
     "output_type": "stream",
     "text": [
      "{'1.1': {'id': 0, 'type': 'freq'}, '1.10': {'id': 1, 'type': 'rare'}, '1.11.1': {'id': 2, 'type': 'freq'}, '1.11.2': {'id': 3, 'type': 'freq'}, '1.12.1': {'id': 4, 'type': 'freq'}, '1.12.2': {'id': 5, 'type': 'freq'}, '1.13': {'id': 6, 'type': 'freq'}, '1.14': {'id': 7, 'type': 'freq'}, '1.15': {'id': 8, 'type': 'freq'}, '1.16': {'id': 9, 'type': 'freq'}, '1.17': {'id': 10, 'type': 'freq'}, '1.18': {'id': 11, 'type': 'rare'}, '1.19': {'id': 12, 'type': 'rare'}, '1.2': {'id': 13, 'type': 'freq'}, '1.20.1': {'id': 14, 'type': 'freq'}, '1.20.2': {'id': 15, 'type': 'freq'}, '1.20.3': {'id': 16, 'type': 'freq'}, '1.21': {'id': 17, 'type': 'freq'}, '1.22': {'id': 18, 'type': 'freq'}, '1.23': {'id': 19, 'type': 'freq'}, '1.25': {'id': 20, 'type': 'freq'}, '1.26': {'id': 21, 'type': 'rare'}, '1.27': {'id': 22, 'type': 'freq'}, '1.30': {'id': 23, 'type': 'rare'}, '1.31': {'id': 24, 'type': 'rare'}, '1.33': {'id': 25, 'type': 'freq'}, '1.5': {'id': 26, 'type': 'freq'}, '1.6': {'id': 27, 'type': 'rare'}, '1.7': {'id': 28, 'type': 'rare'}, '1.8': {'id': 29, 'type': 'freq'}, '2.1': {'id': 30, 'type': 'freq'}, '2.2': {'id': 31, 'type': 'freq'}, '2.3.1': {'id': 32, 'type': 'freq'}, '2.3.2': {'id': 33, 'type': 'freq'}, '2.3.3': {'id': 34, 'type': 'freq'}, '2.3.4': {'id': 35, 'type': 'rare'}, '2.3.5': {'id': 36, 'type': 'rare'}, '2.3.6': {'id': 37, 'type': 'rare'}, '2.4': {'id': 38, 'type': 'freq'}, '2.5': {'id': 39, 'type': 'freq'}, '2.6': {'id': 40, 'type': 'freq'}, '2.7': {'id': 41, 'type': 'rare'}, '3.1': {'id': 42, 'type': 'freq'}, '3.10': {'id': 43, 'type': 'rare'}, '3.11.n13': {'id': 44, 'type': 'rare'}, '3.11.n17': {'id': 45, 'type': 'rare'}, '3.11.n20': {'id': 46, 'type': 'rare'}, '3.11.n23': {'id': 47, 'type': 'rare'}, '3.11.n5': {'id': 48, 'type': 'rare'}, '3.11.n8': {'id': 49, 'type': 'rare'}, '3.11.n9': {'id': 50, 'type': 'rare'}, '3.12.n10': {'id': 51, 'type': 'rare'}, '3.12.n3': {'id': 52, 'type': 'rare'}, '3.12.n5': {'id': 53, 'type': 'rare'}, '3.12.n6': {'id': 54, 'type': 'rare'}, '3.13.r': {'id': 55, 'type': 'rare'}, '3.13.r2.5': {'id': 56, 'type': 'rare'}, '3.13.r2.6': {'id': 57, 'type': 'rare'}, '3.13.r3': {'id': 58, 'type': 'rare'}, '3.13.r3.3': {'id': 59, 'type': 'rare'}, '3.13.r3.5': {'id': 60, 'type': 'rare'}, '3.13.r3.7': {'id': 61, 'type': 'rare'}, '3.13.r3.9': {'id': 62, 'type': 'rare'}, '3.13.r4.0': {'id': 63, 'type': 'rare'}, '3.13.r4.1': {'id': 64, 'type': 'rare'}, '3.13.r4.2': {'id': 65, 'type': 'rare'}, '3.13.r4.3': {'id': 66, 'type': 'rare'}, '3.13.r4.5': {'id': 67, 'type': 'freq'}, '3.13.r5': {'id': 68, 'type': 'rare'}, '3.13.r5.2': {'id': 69, 'type': 'rare'}, '3.14.r2.7': {'id': 70, 'type': 'rare'}, '3.14.r3': {'id': 71, 'type': 'rare'}, '3.14.r3.5': {'id': 72, 'type': 'rare'}, '3.14.r3.7': {'id': 73, 'type': 'rare'}, '3.16.n': {'id': 74, 'type': 'rare'}, '3.16.n1': {'id': 75, 'type': 'rare'}, '3.16.n3': {'id': 76, 'type': 'rare'}, '3.18.1': {'id': 77, 'type': 'freq'}, '3.18.2': {'id': 78, 'type': 'freq'}, '3.19': {'id': 79, 'type': 'freq'}, '3.2': {'id': 80, 'type': 'freq'}, '3.20': {'id': 81, 'type': 'freq'}, '3.21': {'id': 82, 'type': 'freq'}, '3.24.n': {'id': 83, 'type': 'rare'}, '3.24.n10': {'id': 84, 'type': 'rare'}, '3.24.n20': {'id': 85, 'type': 'freq'}, '3.24.n30': {'id': 86, 'type': 'freq'}, '3.24.n40': {'id': 87, 'type': 'freq'}, '3.24.n45': {'id': 88, 'type': 'rare'}, '3.24.n5': {'id': 89, 'type': 'freq'}, '3.24.n50': {'id': 90, 'type': 'freq'}, '3.24.n60': {'id': 91, 'type': 'freq'}, '3.24.n70': {'id': 92, 'type': 'freq'}, '3.24.n80': {'id': 93, 'type': 'freq'}, '3.25.n': {'id': 94, 'type': 'rare'}, '3.25.n20': {'id': 95, 'type': 'rare'}, '3.25.n40': {'id': 96, 'type': 'freq'}, '3.25.n50': {'id': 97, 'type': 'rare'}, '3.25.n70': {'id': 98, 'type': 'rare'}, '3.25.n80': {'id': 99, 'type': 'rare'}, '3.27': {'id': 100, 'type': 'freq'}, '3.28': {'id': 101, 'type': 'freq'}, '3.29': {'id': 102, 'type': 'freq'}, '3.30': {'id': 103, 'type': 'rare'}, '3.31': {'id': 104, 'type': 'freq'}, '3.32': {'id': 105, 'type': 'freq'}, '3.33': {'id': 106, 'type': 'rare'}, '3.34': {'id': 107, 'type': 'rare'}, '3.35': {'id': 108, 'type': 'rare'}, '3.4.n': {'id': 109, 'type': 'freq'}, '3.4.n2': {'id': 110, 'type': 'rare'}, '3.4.n5': {'id': 111, 'type': 'rare'}, '3.4.n7': {'id': 112, 'type': 'rare'}, '3.4.n8': {'id': 113, 'type': 'rare'}, '3.6': {'id': 114, 'type': 'rare'}, '3.7': {'id': 115, 'type': 'rare'}, '4.1.1': {'id': 116, 'type': 'freq'}, '4.1.2': {'id': 117, 'type': 'freq'}, '4.1.3': {'id': 118, 'type': 'freq'}, '4.1.4': {'id': 119, 'type': 'freq'}, '4.1.5': {'id': 120, 'type': 'freq'}, '4.1.6': {'id': 121, 'type': 'rare'}, '4.2.1': {'id': 122, 'type': 'freq'}, '4.2.2': {'id': 123, 'type': 'freq'}, '4.2.3': {'id': 124, 'type': 'freq'}, '4.3': {'id': 125, 'type': 'freq'}, '4.5.1': {'id': 126, 'type': 'rare'}, '4.8.2': {'id': 127, 'type': 'freq'}, '4.8.3': {'id': 128, 'type': 'rare'}, '5.11.1': {'id': 129, 'type': 'freq'}, '5.12.1': {'id': 130, 'type': 'rare'}, '5.14': {'id': 131, 'type': 'freq'}, '5.15.1': {'id': 132, 'type': 'freq'}, '5.15.2': {'id': 133, 'type': 'freq'}, '5.15.3': {'id': 134, 'type': 'freq'}, '5.15.5': {'id': 135, 'type': 'freq'}, '5.15.7': {'id': 136, 'type': 'freq'}, '5.16': {'id': 137, 'type': 'freq'}, '5.17': {'id': 138, 'type': 'rare'}, '5.18': {'id': 139, 'type': 'rare'}, '5.19.1': {'id': 140, 'type': 'freq'}, '5.20': {'id': 141, 'type': 'freq'}, '5.21': {'id': 142, 'type': 'freq'}, '5.22': {'id': 143, 'type': 'rare'}, '5.3': {'id': 144, 'type': 'rare'}, '5.4': {'id': 145, 'type': 'rare'}, '5.5': {'id': 146, 'type': 'freq'}, '5.6': {'id': 147, 'type': 'freq'}, '5.7.1': {'id': 148, 'type': 'freq'}, '5.7.2': {'id': 149, 'type': 'freq'}, '5.8': {'id': 150, 'type': 'rare'}, '6.15.1': {'id': 151, 'type': 'freq'}, '6.15.2': {'id': 152, 'type': 'rare'}, '6.15.3': {'id': 153, 'type': 'rare'}, '6.16': {'id': 154, 'type': 'freq'}, '6.2.n': {'id': 155, 'type': 'rare'}, '6.2.n20': {'id': 156, 'type': 'rare'}, '6.2.n40': {'id': 157, 'type': 'rare'}, '6.2.n50': {'id': 158, 'type': 'freq'}, '6.2.n60': {'id': 159, 'type': 'rare'}, '6.2.n70': {'id': 160, 'type': 'rare'}, '6.3.1': {'id': 161, 'type': 'freq'}, '6.4': {'id': 162, 'type': 'freq'}, '6.6': {'id': 163, 'type': 'freq'}, '6.7': {'id': 164, 'type': 'freq'}, '6.8.1': {'id': 165, 'type': 'rare'}, '6.8.2': {'id': 166, 'type': 'rare'}, '6.8.3': {'id': 167, 'type': 'rare'}, '7.1': {'id': 168, 'type': 'freq'}, '7.11': {'id': 169, 'type': 'freq'}, '7.12': {'id': 170, 'type': 'freq'}, '7.14': {'id': 171, 'type': 'rare'}, '7.15': {'id': 172, 'type': 'rare'}, '7.18': {'id': 173, 'type': 'rare'}, '7.2': {'id': 174, 'type': 'freq'}, '7.3': {'id': 175, 'type': 'freq'}, '7.4': {'id': 176, 'type': 'freq'}, '7.5': {'id': 177, 'type': 'freq'}, '7.6': {'id': 178, 'type': 'freq'}, '7.7': {'id': 179, 'type': 'freq'}, '8.1.1': {'id': 180, 'type': 'freq'}, '8.1.3': {'id': 181, 'type': 'rare'}, '8.1.4': {'id': 182, 'type': 'rare'}, '8.13': {'id': 183, 'type': 'freq'}, '8.14': {'id': 184, 'type': 'rare'}, '8.15': {'id': 185, 'type': 'freq'}, '8.16': {'id': 186, 'type': 'rare'}, '8.17': {'id': 187, 'type': 'rare'}, '8.18': {'id': 188, 'type': 'rare'}, '8.2.1': {'id': 189, 'type': 'freq'}, '8.2.2': {'id': 190, 'type': 'freq'}, '8.2.3': {'id': 191, 'type': 'freq'}, '8.2.4': {'id': 192, 'type': 'freq'}, '8.23': {'id': 193, 'type': 'rare'}, '8.3.1': {'id': 194, 'type': 'freq'}, '8.3.2': {'id': 195, 'type': 'freq'}, '8.3.3': {'id': 196, 'type': 'rare'}, '8.4.1': {'id': 197, 'type': 'freq'}, '8.4.3': {'id': 198, 'type': 'rare'}, '8.4.4': {'id': 199, 'type': 'rare'}, '8.5.2': {'id': 200, 'type': 'freq'}, '8.5.4': {'id': 201, 'type': 'freq'}, '8.6.2': {'id': 202, 'type': 'rare'}, '8.6.4': {'id': 203, 'type': 'rare'}, '8.8': {'id': 204, 'type': 'rare'}}\n"
     ]
    }
   ],
   "source": [
    "with open(path_to_classes_json, 'r') as f:\n",
    "    r = f.read()\n",
    "d = eval(r)\n",
    "print(d)"
   ]
  },
  {
   "cell_type": "code",
   "execution_count": 6,
   "metadata": {},
   "outputs": [
    {
     "name": "stdout",
     "output_type": "stream",
     "text": [
      "1.1 0 freq\n",
      "1.10 1 rare\n",
      "1.11.1 2 freq\n",
      "1.11.2 3 freq\n",
      "1.12.1 4 freq\n",
      "1.12.2 5 freq\n",
      "1.13 6 freq\n",
      "1.14 7 freq\n",
      "1.15 8 freq\n",
      "1.16 9 freq\n",
      "1.17 10 freq\n",
      "1.18 11 rare\n",
      "1.19 12 rare\n",
      "1.2 13 freq\n",
      "1.20.1 14 freq\n",
      "1.20.2 15 freq\n",
      "1.20.3 16 freq\n",
      "1.21 17 freq\n",
      "1.22 18 freq\n",
      "1.23 19 freq\n",
      "1.25 20 freq\n",
      "1.26 21 rare\n",
      "1.27 22 freq\n",
      "1.30 23 rare\n",
      "1.31 24 rare\n",
      "1.33 25 freq\n",
      "1.5 26 freq\n",
      "1.6 27 rare\n",
      "1.7 28 rare\n",
      "1.8 29 freq\n",
      "2.1 30 freq\n",
      "2.2 31 freq\n",
      "2.3.1 32 freq\n",
      "2.3.2 33 freq\n",
      "2.3.3 34 freq\n",
      "2.3.4 35 rare\n",
      "2.3.5 36 rare\n",
      "2.3.6 37 rare\n",
      "2.4 38 freq\n",
      "2.5 39 freq\n",
      "2.6 40 freq\n",
      "2.7 41 rare\n",
      "3.1 42 freq\n",
      "3.10 43 rare\n",
      "3.11.n13 44 rare\n",
      "3.11.n17 45 rare\n",
      "3.11.n20 46 rare\n",
      "3.11.n23 47 rare\n",
      "3.11.n5 48 rare\n",
      "3.11.n8 49 rare\n",
      "3.11.n9 50 rare\n",
      "3.12.n10 51 rare\n",
      "3.12.n3 52 rare\n",
      "3.12.n5 53 rare\n",
      "3.12.n6 54 rare\n",
      "3.13.r 55 rare\n",
      "3.13.r2.5 56 rare\n",
      "3.13.r2.6 57 rare\n",
      "3.13.r3 58 rare\n",
      "3.13.r3.3 59 rare\n",
      "3.13.r3.5 60 rare\n",
      "3.13.r3.7 61 rare\n",
      "3.13.r3.9 62 rare\n",
      "3.13.r4.0 63 rare\n",
      "3.13.r4.1 64 rare\n",
      "3.13.r4.2 65 rare\n",
      "3.13.r4.3 66 rare\n",
      "3.13.r4.5 67 freq\n",
      "3.13.r5 68 rare\n",
      "3.13.r5.2 69 rare\n",
      "3.14.r2.7 70 rare\n",
      "3.14.r3 71 rare\n",
      "3.14.r3.5 72 rare\n",
      "3.14.r3.7 73 rare\n",
      "3.16.n 74 rare\n",
      "3.16.n1 75 rare\n",
      "3.16.n3 76 rare\n",
      "3.18.1 77 freq\n",
      "3.18.2 78 freq\n",
      "3.19 79 freq\n",
      "3.2 80 freq\n",
      "3.20 81 freq\n",
      "3.21 82 freq\n",
      "3.24.n 83 rare\n",
      "3.24.n10 84 rare\n",
      "3.24.n20 85 freq\n",
      "3.24.n30 86 freq\n",
      "3.24.n40 87 freq\n",
      "3.24.n45 88 rare\n",
      "3.24.n5 89 freq\n",
      "3.24.n50 90 freq\n",
      "3.24.n60 91 freq\n",
      "3.24.n70 92 freq\n",
      "3.24.n80 93 freq\n",
      "3.25.n 94 rare\n",
      "3.25.n20 95 rare\n",
      "3.25.n40 96 freq\n",
      "3.25.n50 97 rare\n",
      "3.25.n70 98 rare\n",
      "3.25.n80 99 rare\n",
      "3.27 100 freq\n",
      "3.28 101 freq\n",
      "3.29 102 freq\n",
      "3.30 103 rare\n",
      "3.31 104 freq\n",
      "3.32 105 freq\n",
      "3.33 106 rare\n",
      "3.34 107 rare\n",
      "3.35 108 rare\n",
      "3.4.n 109 freq\n",
      "3.4.n2 110 rare\n",
      "3.4.n5 111 rare\n",
      "3.4.n7 112 rare\n",
      "3.4.n8 113 rare\n",
      "3.6 114 rare\n",
      "3.7 115 rare\n",
      "4.1.1 116 freq\n",
      "4.1.2 117 freq\n",
      "4.1.3 118 freq\n",
      "4.1.4 119 freq\n",
      "4.1.5 120 freq\n",
      "4.1.6 121 rare\n",
      "4.2.1 122 freq\n",
      "4.2.2 123 freq\n",
      "4.2.3 124 freq\n",
      "4.3 125 freq\n",
      "4.5.1 126 rare\n",
      "4.8.2 127 freq\n",
      "4.8.3 128 rare\n",
      "5.11.1 129 freq\n",
      "5.12.1 130 rare\n",
      "5.14 131 freq\n",
      "5.15.1 132 freq\n",
      "5.15.2 133 freq\n",
      "5.15.3 134 freq\n",
      "5.15.5 135 freq\n",
      "5.15.7 136 freq\n",
      "5.16 137 freq\n",
      "5.17 138 rare\n",
      "5.18 139 rare\n",
      "5.19.1 140 freq\n",
      "5.20 141 freq\n",
      "5.21 142 freq\n",
      "5.22 143 rare\n",
      "5.3 144 rare\n",
      "5.4 145 rare\n",
      "5.5 146 freq\n",
      "5.6 147 freq\n",
      "5.7.1 148 freq\n",
      "5.7.2 149 freq\n",
      "5.8 150 rare\n",
      "6.15.1 151 freq\n",
      "6.15.2 152 rare\n",
      "6.15.3 153 rare\n",
      "6.16 154 freq\n",
      "6.2.n 155 rare\n",
      "6.2.n20 156 rare\n",
      "6.2.n40 157 rare\n",
      "6.2.n50 158 freq\n",
      "6.2.n60 159 rare\n",
      "6.2.n70 160 rare\n",
      "6.3.1 161 freq\n",
      "6.4 162 freq\n",
      "6.6 163 freq\n",
      "6.7 164 freq\n",
      "6.8.1 165 rare\n",
      "6.8.2 166 rare\n",
      "6.8.3 167 rare\n",
      "7.1 168 freq\n",
      "7.11 169 freq\n",
      "7.12 170 freq\n",
      "7.14 171 rare\n",
      "7.15 172 rare\n",
      "7.18 173 rare\n",
      "7.2 174 freq\n",
      "7.3 175 freq\n",
      "7.4 176 freq\n",
      "7.5 177 freq\n",
      "7.6 178 freq\n",
      "7.7 179 freq\n",
      "8.1.1 180 freq\n",
      "8.1.3 181 rare\n",
      "8.1.4 182 rare\n",
      "8.13 183 freq\n",
      "8.14 184 rare\n",
      "8.15 185 freq\n",
      "8.16 186 rare\n",
      "8.17 187 rare\n",
      "8.18 188 rare\n",
      "8.2.1 189 freq\n",
      "8.2.2 190 freq\n",
      "8.2.3 191 freq\n",
      "8.2.4 192 freq\n",
      "8.23 193 rare\n",
      "8.3.1 194 freq\n",
      "8.3.2 195 freq\n",
      "8.3.3 196 rare\n",
      "8.4.1 197 freq\n",
      "8.4.3 198 rare\n",
      "8.4.4 199 rare\n",
      "8.5.2 200 freq\n",
      "8.5.4 201 freq\n",
      "8.6.2 202 rare\n",
      "8.6.4 203 rare\n",
      "8.8 204 rare\n"
     ]
    }
   ],
   "source": [
    "for key in d.keys():\n",
    "    id = d[key]['id'] \n",
    "    type = d[key]['type']\n",
    "    print(key, id, type)"
   ]
  },
  {
   "cell_type": "code",
   "execution_count": 7,
   "metadata": {},
   "outputs": [],
   "source": [
    "lst = ['' for i in range(10)]"
   ]
  },
  {
   "cell_type": "code",
   "execution_count": 8,
   "metadata": {},
   "outputs": [
    {
     "data": {
      "text/plain": [
       "['', '', '', '', '', '', '', '', '', '']"
      ]
     },
     "execution_count": 8,
     "metadata": {},
     "output_type": "execute_result"
    }
   ],
   "source": [
    "lst"
   ]
  },
  {
   "cell_type": "code",
   "execution_count": 9,
   "metadata": {},
   "outputs": [],
   "source": [
    "import os"
   ]
  },
  {
   "cell_type": "code",
   "execution_count": 10,
   "metadata": {},
   "outputs": [
    {
     "data": {
      "text/plain": [
       "'/name'"
      ]
     },
     "execution_count": 10,
     "metadata": {},
     "output_type": "execute_result"
    }
   ],
   "source": [
    "os.path.join('tests', '/', 'name')"
   ]
  },
  {
   "cell_type": "code",
   "execution_count": 11,
   "metadata": {},
   "outputs": [],
   "source": [
    "import pandas as pd"
   ]
  },
  {
   "cell_type": "code",
   "execution_count": 12,
   "metadata": {},
   "outputs": [],
   "source": [
    "annotations = pd.read_csv('smalltest_annotations.csv')"
   ]
  },
  {
   "cell_type": "code",
   "execution_count": 13,
   "metadata": {},
   "outputs": [
    {
     "data": {
      "text/html": [
       "<div>\n",
       "<style scoped>\n",
       "    .dataframe tbody tr th:only-of-type {\n",
       "        vertical-align: middle;\n",
       "    }\n",
       "\n",
       "    .dataframe tbody tr th {\n",
       "        vertical-align: top;\n",
       "    }\n",
       "\n",
       "    .dataframe thead th {\n",
       "        text-align: right;\n",
       "    }\n",
       "</style>\n",
       "<table border=\"1\" class=\"dataframe\">\n",
       "  <thead>\n",
       "    <tr style=\"text-align: right;\">\n",
       "      <th></th>\n",
       "      <th>filename</th>\n",
       "      <th>class</th>\n",
       "    </tr>\n",
       "  </thead>\n",
       "  <tbody>\n",
       "    <tr>\n",
       "      <th>0</th>\n",
       "      <td>0.png</td>\n",
       "      <td>5.12.1</td>\n",
       "    </tr>\n",
       "    <tr>\n",
       "      <th>1</th>\n",
       "      <td>1.png</td>\n",
       "      <td>8.3.1</td>\n",
       "    </tr>\n",
       "    <tr>\n",
       "      <th>2</th>\n",
       "      <td>2.png</td>\n",
       "      <td>8.3.1</td>\n",
       "    </tr>\n",
       "    <tr>\n",
       "      <th>3</th>\n",
       "      <td>3.png</td>\n",
       "      <td>8.3.1</td>\n",
       "    </tr>\n",
       "    <tr>\n",
       "      <th>4</th>\n",
       "      <td>4.png</td>\n",
       "      <td>8.3.1</td>\n",
       "    </tr>\n",
       "  </tbody>\n",
       "</table>\n",
       "</div>"
      ],
      "text/plain": [
       "  filename   class\n",
       "0    0.png  5.12.1\n",
       "1    1.png   8.3.1\n",
       "2    2.png   8.3.1\n",
       "3    3.png   8.3.1\n",
       "4    4.png   8.3.1"
      ]
     },
     "execution_count": 13,
     "metadata": {},
     "output_type": "execute_result"
    }
   ],
   "source": [
    "annotations.head()"
   ]
  },
  {
   "cell_type": "code",
   "execution_count": null,
   "metadata": {},
   "outputs": [],
   "source": []
  },
  {
   "cell_type": "code",
   "execution_count": null,
   "metadata": {},
   "outputs": [],
   "source": []
  }
 ],
 "metadata": {
  "kernelspec": {
   "display_name": "Python 3 (ipykernel)",
   "language": "python",
   "name": "python3"
  },
  "language_info": {
   "codemirror_mode": {
    "name": "ipython",
    "version": 3
   },
   "file_extension": ".py",
   "mimetype": "text/x-python",
   "name": "python",
   "nbconvert_exporter": "python",
   "pygments_lexer": "ipython3",
   "version": "3.10.3"
  }
 },
 "nbformat": 4,
 "nbformat_minor": 2
}
