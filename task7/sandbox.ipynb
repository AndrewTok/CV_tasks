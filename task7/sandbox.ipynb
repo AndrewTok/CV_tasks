{
 "cells": [
  {
   "cell_type": "code",
   "execution_count": null,
   "metadata": {},
   "outputs": [],
   "source": [
    "%load_ext autoreload\n",
    "%autoreload 2"
   ]
  },
  {
   "cell_type": "code",
   "execution_count": 2,
   "metadata": {},
   "outputs": [],
   "source": [
    "import numpy as np\n",
    "import torch \n",
    "import os \n",
    "import pandas as pd"
   ]
  },
  {
   "cell_type": "code",
   "execution_count": 3,
   "metadata": {},
   "outputs": [
    {
     "data": {
      "text/plain": [
       "True"
      ]
     },
     "execution_count": 3,
     "metadata": {},
     "output_type": "execute_result"
    }
   ],
   "source": [
    "torch.cuda.is_available()"
   ]
  },
  {
   "cell_type": "code",
   "execution_count": 200,
   "metadata": {},
   "outputs": [],
   "source": [
    "img_path = 'public_tests/00_test_img_input/train/images/'\n",
    "labels_path = 'public_tests/00_test_img_input/train/gt.csv'"
   ]
  },
  {
   "cell_type": "code",
   "execution_count": 8,
   "metadata": {},
   "outputs": [],
   "source": [
    "imgs = os.listdir(img_path)"
   ]
  },
  {
   "cell_type": "code",
   "execution_count": 9,
   "metadata": {},
   "outputs": [],
   "source": [
    "labels_df = pd.read_csv(labels_path)"
   ]
  },
  {
   "cell_type": "code",
   "execution_count": 10,
   "metadata": {},
   "outputs": [
    {
     "data": {
      "text/html": [
       "<div>\n",
       "<style scoped>\n",
       "    .dataframe tbody tr th:only-of-type {\n",
       "        vertical-align: middle;\n",
       "    }\n",
       "\n",
       "    .dataframe tbody tr th {\n",
       "        vertical-align: top;\n",
       "    }\n",
       "\n",
       "    .dataframe thead th {\n",
       "        text-align: right;\n",
       "    }\n",
       "</style>\n",
       "<table border=\"1\" class=\"dataframe\">\n",
       "  <thead>\n",
       "    <tr style=\"text-align: right;\">\n",
       "      <th></th>\n",
       "      <th>filename</th>\n",
       "      <th>x1</th>\n",
       "      <th>y1</th>\n",
       "      <th>x2</th>\n",
       "      <th>y2</th>\n",
       "      <th>x3</th>\n",
       "      <th>y3</th>\n",
       "      <th>x4</th>\n",
       "      <th>y4</th>\n",
       "      <th>x5</th>\n",
       "      <th>...</th>\n",
       "      <th>x10</th>\n",
       "      <th>y10</th>\n",
       "      <th>x11</th>\n",
       "      <th>y11</th>\n",
       "      <th>x12</th>\n",
       "      <th>y12</th>\n",
       "      <th>x13</th>\n",
       "      <th>y13</th>\n",
       "      <th>x14</th>\n",
       "      <th>y14</th>\n",
       "    </tr>\n",
       "  </thead>\n",
       "  <tbody>\n",
       "    <tr>\n",
       "      <th>0</th>\n",
       "      <td>00000.jpg</td>\n",
       "      <td>51</td>\n",
       "      <td>51</td>\n",
       "      <td>127</td>\n",
       "      <td>60</td>\n",
       "      <td>169</td>\n",
       "      <td>65</td>\n",
       "      <td>203</td>\n",
       "      <td>52</td>\n",
       "      <td>68</td>\n",
       "      <td>...</td>\n",
       "      <td>193</td>\n",
       "      <td>84</td>\n",
       "      <td>156</td>\n",
       "      <td>144</td>\n",
       "      <td>92</td>\n",
       "      <td>174</td>\n",
       "      <td>140</td>\n",
       "      <td>180</td>\n",
       "      <td>168</td>\n",
       "      <td>179</td>\n",
       "    </tr>\n",
       "    <tr>\n",
       "      <th>1</th>\n",
       "      <td>00001.jpg</td>\n",
       "      <td>21</td>\n",
       "      <td>20</td>\n",
       "      <td>36</td>\n",
       "      <td>18</td>\n",
       "      <td>57</td>\n",
       "      <td>19</td>\n",
       "      <td>80</td>\n",
       "      <td>25</td>\n",
       "      <td>23</td>\n",
       "      <td>...</td>\n",
       "      <td>78</td>\n",
       "      <td>33</td>\n",
       "      <td>43</td>\n",
       "      <td>46</td>\n",
       "      <td>31</td>\n",
       "      <td>61</td>\n",
       "      <td>45</td>\n",
       "      <td>66</td>\n",
       "      <td>60</td>\n",
       "      <td>65</td>\n",
       "    </tr>\n",
       "    <tr>\n",
       "      <th>2</th>\n",
       "      <td>00002.jpg</td>\n",
       "      <td>23</td>\n",
       "      <td>116</td>\n",
       "      <td>39</td>\n",
       "      <td>83</td>\n",
       "      <td>47</td>\n",
       "      <td>57</td>\n",
       "      <td>56</td>\n",
       "      <td>19</td>\n",
       "      <td>36</td>\n",
       "      <td>...</td>\n",
       "      <td>62</td>\n",
       "      <td>31</td>\n",
       "      <td>91</td>\n",
       "      <td>86</td>\n",
       "      <td>106</td>\n",
       "      <td>122</td>\n",
       "      <td>115</td>\n",
       "      <td>100</td>\n",
       "      <td>121</td>\n",
       "      <td>81</td>\n",
       "    </tr>\n",
       "    <tr>\n",
       "      <th>3</th>\n",
       "      <td>00003.jpg</td>\n",
       "      <td>29</td>\n",
       "      <td>18</td>\n",
       "      <td>63</td>\n",
       "      <td>25</td>\n",
       "      <td>84</td>\n",
       "      <td>32</td>\n",
       "      <td>105</td>\n",
       "      <td>34</td>\n",
       "      <td>38</td>\n",
       "      <td>...</td>\n",
       "      <td>95</td>\n",
       "      <td>45</td>\n",
       "      <td>72</td>\n",
       "      <td>71</td>\n",
       "      <td>46</td>\n",
       "      <td>83</td>\n",
       "      <td>63</td>\n",
       "      <td>87</td>\n",
       "      <td>75</td>\n",
       "      <td>89</td>\n",
       "    </tr>\n",
       "    <tr>\n",
       "      <th>4</th>\n",
       "      <td>00004.jpg</td>\n",
       "      <td>31</td>\n",
       "      <td>53</td>\n",
       "      <td>76</td>\n",
       "      <td>44</td>\n",
       "      <td>107</td>\n",
       "      <td>38</td>\n",
       "      <td>136</td>\n",
       "      <td>33</td>\n",
       "      <td>40</td>\n",
       "      <td>...</td>\n",
       "      <td>129</td>\n",
       "      <td>49</td>\n",
       "      <td>111</td>\n",
       "      <td>105</td>\n",
       "      <td>72</td>\n",
       "      <td>137</td>\n",
       "      <td>106</td>\n",
       "      <td>132</td>\n",
       "      <td>126</td>\n",
       "      <td>121</td>\n",
       "    </tr>\n",
       "  </tbody>\n",
       "</table>\n",
       "<p>5 rows × 29 columns</p>\n",
       "</div>"
      ],
      "text/plain": [
       "    filename  x1   y1   x2  y2   x3  y3   x4  y4  x5  ...  x10  y10  x11  y11  \\\n",
       "0  00000.jpg  51   51  127  60  169  65  203  52  68  ...  193   84  156  144   \n",
       "1  00001.jpg  21   20   36  18   57  19   80  25  23  ...   78   33   43   46   \n",
       "2  00002.jpg  23  116   39  83   47  57   56  19  36  ...   62   31   91   86   \n",
       "3  00003.jpg  29   18   63  25   84  32  105  34  38  ...   95   45   72   71   \n",
       "4  00004.jpg  31   53   76  44  107  38  136  33  40  ...  129   49  111  105   \n",
       "\n",
       "   x12  y12  x13  y13  x14  y14  \n",
       "0   92  174  140  180  168  179  \n",
       "1   31   61   45   66   60   65  \n",
       "2  106  122  115  100  121   81  \n",
       "3   46   83   63   87   75   89  \n",
       "4   72  137  106  132  126  121  \n",
       "\n",
       "[5 rows x 29 columns]"
      ]
     },
     "execution_count": 10,
     "metadata": {},
     "output_type": "execute_result"
    }
   ],
   "source": [
    "labels_df.head()"
   ]
  },
  {
   "cell_type": "code",
   "execution_count": 238,
   "metadata": {},
   "outputs": [],
   "source": [
    "def extract_data():\n",
    "    items = []\n",
    "    print(len(imgs))\n",
    "    for i in range(len(imgs)):\n",
    "        # img = imgs[i]\n",
    "        labels = labels_df.loc[labels_df['filename'] == imgs[i]][labels_df.columns[2:]].values\n",
    "        labels = torch.from_numpy(labels)\n",
    "        items.append((os.path.join(img_path, imgs[i]), labels[0]))\n",
    "        print(items[:5])\n",
    "\n",
    "    # items = []\n",
    "    # for i in range(labels_df.shape[0]):\n",
    "    #     columns = labels_df.columns\n",
    "    #     filename = labels_df[columns[0]][i]\n",
    "    #     labels = labels_df[labels_df.columns[2:]].values\n",
    "    #     items.append((os.path.join(img_path, filename), labels[0]))\n",
    "\n",
    "    y = labels_df.loc[labels_df['filename'] == imgs[0]][labels_df.columns[1:]]"
   ]
  },
  {
   "cell_type": "code",
   "execution_count": 250,
   "metadata": {},
   "outputs": [
    {
     "data": {
      "text/html": [
       "<div>\n",
       "<style scoped>\n",
       "    .dataframe tbody tr th:only-of-type {\n",
       "        vertical-align: middle;\n",
       "    }\n",
       "\n",
       "    .dataframe tbody tr th {\n",
       "        vertical-align: top;\n",
       "    }\n",
       "\n",
       "    .dataframe thead th {\n",
       "        text-align: right;\n",
       "    }\n",
       "</style>\n",
       "<table border=\"1\" class=\"dataframe\">\n",
       "  <thead>\n",
       "    <tr style=\"text-align: right;\">\n",
       "      <th></th>\n",
       "      <th>filename</th>\n",
       "      <th>x1</th>\n",
       "      <th>y1</th>\n",
       "      <th>x2</th>\n",
       "      <th>y2</th>\n",
       "      <th>x3</th>\n",
       "      <th>y3</th>\n",
       "      <th>x4</th>\n",
       "      <th>y4</th>\n",
       "      <th>x5</th>\n",
       "      <th>...</th>\n",
       "      <th>x10</th>\n",
       "      <th>y10</th>\n",
       "      <th>x11</th>\n",
       "      <th>y11</th>\n",
       "      <th>x12</th>\n",
       "      <th>y12</th>\n",
       "      <th>x13</th>\n",
       "      <th>y13</th>\n",
       "      <th>x14</th>\n",
       "      <th>y14</th>\n",
       "    </tr>\n",
       "  </thead>\n",
       "  <tbody>\n",
       "  </tbody>\n",
       "</table>\n",
       "<p>0 rows × 29 columns</p>\n",
       "</div>"
      ],
      "text/plain": [
       "Empty DataFrame\n",
       "Columns: [filename, x1, y1, x2, y2, x3, y3, x4, y4, x5, y5, x6, y6, x7, y7, x8, y8, x9, y9, x10, y10, x11, y11, x12, y12, x13, y13, x14, y14]\n",
       "Index: []\n",
       "\n",
       "[0 rows x 29 columns]"
      ]
     },
     "execution_count": 250,
     "metadata": {},
     "output_type": "execute_result"
    }
   ],
   "source": [
    "new_df = pd.DataFrame(columns=labels_df.columns)\n",
    "new_df"
   ]
  },
  {
   "cell_type": "code",
   "execution_count": 263,
   "metadata": {},
   "outputs": [
    {
     "data": {
      "text/html": [
       "<div>\n",
       "<style scoped>\n",
       "    .dataframe tbody tr th:only-of-type {\n",
       "        vertical-align: middle;\n",
       "    }\n",
       "\n",
       "    .dataframe tbody tr th {\n",
       "        vertical-align: top;\n",
       "    }\n",
       "\n",
       "    .dataframe thead th {\n",
       "        text-align: right;\n",
       "    }\n",
       "</style>\n",
       "<table border=\"1\" class=\"dataframe\">\n",
       "  <thead>\n",
       "    <tr style=\"text-align: right;\">\n",
       "      <th></th>\n",
       "      <th>filename</th>\n",
       "      <th>x1</th>\n",
       "      <th>y1</th>\n",
       "      <th>x2</th>\n",
       "      <th>y2</th>\n",
       "      <th>x3</th>\n",
       "      <th>y3</th>\n",
       "      <th>x4</th>\n",
       "      <th>y4</th>\n",
       "      <th>x5</th>\n",
       "      <th>...</th>\n",
       "      <th>x10</th>\n",
       "      <th>y10</th>\n",
       "      <th>x11</th>\n",
       "      <th>y11</th>\n",
       "      <th>x12</th>\n",
       "      <th>y12</th>\n",
       "      <th>x13</th>\n",
       "      <th>y13</th>\n",
       "      <th>x14</th>\n",
       "      <th>y14</th>\n",
       "    </tr>\n",
       "  </thead>\n",
       "  <tbody>\n",
       "    <tr>\n",
       "      <th>0</th>\n",
       "      <td>00000.jpg</td>\n",
       "      <td>51</td>\n",
       "      <td>51</td>\n",
       "      <td>127</td>\n",
       "      <td>60</td>\n",
       "      <td>169</td>\n",
       "      <td>65</td>\n",
       "      <td>203</td>\n",
       "      <td>52</td>\n",
       "      <td>68</td>\n",
       "      <td>...</td>\n",
       "      <td>193</td>\n",
       "      <td>84</td>\n",
       "      <td>156</td>\n",
       "      <td>144</td>\n",
       "      <td>92</td>\n",
       "      <td>174</td>\n",
       "      <td>140</td>\n",
       "      <td>180</td>\n",
       "      <td>168</td>\n",
       "      <td>179</td>\n",
       "    </tr>\n",
       "    <tr>\n",
       "      <th>1</th>\n",
       "      <td>00000.jpg</td>\n",
       "      <td>51</td>\n",
       "      <td>51</td>\n",
       "      <td>127</td>\n",
       "      <td>60</td>\n",
       "      <td>169</td>\n",
       "      <td>65</td>\n",
       "      <td>203</td>\n",
       "      <td>52</td>\n",
       "      <td>68</td>\n",
       "      <td>...</td>\n",
       "      <td>193</td>\n",
       "      <td>84</td>\n",
       "      <td>156</td>\n",
       "      <td>144</td>\n",
       "      <td>92</td>\n",
       "      <td>174</td>\n",
       "      <td>140</td>\n",
       "      <td>180</td>\n",
       "      <td>168</td>\n",
       "      <td>179</td>\n",
       "    </tr>\n",
       "  </tbody>\n",
       "</table>\n",
       "<p>2 rows × 29 columns</p>\n",
       "</div>"
      ],
      "text/plain": [
       "    filename  x1  y1   x2  y2   x3  y3   x4  y4  x5  ...  x10 y10  x11  y11  \\\n",
       "0  00000.jpg  51  51  127  60  169  65  203  52  68  ...  193  84  156  144   \n",
       "1  00000.jpg  51  51  127  60  169  65  203  52  68  ...  193  84  156  144   \n",
       "\n",
       "  x12  y12  x13  y13  x14  y14  \n",
       "0  92  174  140  180  168  179  \n",
       "1  92  174  140  180  168  179  \n",
       "\n",
       "[2 rows x 29 columns]"
      ]
     },
     "execution_count": 263,
     "metadata": {},
     "output_type": "execute_result"
    }
   ],
   "source": [
    "new_df.loc[len(new_df)] = labels_df.loc[0]\n",
    "new_df"
   ]
  },
  {
   "cell_type": "code",
   "execution_count": null,
   "metadata": {},
   "outputs": [],
   "source": []
  },
  {
   "cell_type": "code",
   "execution_count": 262,
   "metadata": {},
   "outputs": [],
   "source": [
    "# pd.concat([pd.DataFrame(labels_df.loc[0].values), new_df.loc[:]])#.reset_index(drop=True)"
   ]
  },
  {
   "cell_type": "code",
   "execution_count": 183,
   "metadata": {},
   "outputs": [],
   "source": [
    "import matplotlib.pyplot as plt\n",
    "from PIL import Image\n",
    "import detection"
   ]
  },
  {
   "cell_type": "code",
   "execution_count": 184,
   "metadata": {},
   "outputs": [],
   "source": [
    "def vizualize(img, keypoints, transpose = True):\n",
    "    if transpose:\n",
    "        img = img.permute(1, 2, 0)\n",
    "    plt.imshow(img.int())\n",
    "    for i in range(0, len(keypoints)-1, 2):\n",
    "        x = keypoints[i]\n",
    "        y = keypoints[i+1]\n",
    "        plt.plot(x,y, 'og', markersize=6)\n",
    "    plt.show()"
   ]
  },
  {
   "cell_type": "code",
   "execution_count": 185,
   "metadata": {},
   "outputs": [],
   "source": [
    "facesPointsDataset = detection.FacesPointsDataset(imgs_path=img_path, labels_path=labels_path, mode='val')"
   ]
  },
  {
   "cell_type": "code",
   "execution_count": 186,
   "metadata": {},
   "outputs": [],
   "source": [
    "# model = detection.FacesPointsDetector()\n",
    "# device = torch.device('cpu')\n",
    "# model.load_state_dict(torch.load('lightning_logs/version_17/checkpoints/epoch=15-step=4800.ckpt', map_location=device))"
   ]
  },
  {
   "cell_type": "code",
   "execution_count": 187,
   "metadata": {},
   "outputs": [],
   "source": [
    "chkpt_path ='lightning_logs/version_18/checkpoints/epoch=15-step=4800.ckpt' #lightning_logs/version_17/checkpoints/epoch=15-step=4800.ckpt'"
   ]
  },
  {
   "cell_type": "code",
   "execution_count": 188,
   "metadata": {},
   "outputs": [
    {
     "name": "stderr",
     "output_type": "stream",
     "text": [
      "d:\\venvs\\CV\\lib\\site-packages\\torch\\nn\\modules\\lazy.py:180: UserWarning: Lazy modules are a new feature under heavy development so changes to the API or functionality can happen at any moment.\n",
      "  warnings.warn('Lazy modules are a new feature under heavy development '\n"
     ]
    }
   ],
   "source": [
    "module =  detection.FacesPointsTrainingModule.load_from_checkpoint(chkpt_path, map_location='cpu')"
   ]
  },
  {
   "cell_type": "code",
   "execution_count": 189,
   "metadata": {},
   "outputs": [
    {
     "name": "stdout",
     "output_type": "stream",
     "text": [
      "(82, 82, 3)\n"
     ]
    }
   ],
   "source": [
    "img, label = facesPointsDataset[0]"
   ]
  },
  {
   "cell_type": "code",
   "execution_count": 190,
   "metadata": {},
   "outputs": [],
   "source": [
    "# module.eval()"
   ]
  },
  {
   "cell_type": "code",
   "execution_count": 191,
   "metadata": {},
   "outputs": [],
   "source": [
    "# module.to('cpu')\n",
    "predict = module(img[None,:]).detach()[0]"
   ]
  },
  {
   "cell_type": "code",
   "execution_count": 192,
   "metadata": {},
   "outputs": [
    {
     "name": "stdout",
     "output_type": "stream",
     "text": [
      "tensor([20.9451, 20.4067, 41.9320, 22.3145, 66.5566, 24.9386, 88.1236, 25.5025,\n",
      "        25.9040, 30.4933, 34.4893, 30.3760, 41.1140, 32.6804, 65.4581, 33.9136,\n",
      "        74.1689, 33.3343, 82.5831, 34.7415, 50.8041, 58.1463, 33.5659, 66.6002,\n",
      "        50.7627, 71.7795, 68.5709, 67.7559])\n",
      "tensor([15, 18, 43, 23, 63, 25, 86, 23, 26, 28, 32, 28, 37, 30, 62, 30, 67, 30,\n",
      "        71, 30, 50, 56, 29, 63, 47, 69, 67, 65])\n"
     ]
    }
   ],
   "source": [
    "print(predict)\n",
    "print(label)"
   ]
  },
  {
   "cell_type": "code",
   "execution_count": 193,
   "metadata": {},
   "outputs": [
    {
     "data": {
      "image/png": "[encoded data removed]",
      "text/plain": [
       "<Figure size 640x480 with 1 Axes>"
      ]
     },
     "metadata": {},
     "output_type": "display_data"
    },
    {
     "data": {
      "image/png": "[encoded data removed]",
      "text/plain": [
       "<Figure size 640x480 with 1 Axes>"
      ]
     },
     "metadata": {},
     "output_type": "display_data"
    }
   ],
   "source": [
    "vizualize(img, predict)\n",
    "vizualize(img, label)"
   ]
  },
  {
   "cell_type": "code",
   "execution_count": 196,
   "metadata": {},
   "outputs": [],
   "source": [
    "import shutil"
   ]
  },
  {
   "cell_type": "code",
   "execution_count": 240,
   "metadata": {},
   "outputs": [
    {
     "data": {
      "text/plain": [
       "array([5794,  778, 5596, ..., 1264,  998, 2015])"
      ]
     },
     "execution_count": 240,
     "metadata": {},
     "output_type": "execute_result"
    }
   ],
   "source": [
    "# permutation = np.random.permutation(6000)\n",
    "permutation"
   ]
  },
  {
   "cell_type": "code",
   "execution_count": 268,
   "metadata": {},
   "outputs": [],
   "source": [
    "def train_valid_split(imgs_path, fraction, new_test_path, new_train_path, gt_train_path, gt_test_path, permutation = None):\n",
    "    imgs = os.listdir(imgs_path)\n",
    "    labels_df = pd.read_csv(labels_path)\n",
    "    \n",
    "    test_df = pd.DataFrame(columns=labels_df.columns)\n",
    "    train_df = pd.DataFrame(columns=labels_df.columns)\n",
    "\n",
    "    imgs_count = len(imgs)\n",
    "\n",
    "    if permutation is None:\n",
    "        permutation = np.random.permutation(imgs_count)\n",
    "        print(permutation)\n",
    "\n",
    "    train_items = []\n",
    "    test_items = []\n",
    "    for i in range(imgs_count):\n",
    "        img_idx = permutation[i]\n",
    "        labels = labels_df.loc[img_idx]\n",
    "        assert(labels['filename'] == imgs[img_idx])\n",
    "        # print(labels.columns)\n",
    "        # print(labels_df.columns)\n",
    "        img_path = os.path.join(imgs_path, imgs[img_idx])\n",
    "        if i <= fraction*imgs_count:\n",
    "            # train_df.append(labels)\n",
    "            # train_df = pd.concat([train_df, pd.DataFrame(labels.values)], ignore_index=True)\n",
    "            # train_df.loc[len(train_df)] = labels\n",
    "            train_df.loc[len(train_df)] = labels #labels_df.loc[0]\n",
    "            shutil.copy(img_path, new_train_path)\n",
    "        else:\n",
    "            test_df.loc[len(test_df)] = labels #test_df = pd.concat([test_df, pd.DataFrame(labels.values)], ignore_index=True)\n",
    "            shutil.copy(img_path, new_test_path)\n",
    "        \n",
    "    test_df.to_csv(os.path.join(gt_test_path, 'gt_test.csv'), index=False)\n",
    "    train_df.to_csv(os.path.join(gt_train_path, 'gt_train.csv'), index=False)\n",
    "        "
   ]
  },
  {
   "cell_type": "code",
   "execution_count": 270,
   "metadata": {},
   "outputs": [],
   "source": [
    "# train_valid_split(img_path, fraction=0.8, new_test_path='public_tests/splitted/test/',\n",
    "#  new_train_path='public_tests/splitted/train/', gt_test_path='public_tests/splitted/', gt_train_path='public_tests/splitted/', permutation = permutation)"
   ]
  },
  {
   "cell_type": "code",
   "execution_count": null,
   "metadata": {},
   "outputs": [],
   "source": [
    "train_path = 'public_tests/splitted/train/'\n"
   ]
  }
 ],
 "metadata": {
  "kernelspec": {
   "display_name": "CV",
   "language": "python",
   "name": "python3"
  },
  "language_info": {
   "codemirror_mode": {
    "name": "ipython",
    "version": 3
   },
   "file_extension": ".py",
   "mimetype": "text/x-python",
   "name": "python",
   "nbconvert_exporter": "python",
   "pygments_lexer": "ipython3",
   "version": "3.10.3"
  }
 },
 "nbformat": 4,
 "nbformat_minor": 2
}
