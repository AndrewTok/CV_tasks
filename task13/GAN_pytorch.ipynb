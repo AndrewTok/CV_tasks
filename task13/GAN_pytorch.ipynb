{
  "cells": [
    {
      "cell_type": "markdown",
      "metadata": {
        "id": "QQg-V9XQ2T_f"
      },
      "source": [
        "# Generative Adversarial Networks\n",
        "\n",
        "Generative Adversarial Networks (GANs) are an approach to generative modeling based on deep learning methods.\n",
        "\n",
        "The standard problem settings for GANs are generation of photorealistic images and image-to-image translation tasks (translating photos of summer to winter, day to night etc.).\n",
        "\n",
        "In this task you will familiarize yourself with both these problems while trying to create fake images of sneakers.\n",
        "\n",
        "As GANs still do have certain limitations about generating large images, the task is decomposed into two: first, use a simple GAN to generate a bunch of low resolution images from noise, then upscale them using another generative model."
      ]
    },
    {
      "cell_type": "code",
      "execution_count": null,
      "metadata": {},
      "outputs": [],
      "source": []
    },
    {
      "cell_type": "markdown",
      "metadata": {
        "id": "i-1cXZG02T_g"
      },
      "source": [
        "This notebook is built around [PyTorch](https://pytorch.org/) and [Lightning](https://pytorchlightning.ai/)."
      ]
    },
    {
      "cell_type": "code",
      "execution_count": 1,
      "metadata": {
        "id": "E4XlI2qi2T_g"
      },
      "outputs": [
        {
          "name": "stderr",
          "output_type": "stream",
          "text": [
            "-bash: line 4: unzip: command not found\n"
          ]
        },
        {
          "ename": "CalledProcessError",
          "evalue": "Command 'b\"\\nif [ ! -d data/ ]; then\\n    curl -sO 'https://code.mipt.ru/courses-public/cv/storage/-/raw/tasks/sneaker-generation/data.zip'\\n    unzip -qo data.zip\\nfi\\n\"' returned non-zero exit status 127.",
          "output_type": "error",
          "traceback": [
            "\u001b[1;31m---------------------------------------------------------------------------\u001b[0m",
            "\u001b[1;31mCalledProcessError\u001b[0m                        Traceback (most recent call last)",
            "Input \u001b[1;32mIn [1]\u001b[0m, in \u001b[0;36m<cell line: 1>\u001b[1;34m()\u001b[0m\n\u001b[1;32m----> 1\u001b[0m \u001b[43mget_ipython\u001b[49m\u001b[43m(\u001b[49m\u001b[43m)\u001b[49m\u001b[38;5;241;43m.\u001b[39;49m\u001b[43mrun_cell_magic\u001b[49m\u001b[43m(\u001b[49m\u001b[38;5;124;43m'\u001b[39;49m\u001b[38;5;124;43mbash\u001b[39;49m\u001b[38;5;124;43m'\u001b[39;49m\u001b[43m,\u001b[49m\u001b[43m \u001b[49m\u001b[38;5;124;43m'\u001b[39;49m\u001b[38;5;124;43m'\u001b[39;49m\u001b[43m,\u001b[49m\u001b[43m \u001b[49m\u001b[38;5;124;43m\"\u001b[39;49m\u001b[38;5;130;43;01m\\n\u001b[39;49;00m\u001b[38;5;124;43mif [ ! -d data/ ]; then\u001b[39;49m\u001b[38;5;130;43;01m\\n\u001b[39;49;00m\u001b[38;5;124;43m    curl -sO \u001b[39;49m\u001b[38;5;124;43m'\u001b[39;49m\u001b[38;5;124;43mhttps://code.mipt.ru/courses-public/cv/storage/-/raw/tasks/sneaker-generation/data.zip\u001b[39;49m\u001b[38;5;124;43m'\u001b[39;49m\u001b[38;5;130;43;01m\\n\u001b[39;49;00m\u001b[38;5;124;43m    unzip -qo data.zip\u001b[39;49m\u001b[38;5;130;43;01m\\n\u001b[39;49;00m\u001b[38;5;124;43mfi\u001b[39;49m\u001b[38;5;130;43;01m\\n\u001b[39;49;00m\u001b[38;5;124;43m\"\u001b[39;49m\u001b[43m)\u001b[49m\n",
            "File \u001b[1;32mc:\\ProgramData\\Python3_64\\lib\\site-packages\\IPython\\core\\interactiveshell.py:2338\u001b[0m, in \u001b[0;36mInteractiveShell.run_cell_magic\u001b[1;34m(self, magic_name, line, cell)\u001b[0m\n\u001b[0;32m   2336\u001b[0m \u001b[38;5;28;01mwith\u001b[39;00m \u001b[38;5;28mself\u001b[39m\u001b[38;5;241m.\u001b[39mbuiltin_trap:\n\u001b[0;32m   2337\u001b[0m     args \u001b[38;5;241m=\u001b[39m (magic_arg_s, cell)\n\u001b[1;32m-> 2338\u001b[0m     result \u001b[38;5;241m=\u001b[39m fn(\u001b[38;5;241m*\u001b[39margs, \u001b[38;5;241m*\u001b[39m\u001b[38;5;241m*\u001b[39mkwargs)\n\u001b[0;32m   2339\u001b[0m \u001b[38;5;28;01mreturn\u001b[39;00m result\n",
            "File \u001b[1;32mc:\\ProgramData\\Python3_64\\lib\\site-packages\\IPython\\core\\magics\\script.py:153\u001b[0m, in \u001b[0;36mScriptMagics._make_script_magic.<locals>.named_script_magic\u001b[1;34m(line, cell)\u001b[0m\n\u001b[0;32m    151\u001b[0m \u001b[38;5;28;01melse\u001b[39;00m:\n\u001b[0;32m    152\u001b[0m     line \u001b[38;5;241m=\u001b[39m script\n\u001b[1;32m--> 153\u001b[0m \u001b[38;5;28;01mreturn\u001b[39;00m \u001b[38;5;28;43mself\u001b[39;49m\u001b[38;5;241;43m.\u001b[39;49m\u001b[43mshebang\u001b[49m\u001b[43m(\u001b[49m\u001b[43mline\u001b[49m\u001b[43m,\u001b[49m\u001b[43m \u001b[49m\u001b[43mcell\u001b[49m\u001b[43m)\u001b[49m\n",
            "File \u001b[1;32mc:\\ProgramData\\Python3_64\\lib\\site-packages\\IPython\\core\\magics\\script.py:305\u001b[0m, in \u001b[0;36mScriptMagics.shebang\u001b[1;34m(self, line, cell)\u001b[0m\n\u001b[0;32m    300\u001b[0m \u001b[38;5;28;01mif\u001b[39;00m args\u001b[38;5;241m.\u001b[39mraise_error \u001b[38;5;129;01mand\u001b[39;00m p\u001b[38;5;241m.\u001b[39mreturncode \u001b[38;5;241m!=\u001b[39m \u001b[38;5;241m0\u001b[39m:\n\u001b[0;32m    301\u001b[0m     \u001b[38;5;66;03m# If we get here and p.returncode is still None, we must have\u001b[39;00m\n\u001b[0;32m    302\u001b[0m     \u001b[38;5;66;03m# killed it but not yet seen its return code. We don't wait for it,\u001b[39;00m\n\u001b[0;32m    303\u001b[0m     \u001b[38;5;66;03m# in case it's stuck in uninterruptible sleep. -9 = SIGKILL\u001b[39;00m\n\u001b[0;32m    304\u001b[0m     rc \u001b[38;5;241m=\u001b[39m p\u001b[38;5;241m.\u001b[39mreturncode \u001b[38;5;129;01mor\u001b[39;00m \u001b[38;5;241m-\u001b[39m\u001b[38;5;241m9\u001b[39m\n\u001b[1;32m--> 305\u001b[0m     \u001b[38;5;28;01mraise\u001b[39;00m CalledProcessError(rc, cell)\n",
            "\u001b[1;31mCalledProcessError\u001b[0m: Command 'b\"\\nif [ ! -d data/ ]; then\\n    curl -sO 'https://code.mipt.ru/courses-public/cv/storage/-/raw/tasks/sneaker-generation/data.zip'\\n    unzip -qo data.zip\\nfi\\n\"' returned non-zero exit status 127."
          ]
        }
      ],
      "source": [
        "%%bash\n",
        "\n",
        "if [ ! -d data/ ]; then\n",
        "    curl -sO 'https://code.mipt.ru/courses-public/cv/storage/-/raw/tasks/sneaker-generation/data.zip'\n",
        "    unzip -qo data.zip\n",
        "fi"
      ]
    },
    {
      "cell_type": "code",
      "execution_count": 2,
      "metadata": {
        "colab": {
          "base_uri": "https://localhost:8080/"
        },
        "id": "LG4kmBo8R0Jn",
        "outputId": "7f30baad-45ec-4c47-b828-f4217e34fa40"
      },
      "outputs": [
        {
          "name": "stdout",
          "output_type": "stream",
          "text": [
            "Requirement already satisfied: lightning in /usr/local/lib/python3.10/dist-packages (2.1.3)\n",
            "Requirement already satisfied: PyYAML<8.0,>=5.4 in /usr/local/lib/python3.10/dist-packages (from lightning) (6.0.1)\n",
            "Requirement already satisfied: fsspec[http]<2025.0,>=2022.5.0 in /usr/local/lib/python3.10/dist-packages (from lightning) (2023.6.0)\n",
            "Requirement already satisfied: lightning-utilities<2.0,>=0.8.0 in /usr/local/lib/python3.10/dist-packages (from lightning) (0.10.0)\n",
            "Requirement already satisfied: numpy<3.0,>=1.17.2 in /usr/local/lib/python3.10/dist-packages (from lightning) (1.23.5)\n",
            "Requirement already satisfied: packaging<25.0,>=20.0 in /usr/local/lib/python3.10/dist-packages (from lightning) (23.2)\n",
            "Requirement already satisfied: torch<4.0,>=1.12.0 in /usr/local/lib/python3.10/dist-packages (from lightning) (2.1.0+cu121)\n",
            "Requirement already satisfied: torchmetrics<3.0,>=0.7.0 in /usr/local/lib/python3.10/dist-packages (from lightning) (1.2.1)\n",
            "Requirement already satisfied: tqdm<6.0,>=4.57.0 in /usr/local/lib/python3.10/dist-packages (from lightning) (4.66.1)\n",
            "Requirement already satisfied: typing-extensions<6.0,>=4.0.0 in /usr/local/lib/python3.10/dist-packages (from lightning) (4.5.0)\n",
            "Requirement already satisfied: pytorch-lightning in /usr/local/lib/python3.10/dist-packages (from lightning) (2.1.3)\n",
            "Requirement already satisfied: requests in /usr/local/lib/python3.10/dist-packages (from fsspec[http]<2025.0,>=2022.5.0->lightning) (2.31.0)\n",
            "Requirement already satisfied: aiohttp!=4.0.0a0,!=4.0.0a1 in /usr/local/lib/python3.10/dist-packages (from fsspec[http]<2025.0,>=2022.5.0->lightning) (3.9.1)\n",
            "Requirement already satisfied: setuptools in /usr/local/lib/python3.10/dist-packages (from lightning-utilities<2.0,>=0.8.0->lightning) (67.7.2)\n",
            "Requirement already satisfied: filelock in /usr/local/lib/python3.10/dist-packages (from torch<4.0,>=1.12.0->lightning) (3.13.1)\n",
            "Requirement already satisfied: sympy in /usr/local/lib/python3.10/dist-packages (from torch<4.0,>=1.12.0->lightning) (1.12)\n",
            "Requirement already satisfied: networkx in /usr/local/lib/python3.10/dist-packages (from torch<4.0,>=1.12.0->lightning) (3.2.1)\n",
            "Requirement already satisfied: jinja2 in /usr/local/lib/python3.10/dist-packages (from torch<4.0,>=1.12.0->lightning) (3.1.2)\n",
            "Requirement already satisfied: triton==2.1.0 in /usr/local/lib/python3.10/dist-packages (from torch<4.0,>=1.12.0->lightning) (2.1.0)\n",
            "Requirement already satisfied: attrs>=17.3.0 in /usr/local/lib/python3.10/dist-packages (from aiohttp!=4.0.0a0,!=4.0.0a1->fsspec[http]<2025.0,>=2022.5.0->lightning) (23.1.0)\n",
            "Requirement already satisfied: multidict<7.0,>=4.5 in /usr/local/lib/python3.10/dist-packages (from aiohttp!=4.0.0a0,!=4.0.0a1->fsspec[http]<2025.0,>=2022.5.0->lightning) (6.0.4)\n",
            "Requirement already satisfied: yarl<2.0,>=1.0 in /usr/local/lib/python3.10/dist-packages (from aiohttp!=4.0.0a0,!=4.0.0a1->fsspec[http]<2025.0,>=2022.5.0->lightning) (1.9.4)\n",
            "Requirement already satisfied: frozenlist>=1.1.1 in /usr/local/lib/python3.10/dist-packages (from aiohttp!=4.0.0a0,!=4.0.0a1->fsspec[http]<2025.0,>=2022.5.0->lightning) (1.4.1)\n",
            "Requirement already satisfied: aiosignal>=1.1.2 in /usr/local/lib/python3.10/dist-packages (from aiohttp!=4.0.0a0,!=4.0.0a1->fsspec[http]<2025.0,>=2022.5.0->lightning) (1.3.1)\n",
            "Requirement already satisfied: async-timeout<5.0,>=4.0 in /usr/local/lib/python3.10/dist-packages (from aiohttp!=4.0.0a0,!=4.0.0a1->fsspec[http]<2025.0,>=2022.5.0->lightning) (4.0.3)\n",
            "Requirement already satisfied: MarkupSafe>=2.0 in /usr/local/lib/python3.10/dist-packages (from jinja2->torch<4.0,>=1.12.0->lightning) (2.1.3)\n",
            "Requirement already satisfied: charset-normalizer<4,>=2 in /usr/local/lib/python3.10/dist-packages (from requests->fsspec[http]<2025.0,>=2022.5.0->lightning) (3.3.2)\n",
            "Requirement already satisfied: idna<4,>=2.5 in /usr/local/lib/python3.10/dist-packages (from requests->fsspec[http]<2025.0,>=2022.5.0->lightning) (3.6)\n",
            "Requirement already satisfied: urllib3<3,>=1.21.1 in /usr/local/lib/python3.10/dist-packages (from requests->fsspec[http]<2025.0,>=2022.5.0->lightning) (2.0.7)\n",
            "Requirement already satisfied: certifi>=2017.4.17 in /usr/local/lib/python3.10/dist-packages (from requests->fsspec[http]<2025.0,>=2022.5.0->lightning) (2023.11.17)\n",
            "Requirement already satisfied: mpmath>=0.19 in /usr/local/lib/python3.10/dist-packages (from sympy->torch<4.0,>=1.12.0->lightning) (1.3.0)\n"
          ]
        }
      ],
      "source": [
        "# !pip install lightning"
      ]
    },
    {
      "cell_type": "code",
      "execution_count": 2,
      "metadata": {
        "id": "LMNVXiEZ2T_g"
      },
      "outputs": [],
      "source": [
        "import os\n",
        "\n",
        "import cv2\n",
        "import matplotlib.pyplot as plt\n",
        "import numpy as np\n",
        "import pytorch_lightning as pl\n",
        "import torch\n",
        "import torch.nn as nn\n",
        "import torchvision\n",
        "from IPython.display import clear_output"
      ]
    },
    {
      "cell_type": "code",
      "execution_count": 3,
      "metadata": {
        "id": "IkYc8NIvRpmF"
      },
      "outputs": [],
      "source": [
        "BATCH_SIZE = 128\n",
        "IMAGE_SIZE = (28, 28)\n",
        "NOISE_DIM = 100\n",
        "LOW_RES_SIZE = IMAGE_SIZE\n",
        "HIGH_RES_SIZE = (112, 112)"
      ]
    },
    {
      "cell_type": "code",
      "execution_count": 4,
      "metadata": {
        "colab": {
          "base_uri": "https://localhost:8080/"
        },
        "id": "y8nVxCxC2T_g",
        "outputId": "f429c96e-c482-4504-928b-7b8d280f1762"
      },
      "outputs": [
        {
          "data": {
            "text/plain": [
              "5729"
            ]
          },
          "execution_count": 4,
          "metadata": {},
          "output_type": "execute_result"
        }
      ],
      "source": [
        "train_kwargs = {}\n",
        "dataset_root = \"./data\"\n",
        "images_dir = \"images\"\n",
        "image_filenames = sorted(os.listdir(os.path.join(dataset_root, images_dir)))\n",
        "len(image_filenames)"
      ]
    },
    {
      "cell_type": "markdown",
      "metadata": {
        "id": "akxy294r2T_h"
      },
      "source": [
        "# I. Image Generation\n",
        "\n",
        "Your first task is to solve a problem of generating photorealistic images out of noise (okay, this might sound optimistic).\n",
        "\n",
        "Namely, you are required to **create fake images of sneakers of resolution 28x28 given a vector of noise sampled from standard normal distribution.**"
      ]
    },
    {
      "cell_type": "markdown",
      "metadata": {
        "id": "hEeSWf-t2T_h"
      },
      "source": [
        "Here is simple PyTorch `Dataset` class for loading and preprocessing"
      ]
    },
    {
      "cell_type": "code",
      "execution_count": 5,
      "metadata": {
        "id": "bh6UclOg2T_h"
      },
      "outputs": [],
      "source": [
        "class SneakersDataset(torch.utils.data.Dataset):\n",
        "    def __init__(\n",
        "        self,\n",
        "        root_dir: str,\n",
        "        images_dir=\"images\",\n",
        "        input_size=None,\n",
        "        target_size=None,\n",
        "    ):\n",
        "        self.images_dir = os.path.join(root_dir, images_dir)\n",
        "        self.input_size = input_size\n",
        "        self.target_size = target_size\n",
        "        files = os.listdir(self.images_dir)\n",
        "        self.all_images = sorted([file for file in files if file.endswith(\".jpg\")])\n",
        "\n",
        "    def __len__(self):\n",
        "        return len(self.all_images)\n",
        "\n",
        "    def __getitem__(self, idx):\n",
        "        image_path = os.path.join(self.images_dir, self.all_images[idx])\n",
        "        image_bgr = cv2.imread(image_path)\n",
        "        image_rgb = cv2.cvtColor(image_bgr, cv2.COLOR_BGR2RGB)\n",
        "        if self.input_size is not None:\n",
        "            input_rgb = cv2.resize(image_rgb, self.input_size)\n",
        "            input_rgb = (input_rgb / 255).astype(np.float32)\n",
        "        if self.target_size is not None:\n",
        "            image_rgb = cv2.resize(image_rgb, self.target_size)\n",
        "        image_rgb = (image_rgb / 255).astype(np.float32)\n",
        "\n",
        "        # tanh values in [-1, 1]\n",
        "        image_rgb = torch.from_numpy(image_rgb * 2 - 1)\n",
        "        if self.input_size is not None:\n",
        "            input_rgb = torch.from_numpy(input_rgb * 2 - 1)\n",
        "            return input_rgb, image_rgb\n",
        "        else:\n",
        "            return image_rgb"
      ]
    },
    {
      "cell_type": "markdown",
      "metadata": {
        "id": "miRyiLHc2T_h"
      },
      "source": [
        "Here we create `LightningDataModule` which will handle dataset loading in our case"
      ]
    },
    {
      "cell_type": "code",
      "execution_count": 6,
      "metadata": {
        "id": "_tePuYxj2T_h"
      },
      "outputs": [],
      "source": [
        "class SneakersGANDataModule(pl.LightningDataModule):\n",
        "    def __init__(self, data_dir: str, batch_size, shuffle=True):\n",
        "        super().__init__()\n",
        "        self.data_dir = data_dir\n",
        "        self.batch_size = batch_size\n",
        "        self.shuffle = shuffle\n",
        "\n",
        "    def setup(self, stage=None):\n",
        "        self.dataset = SneakersDataset(self.data_dir, target_size=IMAGE_SIZE)\n",
        "\n",
        "    def train_dataloader(self):\n",
        "        return torch.utils.data.DataLoader(\n",
        "            self.dataset,\n",
        "            batch_size=self.batch_size,\n",
        "            shuffle=self.shuffle,\n",
        "        )"
      ]
    },
    {
      "cell_type": "code",
      "execution_count": 7,
      "metadata": {
        "id": "B2MfJORX2T_h"
      },
      "outputs": [],
      "source": [
        "def data2img(d: np.ndarray):\n",
        "    return 0.5 * d + 0.5\n",
        "\n",
        "\n",
        "def visualize_images(data, n_rows, n_cols):\n",
        "    n_samples = n_rows * n_cols\n",
        "\n",
        "    if len(data) != n_samples:\n",
        "        sample_indices = np.random.choice(\n",
        "            len(data),\n",
        "            n_samples,\n",
        "            replace=len(data) < n_samples,\n",
        "        )\n",
        "    else:\n",
        "        sample_indices = np.arange(len(data)).astype(int)\n",
        "\n",
        "    plt.figure(figsize=(int(2.5 * n_cols), int(2.5 * n_rows)))\n",
        "    for i, sample_index in enumerate(sample_indices):\n",
        "        plt.subplot(n_rows, n_cols, i + 1)\n",
        "        plt.imshow(data2img(data[sample_index]))\n",
        "        plt.axis(\"off\")\n",
        "    plt.show()"
      ]
    },
    {
      "cell_type": "code",
      "execution_count": 8,
      "metadata": {
        "colab": {
          "base_uri": "https://localhost:8080/",
          "height": 701
        },
        "id": "rFngx2hW2T_h",
        "outputId": "1244ad07-4083-4b8d-ff39-914d2177149d"
      },
      "outputs": [
        {
          "data": {
            "image/png": "[encoded data removed]",
            "text/plain": [
              "<Figure size 1440x720 with 32 Axes>"
            ]
          },
          "metadata": {
            "needs_background": "light"
          },
          "output_type": "display_data"
        }
      ],
      "source": [
        "dm = SneakersGANDataModule(\"data\", batch_size=32)\n",
        "dm.setup()\n",
        "visualize_images(next(iter(dm.train_dataloader())), 4, 8)"
      ]
    },
    {
      "cell_type": "markdown",
      "metadata": {
        "id": "-ixooZ_e2T_h"
      },
      "source": [
        "## Fully connected GAN"
      ]
    },
    {
      "cell_type": "markdown",
      "metadata": {
        "id": "aR9nD0Oy2T_i"
      },
      "source": [
        "### Generator (0.5 pts) [cross-check:0]\n",
        "\n",
        "Our first step is to build a generator. You should use the layers in `torch.nn` (imported in the beginning as `nn`) to construct the model. Since we are using PyTorch and Lightning, you should create `nn.Module`. Use the default initializers for parameters.\n",
        "\n",
        "Architecture:\n",
        " * Fully connected (`Linear` in PyTorch) with output size of 1024\n",
        " * ReLU\n",
        " * Fully connected with output size of 1024\n",
        " * ReLU\n",
        " * Fully connected with output size of 28 x 28 x 3\n",
        " * TanH (to restrict every element of the output to be in the range [-1,1])\n",
        " * Reshape into (28, 28, 3)\n",
        "\n",
        "> You could perform reshaping inside of `forward` method"
      ]
    },
    {
      "cell_type": "code",
      "execution_count": 9,
      "metadata": {
        "id": "Ek4myHCp2T_i"
      },
      "outputs": [],
      "source": [
        "class FCGenerator(nn.Module):\n",
        "    def __init__(self, noise_dim: int, img_shape: tuple):\n",
        "        super().__init__()\n",
        "        self.img_shape = img_shape\n",
        "\n",
        "        self.model = nn.Sequential(\n",
        "            nn.Linear(noise_dim, 1024),\n",
        "            nn.ReLU(inplace=True),\n",
        "            # TODO: add other layers\n",
        "            nn.Linear(1024, 1024),\n",
        "            nn.ReLU(),\n",
        "            nn.Linear(1024, 28*28*3),\n",
        "            nn.Tanh()\n",
        "        )\n",
        "\n",
        "    def forward(self, z):\n",
        "        img = self.model(z).reshape(-1, 28,28,3)\n",
        "        # keep batch size\n",
        "        img = img.view(img.size(0), *self.img_shape)\n",
        "        return img"
      ]
    },
    {
      "cell_type": "code",
      "execution_count": 10,
      "metadata": {
        "id": "J4Ln0kZM2T_i"
      },
      "outputs": [],
      "source": [
        "fc_gen = FCGenerator(NOISE_DIM, IMAGE_SIZE + (3,))\n",
        "img_generated = fc_gen(torch.randn(32, NOISE_DIM))\n",
        "assert img_generated.shape[1:] == IMAGE_SIZE + (3,)"
      ]
    },
    {
      "cell_type": "markdown",
      "metadata": {
        "id": "You1A1iK2T_i"
      },
      "source": [
        "### Discriminator (0.5 pts) [cross-check:1]\n",
        "\n",
        "Now you are to build a discriminator. You should use the default initializers for parameters here as well.\n",
        "\n",
        "Architecture:\n",
        " * Flatten\n",
        " * Fully connected with output size of 256\n",
        " * Leaky ReLU(0.01)\n",
        " * Fully connected with output size of 256\n",
        " * Leaky ReLU(0.01)\n",
        " * Fully connected with output size of 1\n",
        " * Sigmoid (to obtain logits as an output)\n",
        "\n",
        "The output of the discriminator should thus have shape `[batch_size, 1]`, and contain real numbers corresponding to the probability that each of the `batch_size` inputs is a real image.\n",
        "\n",
        "> You could perform flattening inside of `forward` method"
      ]
    },
    {
      "cell_type": "code",
      "execution_count": 34,
      "metadata": {
        "id": "DyiCu7cn2T_i"
      },
      "outputs": [],
      "source": [
        "class FCDiscriminator(nn.Module):\n",
        "    def __init__(self, img_shape: tuple):\n",
        "        super().__init__()\n",
        "\n",
        "        inp = img_shape[0]*img_shape[1]*3\n",
        "\n",
        "        self.model = nn.Sequential(\n",
        "            # TODO: add layers\n",
        "            nn.Flatten(),\n",
        "            nn.Linear(inp, 256),\n",
        "            nn.LeakyReLU(0.01),\n",
        "            nn.Linear(256, 256),\n",
        "            nn.LeakyReLU(0.01),\n",
        "            nn.Linear(256, 1),\n",
        "            nn.Sigmoid()\n",
        "        )\n",
        "\n",
        "    def forward(self, img):\n",
        "        img_flat = img.view(img.size(0), -1)\n",
        "        return self.model(img_flat)"
      ]
    },
    {
      "cell_type": "code",
      "execution_count": 35,
      "metadata": {
        "colab": {
          "base_uri": "https://localhost:8080/"
        },
        "id": "UhCMNZ_k2T_i",
        "outputId": "543d099f-19a8-44b1-bf99-fd03317d76b0"
      },
      "outputs": [],
      "source": [
        "fc_dis = FCDiscriminator(IMAGE_SIZE + (3,))\n",
        "prob_dis = fc_dis(img_generated)\n",
        "assert prob_dis.shape[1:] == (1,)"
      ]
    },
    {
      "cell_type": "markdown",
      "metadata": {
        "id": "XjPcLoqF2T_i"
      },
      "source": [
        "## GAN Loss (1.0 pts) [cross-check:2]\n",
        "\n",
        "Compute the generator and discriminator loss. The generator loss is:\n",
        "$$\\ell_G  =  -\\mathbb{E}_{z \\sim p(z)}\\left[\\log D(G(z))\\right]$$\n",
        "and the discriminator loss is:\n",
        "$$ \\ell_D = -\\mathbb{E}_{x \\sim p_\\text{data}}\\left[\\log D(x)\\right] - \\mathbb{E}_{z \\sim p(z)}\\left[\\log \\left(1-D(G(z))\\right)\\right]$$\n",
        "\n",
        "Instead of computing the expectation, you may average over elements of the minibatch, so make sure to combine the loss by *averaging* instead of summing.\n",
        "\n",
        "Note that these are negated from the equations presented earlier as we will be *minimizing* these losses."
      ]
    },
    {
      "cell_type": "markdown",
      "metadata": {
        "id": "Zm73TxIqRpmJ"
      },
      "source": [
        "There is a `LightningModule` with all necessary methods. You should fill all `TODO` comments.\n",
        "\n",
        "> Don't forget to use `detach` method for discriminator training step to prevent backpropagation for generator compuational graph"
      ]
    },
    {
      "cell_type": "code",
      "execution_count": 42,
      "metadata": {
        "id": "30a0jfdl2T_i"
      },
      "outputs": [],
      "source": [
        "class FCGAN(pl.LightningModule):\n",
        "    def __init__(\n",
        "        self,\n",
        "        width,\n",
        "        height,\n",
        "        channels,\n",
        "        noise_dim=100,\n",
        "        lr=0.0002,\n",
        "        b1=0.5,\n",
        "        b2=0.999,\n",
        "    ):\n",
        "        super().__init__()\n",
        "        # make <arg> available as self.hparams.<arg>\n",
        "        self.save_hyperparameters()\n",
        "\n",
        "        # Important: This property activates manual optimization.\n",
        "        self.automatic_optimization = False\n",
        "\n",
        "        img_shape = (width, height, channels)\n",
        "        self.generator = FCGenerator(\n",
        "            noise_dim=self.hparams.noise_dim,\n",
        "            img_shape=img_shape,\n",
        "        )\n",
        "        self.discriminator = FCDiscriminator(\n",
        "            img_shape=img_shape,\n",
        "        )\n",
        "\n",
        "        self.validation_z = torch.randn(8, noise_dim)\n",
        "\n",
        "    def forward(self, z):\n",
        "        return self.generator(z)\n",
        "\n",
        "    def gan_loss(self, y_hat, y):\n",
        "        # TODO: implement GAN loss (hint: binary cross entropy)\n",
        "        # return 1\n",
        "        # self.l1_f = nn.BCELoss()\n",
        "        # self.l2_f = nn.BCELoss()\n",
        "\n",
        "        l1 = -nn.functional.binary_cross_entropy(torch.ones_like(y_hat), y_hat)\n",
        "        l2 = nn.functional.binary_cross_entropy(torch.zeros_like(y), y)\n",
        "        return l1 + l2\n",
        "\n",
        "    def training_step(self, imgs, batch_idx):\n",
        "        opt_g, opt_d = self.optimizers()\n",
        "\n",
        "        z = torch.randn(imgs.size(0), self.hparams.noise_dim)\n",
        "        # move to same device as imgs\n",
        "        z = z.type_as(imgs)\n",
        "\n",
        "        # optimize generator\n",
        "        self.generated_imgs = self(z)\n",
        "\n",
        "        # all fake, but we want to be real\n",
        "        valid = torch.ones(imgs.size(0), 1)\n",
        "        valid = valid.type_as(imgs)\n",
        "\n",
        "        g_loss = self.gan_loss(self.discriminator(self(z)), valid)\n",
        "        self.log(\"g_loss\", g_loss, prog_bar=True)\n",
        "\n",
        "        opt_g.zero_grad()\n",
        "        self.manual_backward(g_loss)\n",
        "        opt_g.step()\n",
        "\n",
        "        # optimize discriminator\n",
        "        valid = torch.ones(imgs.size(0), 1)\n",
        "        valid = valid.type_as(imgs)\n",
        "        # TODO: loss for `discriminator(imgs)` and `valid`\n",
        "        real_loss = -self.gan_loss(self.discriminator(imgs), valid)\n",
        "\n",
        "        # TODO: zero vector for fake_loss computation\n",
        "        fake = torch.zeros(imgs.size(0), 1)\n",
        "        fake = fake.type_as(imgs)\n",
        "\n",
        "        fake_loss = self.gan_loss(self.discriminator(self(z)), fake)\n",
        "\n",
        "        d_loss = (real_loss + fake_loss) / 2\n",
        "        self.log(\"d_loss\", d_loss, prog_bar=True)\n",
        "\n",
        "        opt_d.zero_grad()\n",
        "        self.manual_backward(d_loss)\n",
        "        opt_d.step()\n",
        "\n",
        "    def configure_optimizers(self):\n",
        "        lr = self.hparams.lr\n",
        "        b1 = self.hparams.b1\n",
        "        b2 = self.hparams.b2\n",
        "\n",
        "        opt_g = torch.optim.Adam(self.generator.parameters(), lr=lr, betas=(b1, b2))\n",
        "        opt_d = torch.optim.Adam(self.discriminator.parameters(), lr=lr, betas=(b1, b2))\n",
        "        return [opt_g, opt_d], []\n",
        "\n",
        "    def on_epoch_end(self):\n",
        "        # send results for validation_z to TensorBoard\n",
        "        z = self.validation_z.type_as(self.generator.model[0].weight)\n",
        "        # channels before pixels\n",
        "        sample_imgs = self(z).permute(0, 3, 1, 2)\n",
        "        grid = torchvision.utils.make_grid(sample_imgs)\n",
        "        self.logger.experiment.add_image(\"generated_images\", grid, self.current_epoch)"
      ]
    },
    {
      "cell_type": "markdown",
      "metadata": {
        "id": "95JM5baZmMKi"
      },
      "source": [
        "#### Training"
      ]
    },
    {
      "cell_type": "code",
      "execution_count": 43,
      "metadata": {
        "id": "DK1-PrBF2T_i"
      },
      "outputs": [],
      "source": [
        "# %load_ext tensorboard\n",
        "# %tensorboard --logdir lightning_logs"
      ]
    },
    {
      "cell_type": "code",
      "execution_count": 44,
      "metadata": {
        "id": "_C5wl2GAbEJG"
      },
      "outputs": [],
      "source": [
        "train_kwargs = {}"
      ]
    },
    {
      "cell_type": "code",
      "execution_count": 45,
      "metadata": {
        "id": "85yC1F7RRpmJ"
      },
      "outputs": [],
      "source": [
        "train_kwargs[\"max_epochs\"] = 100"
      ]
    },
    {
      "cell_type": "code",
      "execution_count": 46,
      "metadata": {
        "id": "bS0cdhgla6Qn"
      },
      "outputs": [],
      "source": [
        "# train_kwargs['accelerator'] = 'cpu'"
      ]
    },
    {
      "cell_type": "code",
      "execution_count": 47,
      "metadata": {
        "colab": {
          "base_uri": "https://localhost:8080/",
          "height": 688
        },
        "id": "AHcwyJFA2T_i",
        "outputId": "2faa62c1-2cec-4b67-f41a-1afd6a4f60dc"
      },
      "outputs": [
        {
          "name": "stderr",
          "output_type": "stream",
          "text": [
            "GPU available: True (cuda), used: True\n",
            "TPU available: False, using: 0 TPU cores\n",
            "IPU available: False, using: 0 IPUs\n",
            "HPU available: False, using: 0 HPUs\n"
          ]
        },
        {
          "ename": "RuntimeError",
          "evalue": "CUDA error: unknown error\nCUDA kernel errors might be asynchronously reported at some other API call, so the stacktrace below might be incorrect.\nFor debugging consider passing CUDA_LAUNCH_BLOCKING=1.\nCompile with `TORCH_USE_CUDA_DSA` to enable device-side assertions.\n",
          "output_type": "error",
          "traceback": [
            "\u001b[1;31m---------------------------------------------------------------------------\u001b[0m",
            "\u001b[1;31mRuntimeError\u001b[0m                              Traceback (most recent call last)",
            "File \u001b[1;32mc:\\ProgramData\\Python3_64\\lib\\site-packages\\pytorch_lightning\\trainer\\call.py:44\u001b[0m, in \u001b[0;36m_call_and_handle_interrupt\u001b[1;34m(trainer, trainer_fn, *args, **kwargs)\u001b[0m\n\u001b[0;32m     43\u001b[0m         \u001b[38;5;28;01mreturn\u001b[39;00m trainer\u001b[38;5;241m.\u001b[39mstrategy\u001b[38;5;241m.\u001b[39mlauncher\u001b[38;5;241m.\u001b[39mlaunch(trainer_fn, \u001b[38;5;241m*\u001b[39margs, trainer\u001b[38;5;241m=\u001b[39mtrainer, \u001b[38;5;241m*\u001b[39m\u001b[38;5;241m*\u001b[39mkwargs)\n\u001b[1;32m---> 44\u001b[0m     \u001b[38;5;28;01mreturn\u001b[39;00m trainer_fn(\u001b[38;5;241m*\u001b[39margs, \u001b[38;5;241m*\u001b[39m\u001b[38;5;241m*\u001b[39mkwargs)\n\u001b[0;32m     46\u001b[0m \u001b[38;5;28;01mexcept\u001b[39;00m _TunerExitException:\n",
            "File \u001b[1;32mc:\\ProgramData\\Python3_64\\lib\\site-packages\\pytorch_lightning\\trainer\\trainer.py:581\u001b[0m, in \u001b[0;36mTrainer._fit_impl\u001b[1;34m(self, model, train_dataloaders, val_dataloaders, datamodule, ckpt_path)\u001b[0m\n\u001b[0;32m    575\u001b[0m ckpt_path \u001b[38;5;241m=\u001b[39m \u001b[38;5;28mself\u001b[39m\u001b[38;5;241m.\u001b[39m_checkpoint_connector\u001b[38;5;241m.\u001b[39m_select_ckpt_path(\n\u001b[0;32m    576\u001b[0m     \u001b[38;5;28mself\u001b[39m\u001b[38;5;241m.\u001b[39mstate\u001b[38;5;241m.\u001b[39mfn,\n\u001b[0;32m    577\u001b[0m     ckpt_path,\n\u001b[0;32m    578\u001b[0m     model_provided\u001b[38;5;241m=\u001b[39m\u001b[38;5;28;01mTrue\u001b[39;00m,\n\u001b[0;32m    579\u001b[0m     model_connected\u001b[38;5;241m=\u001b[39m\u001b[38;5;28mself\u001b[39m\u001b[38;5;241m.\u001b[39mlightning_module \u001b[38;5;129;01mis\u001b[39;00m \u001b[38;5;129;01mnot\u001b[39;00m \u001b[38;5;28;01mNone\u001b[39;00m,\n\u001b[0;32m    580\u001b[0m )\n\u001b[1;32m--> 581\u001b[0m \u001b[38;5;28;43mself\u001b[39;49m\u001b[38;5;241;43m.\u001b[39;49m\u001b[43m_run\u001b[49m\u001b[43m(\u001b[49m\u001b[43mmodel\u001b[49m\u001b[43m,\u001b[49m\u001b[43m \u001b[49m\u001b[43mckpt_path\u001b[49m\u001b[38;5;241;43m=\u001b[39;49m\u001b[43mckpt_path\u001b[49m\u001b[43m)\u001b[49m\n\u001b[0;32m    583\u001b[0m \u001b[38;5;28;01massert\u001b[39;00m \u001b[38;5;28mself\u001b[39m\u001b[38;5;241m.\u001b[39mstate\u001b[38;5;241m.\u001b[39mstopped\n",
            "File \u001b[1;32mc:\\ProgramData\\Python3_64\\lib\\site-packages\\pytorch_lightning\\trainer\\trainer.py:966\u001b[0m, in \u001b[0;36mTrainer._run\u001b[1;34m(self, model, ckpt_path)\u001b[0m\n\u001b[0;32m    965\u001b[0m \u001b[38;5;66;03m# strategy will configure model and move it to the device\u001b[39;00m\n\u001b[1;32m--> 966\u001b[0m \u001b[38;5;28;43mself\u001b[39;49m\u001b[38;5;241;43m.\u001b[39;49m\u001b[43mstrategy\u001b[49m\u001b[38;5;241;43m.\u001b[39;49m\u001b[43msetup\u001b[49m\u001b[43m(\u001b[49m\u001b[38;5;28;43mself\u001b[39;49m\u001b[43m)\u001b[49m\n\u001b[0;32m    968\u001b[0m \u001b[38;5;66;03m# hook\u001b[39;00m\n",
            "File \u001b[1;32mc:\\ProgramData\\Python3_64\\lib\\site-packages\\pytorch_lightning\\strategies\\single_device.py:77\u001b[0m, in \u001b[0;36mSingleDeviceStrategy.setup\u001b[1;34m(self, trainer)\u001b[0m\n\u001b[0;32m     76\u001b[0m \u001b[38;5;28;01mdef\u001b[39;00m \u001b[38;5;21msetup\u001b[39m(\u001b[38;5;28mself\u001b[39m, trainer: pl\u001b[38;5;241m.\u001b[39mTrainer) \u001b[38;5;241m-\u001b[39m\u001b[38;5;241m>\u001b[39m \u001b[38;5;28;01mNone\u001b[39;00m:\n\u001b[1;32m---> 77\u001b[0m     \u001b[38;5;28;43mself\u001b[39;49m\u001b[38;5;241;43m.\u001b[39;49m\u001b[43mmodel_to_device\u001b[49m\u001b[43m(\u001b[49m\u001b[43m)\u001b[49m\n\u001b[0;32m     78\u001b[0m     \u001b[38;5;28msuper\u001b[39m()\u001b[38;5;241m.\u001b[39msetup(trainer)\n",
            "File \u001b[1;32mc:\\ProgramData\\Python3_64\\lib\\site-packages\\pytorch_lightning\\strategies\\single_device.py:74\u001b[0m, in \u001b[0;36mSingleDeviceStrategy.model_to_device\u001b[1;34m(self)\u001b[0m\n\u001b[0;32m     73\u001b[0m \u001b[38;5;28;01massert\u001b[39;00m \u001b[38;5;28mself\u001b[39m\u001b[38;5;241m.\u001b[39mmodel \u001b[38;5;129;01mis\u001b[39;00m \u001b[38;5;129;01mnot\u001b[39;00m \u001b[38;5;28;01mNone\u001b[39;00m, \u001b[38;5;124m\"\u001b[39m\u001b[38;5;124mself.model must be set before self.model.to()\u001b[39m\u001b[38;5;124m\"\u001b[39m\n\u001b[1;32m---> 74\u001b[0m \u001b[38;5;28;43mself\u001b[39;49m\u001b[38;5;241;43m.\u001b[39;49m\u001b[43mmodel\u001b[49m\u001b[38;5;241;43m.\u001b[39;49m\u001b[43mto\u001b[49m\u001b[43m(\u001b[49m\u001b[38;5;28;43mself\u001b[39;49m\u001b[38;5;241;43m.\u001b[39;49m\u001b[43mroot_device\u001b[49m\u001b[43m)\u001b[49m\n",
            "File \u001b[1;32mc:\\ProgramData\\Python3_64\\lib\\site-packages\\lightning_fabric\\utilities\\device_dtype_mixin.py:54\u001b[0m, in \u001b[0;36m_DeviceDtypeModuleMixin.to\u001b[1;34m(self, *args, **kwargs)\u001b[0m\n\u001b[0;32m     53\u001b[0m \u001b[38;5;28mself\u001b[39m\u001b[38;5;241m.\u001b[39m__update_properties(device\u001b[38;5;241m=\u001b[39mdevice, dtype\u001b[38;5;241m=\u001b[39mdtype)\n\u001b[1;32m---> 54\u001b[0m \u001b[38;5;28;01mreturn\u001b[39;00m \u001b[38;5;28msuper\u001b[39m()\u001b[38;5;241m.\u001b[39mto(\u001b[38;5;241m*\u001b[39margs, \u001b[38;5;241m*\u001b[39m\u001b[38;5;241m*\u001b[39mkwargs)\n",
            "File \u001b[1;32mc:\\ProgramData\\Python3_64\\lib\\site-packages\\torch\\nn\\modules\\module.py:1160\u001b[0m, in \u001b[0;36mModule.to\u001b[1;34m(self, *args, **kwargs)\u001b[0m\n\u001b[0;32m   1158\u001b[0m     \u001b[38;5;28;01mreturn\u001b[39;00m t\u001b[38;5;241m.\u001b[39mto(device, dtype \u001b[38;5;28;01mif\u001b[39;00m t\u001b[38;5;241m.\u001b[39mis_floating_point() \u001b[38;5;129;01mor\u001b[39;00m t\u001b[38;5;241m.\u001b[39mis_complex() \u001b[38;5;28;01melse\u001b[39;00m \u001b[38;5;28;01mNone\u001b[39;00m, non_blocking)\n\u001b[1;32m-> 1160\u001b[0m \u001b[38;5;28;01mreturn\u001b[39;00m \u001b[38;5;28;43mself\u001b[39;49m\u001b[38;5;241;43m.\u001b[39;49m\u001b[43m_apply\u001b[49m\u001b[43m(\u001b[49m\u001b[43mconvert\u001b[49m\u001b[43m)\u001b[49m\n",
            "File \u001b[1;32mc:\\ProgramData\\Python3_64\\lib\\site-packages\\torch\\nn\\modules\\module.py:810\u001b[0m, in \u001b[0;36mModule._apply\u001b[1;34m(self, fn, recurse)\u001b[0m\n\u001b[0;32m    809\u001b[0m     \u001b[38;5;28;01mfor\u001b[39;00m module \u001b[38;5;129;01min\u001b[39;00m \u001b[38;5;28mself\u001b[39m\u001b[38;5;241m.\u001b[39mchildren():\n\u001b[1;32m--> 810\u001b[0m         \u001b[43mmodule\u001b[49m\u001b[38;5;241;43m.\u001b[39;49m\u001b[43m_apply\u001b[49m\u001b[43m(\u001b[49m\u001b[43mfn\u001b[49m\u001b[43m)\u001b[49m\n\u001b[0;32m    812\u001b[0m \u001b[38;5;28;01mdef\u001b[39;00m \u001b[38;5;21mcompute_should_use_set_data\u001b[39m(tensor, tensor_applied):\n",
            "File \u001b[1;32mc:\\ProgramData\\Python3_64\\lib\\site-packages\\torch\\nn\\modules\\module.py:810\u001b[0m, in \u001b[0;36mModule._apply\u001b[1;34m(self, fn, recurse)\u001b[0m\n\u001b[0;32m    809\u001b[0m     \u001b[38;5;28;01mfor\u001b[39;00m module \u001b[38;5;129;01min\u001b[39;00m \u001b[38;5;28mself\u001b[39m\u001b[38;5;241m.\u001b[39mchildren():\n\u001b[1;32m--> 810\u001b[0m         \u001b[43mmodule\u001b[49m\u001b[38;5;241;43m.\u001b[39;49m\u001b[43m_apply\u001b[49m\u001b[43m(\u001b[49m\u001b[43mfn\u001b[49m\u001b[43m)\u001b[49m\n\u001b[0;32m    812\u001b[0m \u001b[38;5;28;01mdef\u001b[39;00m \u001b[38;5;21mcompute_should_use_set_data\u001b[39m(tensor, tensor_applied):\n",
            "File \u001b[1;32mc:\\ProgramData\\Python3_64\\lib\\site-packages\\torch\\nn\\modules\\module.py:810\u001b[0m, in \u001b[0;36mModule._apply\u001b[1;34m(self, fn, recurse)\u001b[0m\n\u001b[0;32m    809\u001b[0m     \u001b[38;5;28;01mfor\u001b[39;00m module \u001b[38;5;129;01min\u001b[39;00m \u001b[38;5;28mself\u001b[39m\u001b[38;5;241m.\u001b[39mchildren():\n\u001b[1;32m--> 810\u001b[0m         \u001b[43mmodule\u001b[49m\u001b[38;5;241;43m.\u001b[39;49m\u001b[43m_apply\u001b[49m\u001b[43m(\u001b[49m\u001b[43mfn\u001b[49m\u001b[43m)\u001b[49m\n\u001b[0;32m    812\u001b[0m \u001b[38;5;28;01mdef\u001b[39;00m \u001b[38;5;21mcompute_should_use_set_data\u001b[39m(tensor, tensor_applied):\n",
            "File \u001b[1;32mc:\\ProgramData\\Python3_64\\lib\\site-packages\\torch\\nn\\modules\\module.py:833\u001b[0m, in \u001b[0;36mModule._apply\u001b[1;34m(self, fn, recurse)\u001b[0m\n\u001b[0;32m    832\u001b[0m \u001b[38;5;28;01mwith\u001b[39;00m torch\u001b[38;5;241m.\u001b[39mno_grad():\n\u001b[1;32m--> 833\u001b[0m     param_applied \u001b[38;5;241m=\u001b[39m \u001b[43mfn\u001b[49m\u001b[43m(\u001b[49m\u001b[43mparam\u001b[49m\u001b[43m)\u001b[49m\n\u001b[0;32m    834\u001b[0m should_use_set_data \u001b[38;5;241m=\u001b[39m compute_should_use_set_data(param, param_applied)\n",
            "File \u001b[1;32mc:\\ProgramData\\Python3_64\\lib\\site-packages\\torch\\nn\\modules\\module.py:1158\u001b[0m, in \u001b[0;36mModule.to.<locals>.convert\u001b[1;34m(t)\u001b[0m\n\u001b[0;32m   1156\u001b[0m     \u001b[38;5;28;01mreturn\u001b[39;00m t\u001b[38;5;241m.\u001b[39mto(device, dtype \u001b[38;5;28;01mif\u001b[39;00m t\u001b[38;5;241m.\u001b[39mis_floating_point() \u001b[38;5;129;01mor\u001b[39;00m t\u001b[38;5;241m.\u001b[39mis_complex() \u001b[38;5;28;01melse\u001b[39;00m \u001b[38;5;28;01mNone\u001b[39;00m,\n\u001b[0;32m   1157\u001b[0m                 non_blocking, memory_format\u001b[38;5;241m=\u001b[39mconvert_to_format)\n\u001b[1;32m-> 1158\u001b[0m \u001b[38;5;28;01mreturn\u001b[39;00m \u001b[43mt\u001b[49m\u001b[38;5;241;43m.\u001b[39;49m\u001b[43mto\u001b[49m\u001b[43m(\u001b[49m\u001b[43mdevice\u001b[49m\u001b[43m,\u001b[49m\u001b[43m \u001b[49m\u001b[43mdtype\u001b[49m\u001b[43m \u001b[49m\u001b[38;5;28;43;01mif\u001b[39;49;00m\u001b[43m \u001b[49m\u001b[43mt\u001b[49m\u001b[38;5;241;43m.\u001b[39;49m\u001b[43mis_floating_point\u001b[49m\u001b[43m(\u001b[49m\u001b[43m)\u001b[49m\u001b[43m \u001b[49m\u001b[38;5;129;43;01mor\u001b[39;49;00m\u001b[43m \u001b[49m\u001b[43mt\u001b[49m\u001b[38;5;241;43m.\u001b[39;49m\u001b[43mis_complex\u001b[49m\u001b[43m(\u001b[49m\u001b[43m)\u001b[49m\u001b[43m \u001b[49m\u001b[38;5;28;43;01melse\u001b[39;49;00m\u001b[43m \u001b[49m\u001b[38;5;28;43;01mNone\u001b[39;49;00m\u001b[43m,\u001b[49m\u001b[43m \u001b[49m\u001b[43mnon_blocking\u001b[49m\u001b[43m)\u001b[49m\n",
            "\u001b[1;31mRuntimeError\u001b[0m: CUDA error: unknown error\nCUDA kernel errors might be asynchronously reported at some other API call, so the stacktrace below might be incorrect.\nFor debugging consider passing CUDA_LAUNCH_BLOCKING=1.\nCompile with `TORCH_USE_CUDA_DSA` to enable device-side assertions.\n",
            "\nDuring handling of the above exception, another exception occurred:\n",
            "\u001b[1;31mRuntimeError\u001b[0m                              Traceback (most recent call last)",
            "Input \u001b[1;32mIn [47]\u001b[0m, in \u001b[0;36m<cell line: 4>\u001b[1;34m()\u001b[0m\n\u001b[0;32m      2\u001b[0m model \u001b[38;5;241m=\u001b[39m FCGAN(\u001b[38;5;241m*\u001b[39mIMAGE_SIZE, \u001b[38;5;241m3\u001b[39m, NOISE_DIM)\n\u001b[0;32m      3\u001b[0m trainer \u001b[38;5;241m=\u001b[39m pl\u001b[38;5;241m.\u001b[39mTrainer(\u001b[38;5;241m*\u001b[39m\u001b[38;5;241m*\u001b[39mtrain_kwargs)\n\u001b[1;32m----> 4\u001b[0m \u001b[43mtrainer\u001b[49m\u001b[38;5;241;43m.\u001b[39;49m\u001b[43mfit\u001b[49m\u001b[43m(\u001b[49m\u001b[43mmodel\u001b[49m\u001b[43m,\u001b[49m\u001b[43m \u001b[49m\u001b[43mdm\u001b[49m\u001b[43m)\u001b[49m\n",
            "File \u001b[1;32mc:\\ProgramData\\Python3_64\\lib\\site-packages\\pytorch_lightning\\trainer\\trainer.py:545\u001b[0m, in \u001b[0;36mTrainer.fit\u001b[1;34m(self, model, train_dataloaders, val_dataloaders, datamodule, ckpt_path)\u001b[0m\n\u001b[0;32m    543\u001b[0m \u001b[38;5;28mself\u001b[39m\u001b[38;5;241m.\u001b[39mstate\u001b[38;5;241m.\u001b[39mstatus \u001b[38;5;241m=\u001b[39m TrainerStatus\u001b[38;5;241m.\u001b[39mRUNNING\n\u001b[0;32m    544\u001b[0m \u001b[38;5;28mself\u001b[39m\u001b[38;5;241m.\u001b[39mtraining \u001b[38;5;241m=\u001b[39m \u001b[38;5;28;01mTrue\u001b[39;00m\n\u001b[1;32m--> 545\u001b[0m \u001b[43mcall\u001b[49m\u001b[38;5;241;43m.\u001b[39;49m\u001b[43m_call_and_handle_interrupt\u001b[49m\u001b[43m(\u001b[49m\n\u001b[0;32m    546\u001b[0m \u001b[43m    \u001b[49m\u001b[38;5;28;43mself\u001b[39;49m\u001b[43m,\u001b[49m\u001b[43m \u001b[49m\u001b[38;5;28;43mself\u001b[39;49m\u001b[38;5;241;43m.\u001b[39;49m\u001b[43m_fit_impl\u001b[49m\u001b[43m,\u001b[49m\u001b[43m \u001b[49m\u001b[43mmodel\u001b[49m\u001b[43m,\u001b[49m\u001b[43m \u001b[49m\u001b[43mtrain_dataloaders\u001b[49m\u001b[43m,\u001b[49m\u001b[43m \u001b[49m\u001b[43mval_dataloaders\u001b[49m\u001b[43m,\u001b[49m\u001b[43m \u001b[49m\u001b[43mdatamodule\u001b[49m\u001b[43m,\u001b[49m\u001b[43m \u001b[49m\u001b[43mckpt_path\u001b[49m\n\u001b[0;32m    547\u001b[0m \u001b[43m\u001b[49m\u001b[43m)\u001b[49m\n",
            "File \u001b[1;32mc:\\ProgramData\\Python3_64\\lib\\site-packages\\pytorch_lightning\\trainer\\call.py:68\u001b[0m, in \u001b[0;36m_call_and_handle_interrupt\u001b[1;34m(trainer, trainer_fn, *args, **kwargs)\u001b[0m\n\u001b[0;32m     66\u001b[0m \u001b[38;5;28;01mfor\u001b[39;00m logger \u001b[38;5;129;01min\u001b[39;00m trainer\u001b[38;5;241m.\u001b[39mloggers:\n\u001b[0;32m     67\u001b[0m     logger\u001b[38;5;241m.\u001b[39mfinalize(\u001b[38;5;124m\"\u001b[39m\u001b[38;5;124mfailed\u001b[39m\u001b[38;5;124m\"\u001b[39m)\n\u001b[1;32m---> 68\u001b[0m \u001b[43mtrainer\u001b[49m\u001b[38;5;241;43m.\u001b[39;49m\u001b[43m_teardown\u001b[49m\u001b[43m(\u001b[49m\u001b[43m)\u001b[49m\n\u001b[0;32m     69\u001b[0m \u001b[38;5;66;03m# teardown might access the stage so we reset it after\u001b[39;00m\n\u001b[0;32m     70\u001b[0m trainer\u001b[38;5;241m.\u001b[39mstate\u001b[38;5;241m.\u001b[39mstage \u001b[38;5;241m=\u001b[39m \u001b[38;5;28;01mNone\u001b[39;00m\n",
            "File \u001b[1;32mc:\\ProgramData\\Python3_64\\lib\\site-packages\\pytorch_lightning\\trainer\\trainer.py:1013\u001b[0m, in \u001b[0;36mTrainer._teardown\u001b[1;34m(self)\u001b[0m\n\u001b[0;32m   1010\u001b[0m \u001b[38;5;28;01mdef\u001b[39;00m \u001b[38;5;21m_teardown\u001b[39m(\u001b[38;5;28mself\u001b[39m) \u001b[38;5;241m-\u001b[39m\u001b[38;5;241m>\u001b[39m \u001b[38;5;28;01mNone\u001b[39;00m:\n\u001b[0;32m   1011\u001b[0m \u001b[38;5;250m    \u001b[39m\u001b[38;5;124;03m\"\"\"This is the Trainer's internal teardown, unrelated to the `teardown` hooks in LightningModule and Callback;\u001b[39;00m\n\u001b[0;32m   1012\u001b[0m \u001b[38;5;124;03m    those are handled by :meth:`_call_teardown_hook`.\"\"\"\u001b[39;00m\n\u001b[1;32m-> 1013\u001b[0m     \u001b[38;5;28;43mself\u001b[39;49m\u001b[38;5;241;43m.\u001b[39;49m\u001b[43mstrategy\u001b[49m\u001b[38;5;241;43m.\u001b[39;49m\u001b[43mteardown\u001b[49m\u001b[43m(\u001b[49m\u001b[43m)\u001b[49m\n\u001b[0;32m   1014\u001b[0m     loop \u001b[38;5;241m=\u001b[39m \u001b[38;5;28mself\u001b[39m\u001b[38;5;241m.\u001b[39m_active_loop\n\u001b[0;32m   1015\u001b[0m     \u001b[38;5;66;03m# loop should never be `None` here but it can because we don't know the trainer stage with `ddp_spawn`\u001b[39;00m\n",
            "File \u001b[1;32mc:\\ProgramData\\Python3_64\\lib\\site-packages\\pytorch_lightning\\strategies\\strategy.py:531\u001b[0m, in \u001b[0;36mStrategy.teardown\u001b[1;34m(self)\u001b[0m\n\u001b[0;32m    529\u001b[0m \u001b[38;5;28mself\u001b[39m\u001b[38;5;241m.\u001b[39mprecision_plugin\u001b[38;5;241m.\u001b[39mteardown()\n\u001b[0;32m    530\u001b[0m \u001b[38;5;28;01massert\u001b[39;00m \u001b[38;5;28mself\u001b[39m\u001b[38;5;241m.\u001b[39maccelerator \u001b[38;5;129;01mis\u001b[39;00m \u001b[38;5;129;01mnot\u001b[39;00m \u001b[38;5;28;01mNone\u001b[39;00m\n\u001b[1;32m--> 531\u001b[0m \u001b[38;5;28;43mself\u001b[39;49m\u001b[38;5;241;43m.\u001b[39;49m\u001b[43maccelerator\u001b[49m\u001b[38;5;241;43m.\u001b[39;49m\u001b[43mteardown\u001b[49m\u001b[43m(\u001b[49m\u001b[43m)\u001b[49m\n\u001b[0;32m    532\u001b[0m \u001b[38;5;28mself\u001b[39m\u001b[38;5;241m.\u001b[39mcheckpoint_io\u001b[38;5;241m.\u001b[39mteardown()\n",
            "File \u001b[1;32mc:\\ProgramData\\Python3_64\\lib\\site-packages\\pytorch_lightning\\accelerators\\cuda.py:77\u001b[0m, in \u001b[0;36mCUDAAccelerator.teardown\u001b[1;34m(self)\u001b[0m\n\u001b[0;32m     76\u001b[0m \u001b[38;5;28;01mdef\u001b[39;00m \u001b[38;5;21mteardown\u001b[39m(\u001b[38;5;28mself\u001b[39m) \u001b[38;5;241m-\u001b[39m\u001b[38;5;241m>\u001b[39m \u001b[38;5;28;01mNone\u001b[39;00m:\n\u001b[1;32m---> 77\u001b[0m     \u001b[43m_clear_cuda_memory\u001b[49m\u001b[43m(\u001b[49m\u001b[43m)\u001b[49m\n",
            "File \u001b[1;32mc:\\ProgramData\\Python3_64\\lib\\site-packages\\lightning_fabric\\accelerators\\cuda.py:370\u001b[0m, in \u001b[0;36m_clear_cuda_memory\u001b[1;34m()\u001b[0m\n\u001b[0;32m    367\u001b[0m \u001b[38;5;28;01mif\u001b[39;00m _TORCH_GREATER_EQUAL_2_0 \u001b[38;5;129;01mand\u001b[39;00m \u001b[38;5;28mhasattr\u001b[39m(torch\u001b[38;5;241m.\u001b[39m_C, \u001b[38;5;124m\"\u001b[39m\u001b[38;5;124m_cuda_clearCublasWorkspaces\u001b[39m\u001b[38;5;124m\"\u001b[39m):\n\u001b[0;32m    368\u001b[0m     \u001b[38;5;66;03m# https://github.com/pytorch/pytorch/issues/95668\u001b[39;00m\n\u001b[0;32m    369\u001b[0m     torch\u001b[38;5;241m.\u001b[39m_C\u001b[38;5;241m.\u001b[39m_cuda_clearCublasWorkspaces()\n\u001b[1;32m--> 370\u001b[0m \u001b[43mtorch\u001b[49m\u001b[38;5;241;43m.\u001b[39;49m\u001b[43mcuda\u001b[49m\u001b[38;5;241;43m.\u001b[39;49m\u001b[43mempty_cache\u001b[49m\u001b[43m(\u001b[49m\u001b[43m)\u001b[49m\n",
            "File \u001b[1;32mc:\\ProgramData\\Python3_64\\lib\\site-packages\\torch\\cuda\\memory.py:159\u001b[0m, in \u001b[0;36mempty_cache\u001b[1;34m()\u001b[0m\n\u001b[0;32m    148\u001b[0m \u001b[38;5;250m\u001b[39m\u001b[38;5;124mr\u001b[39m\u001b[38;5;124;03m\"\"\"Releases all unoccupied cached memory currently held by the caching\u001b[39;00m\n\u001b[0;32m    149\u001b[0m \u001b[38;5;124;03mallocator so that those can be used in other GPU application and visible in\u001b[39;00m\n\u001b[0;32m    150\u001b[0m \u001b[38;5;124;03m`nvidia-smi`.\u001b[39;00m\n\u001b[1;32m   (...)\u001b[0m\n\u001b[0;32m    156\u001b[0m \u001b[38;5;124;03m    more details about GPU memory management.\u001b[39;00m\n\u001b[0;32m    157\u001b[0m \u001b[38;5;124;03m\"\"\"\u001b[39;00m\n\u001b[0;32m    158\u001b[0m \u001b[38;5;28;01mif\u001b[39;00m is_initialized():\n\u001b[1;32m--> 159\u001b[0m     \u001b[43mtorch\u001b[49m\u001b[38;5;241;43m.\u001b[39;49m\u001b[43m_C\u001b[49m\u001b[38;5;241;43m.\u001b[39;49m\u001b[43m_cuda_emptyCache\u001b[49m\u001b[43m(\u001b[49m\u001b[43m)\u001b[49m\n",
            "\u001b[1;31mRuntimeError\u001b[0m: CUDA error: unknown error\nCUDA kernel errors might be asynchronously reported at some other API call, so the stacktrace below might be incorrect.\nFor debugging consider passing CUDA_LAUNCH_BLOCKING=1.\nCompile with `TORCH_USE_CUDA_DSA` to enable device-side assertions.\n"
          ]
        }
      ],
      "source": [
        "dm = SneakersGANDataModule(\"data\", batch_size=BATCH_SIZE)\n",
        "model = FCGAN(*IMAGE_SIZE, 3, NOISE_DIM)\n",
        "trainer = pl.Trainer(**train_kwargs)\n",
        "trainer.fit(model, dm)"
      ]
    },
    {
      "cell_type": "code",
      "execution_count": null,
      "metadata": {
        "id": "IxsBIlLm2T_i"
      },
      "outputs": [],
      "source": [
        "visualize_images(model(torch.randn(32, NOISE_DIM)).detach(), 4, 8)"
      ]
    },
    {
      "cell_type": "markdown",
      "metadata": {
        "id": "FXhZuP5GRpmK"
      },
      "source": [
        "> Hint: this architecture isn't great, so don't spend all your time to train it"
      ]
    },
    {
      "cell_type": "markdown",
      "metadata": {
        "id": "9r8wLBjp2T_i"
      },
      "source": [
        "## Deep Convolutional GANs\n",
        "In the first part of the notebook, you have implemented an almost direct copy of the original GAN network from Ian Goodfellow. However, this network architecture allows no real spatial reasoning. It is unable to reason about things like \"sharp edges\" in general because it lacks any convolutional layers. Thus, in this section, you are to implement some of the ideas from [DCGAN](https://arxiv.org/abs/1511.06434), where both discriminator and generator are convolutional networks."
      ]
    },
    {
      "cell_type": "markdown",
      "metadata": {
        "id": "RlmSNMvu2T_i"
      },
      "source": [
        "### Generator (1.0 pts) [cross-check:3]\n",
        "\n",
        "Architecture:\n",
        " * Fully connected with output size of 128x7x7\n",
        " * Reshape into (128, 7, 7)\n",
        " * ReLU\n",
        " * UpSampling2D(2)\n",
        " * Conv2D: 3x3, filters=128, padding=\"same\"\n",
        " * Batch Normalization 2D with momentum(0.8)\n",
        " * ReLU\n",
        " * UpSampling2D(2)\n",
        " * Conv2D: 3x3, filters=64, padding=\"same\"\n",
        " * Batch Normalization 2D with momentum(0.8)\n",
        " * ReLU\n",
        " * Conv2D: 3x3, filters=3, padding=\"same\"\n",
        " * TanH (to restrict every element of the output to be in the range [-1,1])\n",
        "\n",
        "> There is no `padding=\"same\"` in PyTorch, but you could use `padding=k//2` and `padding_mode=\"zeros\"` for kernel size `k`"
      ]
    },
    {
      "cell_type": "code",
      "execution_count": null,
      "metadata": {
        "id": "px1zHOt02T_i"
      },
      "outputs": [],
      "source": [
        "class DCGenerator(nn.Module):\n",
        "    def __init__(self, noise_dim: int, img_shape: tuple):\n",
        "        super().__init__()\n",
        "        self.img_shape = img_shape\n",
        "\n",
        "        self.model = nn.Sequential(\n",
        "            # TODO: add layers\n",
        "            ...\n",
        "        )\n",
        "\n",
        "    def forward(self, z):\n",
        "        img = self.model(z)\n",
        "        # make channel axis last\n",
        "        img = img.permute(0, 2, 3, 1)\n",
        "        return img"
      ]
    },
    {
      "cell_type": "code",
      "execution_count": null,
      "metadata": {
        "id": "3VlTQU7d2T_i"
      },
      "outputs": [],
      "source": [
        "dc_gen = DCGenerator(NOISE_DIM, IMAGE_SIZE + (3,))\n",
        "fake_imgs = dc_gen(torch.randn(10, NOISE_DIM))\n",
        "assert fake_imgs.shape[1:] == IMAGE_SIZE + (3,)"
      ]
    },
    {
      "cell_type": "markdown",
      "metadata": {
        "id": "tyqq0l5l2T_i"
      },
      "source": [
        "### Discriminator (1.0 pts) [cross-check:4]\n",
        "\n",
        "Architecture:\n",
        " * Conv2D: 3x3, filters=32, strides=2, padding=\"same\"\n",
        " * Leaky ReLU(0.2)\n",
        " * Dropout(0.25)\n",
        " * Conv2D: 3x3, filters=64, strides=2, padding=\"same\"\n",
        " * Zero Padding 2D: ((0, 1), (0, 1))\n",
        " * Batch Normalization 2D with momentum(0.8)\n",
        " * Leaky ReLU(0.2)\n",
        " * Dropout(0.25)\n",
        " * Conv2D: 3x3, filters=128, strides=2, padding=\"same\"\n",
        " * Batch Normalization 2D with momentum(0.8)\n",
        " * Leaky ReLU(0.2)\n",
        " * Dropout(0.25)\n",
        " * Conv2D: 3x3, filters=256, strides=2, padding=\"same\"\n",
        " * Batch Normalization 2D with momentum(0.8)\n",
        " * Leaky ReLU(0.2)\n",
        " * Dropout(0.25)\n",
        " * Flatten\n",
        " * Fully connected layer with output size 1\n",
        " * Sigmoid"
      ]
    },
    {
      "cell_type": "code",
      "execution_count": null,
      "metadata": {
        "id": "TeqlNeKM2T_i"
      },
      "outputs": [],
      "source": [
        "class DCDiscriminator(nn.Module):\n",
        "    def __init__(self, img_shape: tuple):\n",
        "        super().__init__()\n",
        "\n",
        "        self.model = nn.Sequential(\n",
        "            # TODO: add layers\n",
        "            ...\n",
        "        )\n",
        "\n",
        "    def forward(self, img):\n",
        "        # channels first\n",
        "        img_chan = img.permute(0, 3, 1, 2)\n",
        "        return self.model(img_chan)"
      ]
    },
    {
      "cell_type": "code",
      "execution_count": null,
      "metadata": {
        "id": "iv8LAYu52T_i"
      },
      "outputs": [],
      "source": [
        "dc_dis = DCDiscriminator(img_shape=IMAGE_SIZE + (3,))\n",
        "fake_proba = dc_dis(fake_imgs)\n",
        "assert fake_proba.shape[1:] == (1,)"
      ]
    },
    {
      "cell_type": "markdown",
      "metadata": {
        "id": "EE-qWG0Y2T_i"
      },
      "source": [
        "## Least Squares GAN loss (1.0 pts) [cross-check:5]\n",
        "We'll now look at [Least Squares GAN loss](https://arxiv.org/abs/1611.04076), a newer, more stable alternative to the original GAN loss function. For this part, all you have to do is change the loss function and retrain the model. You'll implement equation (9) in the paper, with the generator loss:\n",
        "$$\\ell_G  =  \\frac{1}{2}\\mathbb{E}_{z \\sim p(z)}\\left[\\left(D(G(z))-1\\right)^2\\right]$$\n",
        "and the discriminator loss:\n",
        "$$ \\ell_D = \\frac{1}{2}\\mathbb{E}_{x \\sim p_\\text{data}}\\left[\\left(D(x)-1\\right)^2\\right] + \\frac{1}{2}\\mathbb{E}_{z \\sim p(z)}\\left[ \\left(D(G(z))\\right)^2\\right]$$"
      ]
    },
    {
      "cell_type": "code",
      "execution_count": null,
      "metadata": {
        "id": "3pjHNyLm2T_i"
      },
      "outputs": [],
      "source": [
        "class DCGAN(pl.LightningModule):\n",
        "    def __init__(\n",
        "        self,\n",
        "        width,\n",
        "        height,\n",
        "        channels,\n",
        "        noise_dim=100,\n",
        "        lr=0.0002,\n",
        "        b1=0.5,\n",
        "        b2=0.999,\n",
        "    ):\n",
        "        super().__init__()\n",
        "        # make <arg> available as self.hparams.<arg>\n",
        "        self.save_hyperparameters()\n",
        "\n",
        "        # Important: This property activates manual optimization.\n",
        "        self.automatic_optimization = False\n",
        "\n",
        "        img_shape = (width, height, channels)\n",
        "        self.generator = DCGenerator(\n",
        "            noise_dim=self.hparams.noise_dim,\n",
        "            img_shape=img_shape,\n",
        "        )\n",
        "        self.discriminator = DCDiscriminator(\n",
        "            img_shape=img_shape,\n",
        "        )\n",
        "\n",
        "        self.validation_z = torch.randn(8, noise_dim)\n",
        "\n",
        "    def forward(self, z):\n",
        "        return self.generator(z)\n",
        "\n",
        "    def ls_loss(self, y_hat, y):\n",
        "        # TODO: implement least squares GAN loss\n",
        "        return ...\n",
        "\n",
        "    def training_step(self, imgs, batch_idx):\n",
        "        opt_g, opt_d = self.optimizers()\n",
        "\n",
        "        z = torch.randn(imgs.size(0), self.hparams.noise_dim)\n",
        "        # move to same device as imgs\n",
        "        z = z.type_as(imgs)\n",
        "\n",
        "        # optimize generator\n",
        "        # TODO: compute loss as before (FCGAN)\n",
        "        ...\n",
        "\n",
        "        self.log(\"g_loss\", g_loss, prog_bar=True)\n",
        "\n",
        "        opt_g.zero_grad()\n",
        "        self.manual_backward(g_loss)\n",
        "        opt_g.step()\n",
        "\n",
        "        # optimize discriminator\n",
        "        # TODO: compute loss as before (FCGAN)\n",
        "        ...\n",
        "\n",
        "        self.log(\"d_loss\", d_loss, prog_bar=True)\n",
        "\n",
        "        opt_d.zero_grad()\n",
        "        self.manual_backward(d_loss)\n",
        "        opt_d.step()\n",
        "\n",
        "    def configure_optimizers(self):\n",
        "        lr = self.hparams.lr\n",
        "        b1 = self.hparams.b1\n",
        "        b2 = self.hparams.b2\n",
        "\n",
        "        opt_g = torch.optim.Adam(self.generator.parameters(), lr=lr, betas=(b1, b2))\n",
        "        opt_d = torch.optim.Adam(self.discriminator.parameters(), lr=lr, betas=(b1, b2))\n",
        "        return [opt_g, opt_d], []\n",
        "\n",
        "    def on_epoch_end(self):\n",
        "        z = self.validation_z.type_as(self.generator.model[0].weight)\n",
        "        # channels before pixels\n",
        "        sample_imgs = self(z).permute(0, 3, 1, 2)\n",
        "        grid = torchvision.utils.make_grid(sample_imgs)\n",
        "        self.logger.experiment.add_image(\"generated_images\", grid, self.current_epoch)"
      ]
    },
    {
      "cell_type": "markdown",
      "metadata": {
        "id": "SmQLyGSv2T_i"
      },
      "source": [
        "### Training\n",
        "Train generator and discriminator in a loop and draw results once every N iterations."
      ]
    },
    {
      "cell_type": "code",
      "execution_count": null,
      "metadata": {
        "id": "x3-C68ZNRpmP"
      },
      "outputs": [],
      "source": [
        "# %load_ext tensorboard\n",
        "# %tensorboard --logdir lightning_logs"
      ]
    },
    {
      "cell_type": "code",
      "execution_count": null,
      "metadata": {
        "id": "I1pWMIA4RpmQ"
      },
      "outputs": [],
      "source": [
        "train_kwargs[\"max_epochs\"] = 100"
      ]
    },
    {
      "cell_type": "code",
      "execution_count": null,
      "metadata": {
        "id": "M4R3uSOJ2T_i"
      },
      "outputs": [],
      "source": [
        "dm = SneakersGANDataModule(\"data\", batch_size=BATCH_SIZE)\n",
        "model = DCGAN(*IMAGE_SIZE, 3, NOISE_DIM)\n",
        "trainer = pl.Trainer(**train_kwargs)\n",
        "trainer.fit(model, dm)"
      ]
    },
    {
      "cell_type": "markdown",
      "metadata": {
        "id": "iEAcxvr7nDqE"
      },
      "source": [
        "Prepare data for **III. GAN metrics. PRD score**:"
      ]
    },
    {
      "cell_type": "code",
      "execution_count": null,
      "metadata": {
        "id": "rirxBd_wQikH"
      },
      "outputs": [],
      "source": [
        "import tqdm\n",
        "\n",
        "\n",
        "def predict(\n",
        "    model: pl.LightningModule,\n",
        "    data: torch.Tensor,\n",
        "    batch_size: int,\n",
        "    verbose: bool = True,\n",
        "):\n",
        "    output = []\n",
        "    slicer = range(0, len(data), batch_size)\n",
        "    if verbose:\n",
        "        slicer = tqdm.tqdm(slicer)\n",
        "\n",
        "    model.eval()\n",
        "    use_gpu = torch.cuda.is_available()\n",
        "    if use_gpu:\n",
        "        model.cuda()\n",
        "    with torch.no_grad():\n",
        "        for i in slicer:\n",
        "            x = data[i : i + batch_size]\n",
        "            if use_gpu:\n",
        "                x = x.cuda()\n",
        "            y = model(x)\n",
        "            if use_gpu:\n",
        "                y = y.cpu()\n",
        "            output.append(y)\n",
        "    if use_gpu:\n",
        "        model.cpu()\n",
        "\n",
        "    output = torch.cat(output, dim=0)\n",
        "    return output"
      ]
    },
    {
      "cell_type": "code",
      "execution_count": null,
      "metadata": {
        "id": "vAWj43ixmQnk"
      },
      "outputs": [],
      "source": [
        "dataset = SneakersDataset(\"data\", target_size=IMAGE_SIZE)\n",
        "lr_data = torch.stack([dataset[i] for i in range(len(dataset))], dim=0)\n",
        "dc_fake_data = predict(model, torch.randn(lr_data.size(0), NOISE_DIM), BATCH_SIZE)\n",
        "print(\"LR data:\", lr_data.size())\n",
        "print(\"Fake LR data:\", dc_fake_data.size())"
      ]
    },
    {
      "cell_type": "code",
      "execution_count": null,
      "metadata": {
        "id": "rFEC7ayo2T_i"
      },
      "outputs": [],
      "source": [
        "visualize_images(dc_fake_data, 4, 8)"
      ]
    },
    {
      "cell_type": "markdown",
      "metadata": {
        "id": "NarPWs-M2T_j"
      },
      "source": [
        "# II. Super Resolution\n",
        "\n",
        "In this part of the notebook you will train a generative model that solves an image-to-image problem, with \"small images\" as a source domain and \"large images\" being a target domain.\n",
        "\n",
        "To specify the task, you are to **scale small images of 28x28 pixels up to size of 112x112 pixels**."
      ]
    },
    {
      "cell_type": "code",
      "execution_count": null,
      "metadata": {
        "id": "Wdq-1LSb2T_j"
      },
      "outputs": [],
      "source": [
        "class SneakersSRDataModule(pl.LightningDataModule):\n",
        "    def __init__(self, data_dir: str, batch_size, shuffle=True):\n",
        "        super().__init__()\n",
        "        self.data_dir = data_dir\n",
        "        self.batch_size = batch_size\n",
        "        self.shuffle = shuffle\n",
        "\n",
        "    def setup(self, stage=None):\n",
        "        self.dataset = SneakersDataset(\n",
        "            self.data_dir,\n",
        "            input_size=LOW_RES_SIZE,\n",
        "            target_size=HIGH_RES_SIZE,\n",
        "        )\n",
        "\n",
        "    def train_dataloader(self):\n",
        "        return torch.utils.data.DataLoader(\n",
        "            self.dataset,\n",
        "            batch_size=self.batch_size,\n",
        "            shuffle=self.shuffle,\n",
        "        )"
      ]
    },
    {
      "cell_type": "code",
      "execution_count": null,
      "metadata": {
        "id": "tITnKMbz2T_j"
      },
      "outputs": [],
      "source": [
        "batch_size = 4\n",
        "dm = SneakersSRDataModule(\"data\", batch_size=batch_size)\n",
        "dm.setup()\n",
        "real_data_lr, real_data_hr = next(iter(dm.train_dataloader()))\n",
        "\n",
        "assert real_data_lr.shape[1:] == LOW_RES_SIZE + (3,)\n",
        "assert real_data_hr.shape[1:] == HIGH_RES_SIZE + (3,)\n",
        "\n",
        "plt.figure(figsize=(8, 14))\n",
        "for i in range(batch_size):\n",
        "    plt.subplot(batch_size, 2, 2 * i + 1)\n",
        "    plt.title(\"Low resolution\")\n",
        "    plt.imshow(data2img(real_data_lr[i]))\n",
        "    plt.axis(\"off\")\n",
        "\n",
        "    plt.subplot(batch_size, 2, 2 * i + 2)\n",
        "    plt.title(\"High resolution\")\n",
        "    plt.imshow(data2img(real_data_hr[i]))\n",
        "    plt.axis(\"off\")\n",
        "\n",
        "plt.show()"
      ]
    },
    {
      "cell_type": "markdown",
      "metadata": {
        "id": "4Vu7Kd2vHkTW"
      },
      "source": [
        "In the second part of this task, you are to train an [SRGAN](https://arxiv.org/abs/1609.04802)-like model. For your convinience, some layers are already implemented. Now it's your turn -- fill the gaps so the model passes the asserts below."
      ]
    },
    {
      "cell_type": "markdown",
      "metadata": {
        "id": "2XgweaOiH8Ue"
      },
      "source": [
        "### Generator (1.5 pts) [cross-check:6]"
      ]
    },
    {
      "cell_type": "markdown",
      "metadata": {
        "id": "zmTyXzOqIBzQ"
      },
      "source": [
        "To build a SRGAN Generator, you will need a basic Residual Block(filters):\n",
        "\n",
        "* Conv2D: 3x3, filters=filters, strides=1, padding=\"same\"\n",
        "* ReLU\n",
        "* Batch Normalization 2D with momentum(0.8)\n",
        "* Conv2D: 3x3, filters=filters, strides=1, padding=\"same\"\n",
        "* Batch Normalization 2D with momentum(0.8)\n",
        "* Sum up outputs with inputs\n"
      ]
    },
    {
      "cell_type": "code",
      "execution_count": null,
      "metadata": {
        "id": "XcHFj_MEKEAy"
      },
      "outputs": [],
      "source": [
        "class ResidualBlock(nn.Module):\n",
        "    def __init__(self, filters: int):\n",
        "        super().__init__()\n",
        "        self.model = nn.Sequential(\n",
        "            # TODO: add layers\n",
        "            ...\n",
        "        )\n",
        "\n",
        "    def forward(self, z):\n",
        "        return self.model(z) + z"
      ]
    },
    {
      "cell_type": "markdown",
      "metadata": {
        "id": "ADazxfW1KEMY"
      },
      "source": [
        "Upsampling Block(filters):\n",
        "\n",
        "* UpSampling2D(2)\n",
        "* Conv2D: 3x3, filters=filters, strides=1, padding=\"same\"\n",
        "* ReLU\n"
      ]
    },
    {
      "cell_type": "code",
      "execution_count": null,
      "metadata": {
        "id": "YEqo5dKaKEcv"
      },
      "outputs": [],
      "source": [
        "class UpsamplingBlock(nn.Module):\n",
        "    def __init__(self, filters: int, input_filters: int = None):\n",
        "        super().__init__()\n",
        "        self.model = nn.Sequential(\n",
        "            # TODO: add layers\n",
        "            ...\n",
        "        )\n",
        "\n",
        "    def forward(self, z):\n",
        "        return self.model(z)"
      ]
    },
    {
      "cell_type": "markdown",
      "metadata": {
        "id": "gNK9xG5NKEq_"
      },
      "source": [
        "Now, using these basic building blocks, one is able to define a SRGAN generator:"
      ]
    },
    {
      "cell_type": "code",
      "execution_count": null,
      "metadata": {
        "id": "4mPTVp1hG9aQ"
      },
      "outputs": [],
      "source": [
        "class SRGenerator(nn.Module):\n",
        "    def __init__(self):\n",
        "        super().__init__()\n",
        "\n",
        "        self.init_conv = nn.Sequential(\n",
        "            nn.Conv2d(3, 64, kernel_size=9, padding=9 // 2, padding_mode=\"zeros\"),\n",
        "            nn.ReLU(inplace=True),\n",
        "        )\n",
        "        self.residual_chain = nn.Sequential(\n",
        "            *[ResidualBlock(64) for _ in range(16)],\n",
        "            nn.Conv2d(64, 64, kernel_size=3, padding=3 // 2, padding_mode=\"zeros\"),\n",
        "            nn.BatchNorm2d(64, momentum=0.8)\n",
        "        )\n",
        "        self.upsample_conv = nn.Sequential(\n",
        "            UpsamplingBlock(256, input_filters=64),\n",
        "            UpsamplingBlock(256),\n",
        "            nn.Conv2d(256, 3, kernel_size=9, padding=9 // 2, padding_mode=\"zeros\"),\n",
        "            nn.Tanh(),\n",
        "        )\n",
        "\n",
        "    def forward(self, z):\n",
        "        x = z.permute(0, 3, 1, 2)\n",
        "        conv = self.init_conv(x)\n",
        "        x = self.residual_chain(conv) + conv\n",
        "        img = self.upsample_conv(x)\n",
        "        # make channel axis last\n",
        "        img = img.permute(0, 2, 3, 1)\n",
        "        return img"
      ]
    },
    {
      "cell_type": "code",
      "execution_count": null,
      "metadata": {
        "id": "5KWElBB1Sld-"
      },
      "outputs": [],
      "source": [
        "real_data_lr, real_data_hr = next(iter(dm.train_dataloader()))\n",
        "fake_hr = SRGenerator()(real_data_lr)\n",
        "assert fake_hr.shape == real_data_hr.shape"
      ]
    },
    {
      "cell_type": "markdown",
      "metadata": {
        "id": "yyoU_b6bXvAN"
      },
      "source": [
        "### Discriminator (1.5 pts) [cross-check:7]"
      ]
    },
    {
      "cell_type": "markdown",
      "metadata": {
        "id": "ZXjBXT93Xx75"
      },
      "source": [
        "First, define a Discriminator Block(filters, strides):\n",
        "\n",
        "* Conv2D: 3x3, filters=filters, strides=strides, padding=\"same\"\n",
        "* Leaky ReLU(0.2)\n",
        "* (optional) Batch Normalization 2D with momentum(0.8)"
      ]
    },
    {
      "cell_type": "code",
      "execution_count": null,
      "metadata": {
        "id": "FzwB98UXWDYM"
      },
      "outputs": [],
      "source": [
        "class DBlock(nn.Module):\n",
        "    def __init__(\n",
        "        self,\n",
        "        input_filters: int,\n",
        "        filters: int,\n",
        "        strides: int,\n",
        "        batch_norm: bool = False,\n",
        "    ):\n",
        "        super().__init__()\n",
        "        layers = [\n",
        "            # TODO: add layers (except BatchNorm2d)\n",
        "            ...\n",
        "        ]\n",
        "        if batch_norm:\n",
        "            layers.append(nn.BatchNorm2d(filters, momentum=0.8))\n",
        "        self.model = nn.Sequential(*layers)\n",
        "\n",
        "    def forward(self, z):\n",
        "        return self.model(z)"
      ]
    },
    {
      "cell_type": "markdown",
      "metadata": {
        "id": "r9XySSJen22I"
      },
      "source": [
        "Now, use this block to build up SRGAN discriminator:\n",
        "\n",
        "* DBlock(filters=64, strides=1) with Batch Normalization\n",
        "* DBlock(filters=64, strides=2)\n",
        "* DBlock(filters=128, strides=1)\n",
        "* DBlock(filters=128, strides=2)\n",
        "* DBlock(filters=256, strides=1)\n",
        "* DBlock(filters=256, strides=2)\n",
        "* DBlock(filters=512, strides=1)\n",
        "* DBlock(filters=512, strides=2)\n",
        "* Flatten\n",
        "* Fully connected with output size of 1024\n",
        "* Leaky ReLU(0.2)\n",
        "* Fully connected with output size of 1\n",
        "* Sigmoid"
      ]
    },
    {
      "cell_type": "code",
      "execution_count": null,
      "metadata": {
        "id": "TE1_Ea-Zn3Po"
      },
      "outputs": [],
      "source": [
        "class SRDiscriminator(nn.Module):\n",
        "    def __init__(self):\n",
        "        super().__init__()\n",
        "        self.model = nn.Sequential(\n",
        "            # TODO: add layers\n",
        "            ...\n",
        "        )\n",
        "\n",
        "    def forward(self, z):\n",
        "        x = z.permute(0, 3, 1, 2)\n",
        "        return self.model(x)"
      ]
    },
    {
      "cell_type": "code",
      "execution_count": null,
      "metadata": {
        "id": "RaAKs9BMp47b"
      },
      "outputs": [],
      "source": [
        "fake_probas = SRDiscriminator()(fake_hr)\n",
        "assert fake_probas.shape[1:] == (1,)"
      ]
    },
    {
      "cell_type": "markdown",
      "metadata": {
        "id": "MS1yeB5cquyO"
      },
      "source": [
        "Typically, SRGAN is trained with additional loss on features from pretrained VGG-19. However, you task will be a bit simplier: use **mean squared error** between real and fake data instead."
      ]
    },
    {
      "cell_type": "code",
      "execution_count": null,
      "metadata": {
        "id": "SaydO1FJqA0G"
      },
      "outputs": [],
      "source": [
        "class SRGAN(pl.LightningModule):\n",
        "    def __init__(self, validation_lr):\n",
        "        super().__init__()\n",
        "\n",
        "        # Important: This property activates manual optimization.\n",
        "        self.automatic_optimization = False\n",
        "\n",
        "        self.generator = SRGenerator()\n",
        "        self.discriminator = SRDiscriminator()\n",
        "\n",
        "        self.validation_lr = validation_lr\n",
        "\n",
        "    def forward(self, z):\n",
        "        return self.generator(z)\n",
        "\n",
        "    def gan_loss(self, y_hat, y):\n",
        "        # TODO: implement loss\n",
        "        return ...\n",
        "\n",
        "    def ls_loss(self, y_hat, y):\n",
        "        # TODO: implement loss\n",
        "        return ...\n",
        "\n",
        "    def mse_loss(self, sr_imgs, hr_imgs):\n",
        "        # TODO: implement MSE loss\n",
        "        return ...\n",
        "\n",
        "    def training_step(self, imgs, batch_idx):\n",
        "        opt_g, opt_d = self.optimizers()\n",
        "        lr_imgs, hr_imgs = imgs\n",
        "\n",
        "        # optimize generator\n",
        "        sr_imgs = self(lr_imgs)\n",
        "\n",
        "        # all fake, but we want to be real\n",
        "        valid = torch.ones(lr_imgs.size(0), 1)\n",
        "        valid = valid.type_as(lr_imgs)\n",
        "\n",
        "        gan_loss = self.gan_loss(self.discriminator(sr_imgs), valid)\n",
        "        mse_loss = self.mse_loss(sr_imgs, hr_imgs)\n",
        "\n",
        "        g_loss = 1 * mse_loss + 0.5 * gan_loss\n",
        "        self.log(\"g_loss\", g_loss, prog_bar=True)\n",
        "        self.log(\"gan_loss\", gan_loss, prog_bar=True)\n",
        "        self.log(\"mse_loss\", mse_loss, prog_bar=True)\n",
        "\n",
        "        opt_g.zero_grad()\n",
        "        self.manual_backward(g_loss)\n",
        "        opt_g.step()\n",
        "\n",
        "        # optimize discriminator\n",
        "        valid = torch.ones(hr_imgs.size(0), 1)\n",
        "        valid = valid.type_as(hr_imgs)\n",
        "        real_loss = self.ls_loss(self.discriminator(hr_imgs), valid)\n",
        "\n",
        "        fake = torch.zeros(lr_imgs.size(0), 1)\n",
        "        fake = fake.type_as(lr_imgs)\n",
        "        fake_loss = self.ls_loss(self.discriminator(self(lr_imgs).detach()), fake)\n",
        "\n",
        "        d_loss = (real_loss + fake_loss) / 2\n",
        "        self.log(\"d_loss\", d_loss, prog_bar=True)\n",
        "\n",
        "        opt_d.zero_grad()\n",
        "        self.manual_backward(d_loss)\n",
        "        opt_d.step()\n",
        "\n",
        "    def configure_optimizers(self):\n",
        "        opt_g = torch.optim.Adam(\n",
        "            self.generator.parameters(),\n",
        "            lr=2e-4,\n",
        "            betas=(0.5, 0.999),\n",
        "        )\n",
        "        opt_d = torch.optim.Adam(\n",
        "            self.discriminator.parameters(),\n",
        "            lr=1e-3,\n",
        "            betas=(0.5, 0.999),\n",
        "        )\n",
        "        return [opt_g, opt_d], []\n",
        "\n",
        "    def on_epoch_end(self):\n",
        "        z = self.validation_lr.type_as(self.generator.init_conv[0].weight)\n",
        "        # channels before pixels\n",
        "        sample_imgs = self(z).permute(0, 3, 1, 2)\n",
        "        grid = torchvision.utils.make_grid(sample_imgs)\n",
        "        self.logger.experiment.add_image(\"generated_images\", grid, self.current_epoch)"
      ]
    },
    {
      "cell_type": "code",
      "execution_count": null,
      "metadata": {
        "id": "71X-grsBcsAt"
      },
      "outputs": [],
      "source": [
        "# %load_ext tensorboard\n",
        "# %tensorboard --logdir lightning_logs"
      ]
    },
    {
      "cell_type": "markdown",
      "metadata": {
        "id": "1KmvmfcDvXSy"
      },
      "source": [
        "### Training"
      ]
    },
    {
      "cell_type": "code",
      "execution_count": null,
      "metadata": {
        "id": "0xWztpoFse_y"
      },
      "outputs": [],
      "source": [
        "train_kwargs[\"max_epochs\"] = 9"
      ]
    },
    {
      "cell_type": "code",
      "execution_count": null,
      "metadata": {
        "id": "qrGJI_gTuJcR"
      },
      "outputs": [],
      "source": [
        "dm = SneakersSRDataModule(\"data\", batch_size=16)\n",
        "dm.setup()\n",
        "model = SRGAN(validation_lr=next(iter(dm.train_dataloader()))[0][:4])\n",
        "trainer = pl.Trainer(**train_kwargs)\n",
        "trainer.fit(model, dm)"
      ]
    },
    {
      "cell_type": "markdown",
      "metadata": {
        "id": "uuWpdw7_vbxu"
      },
      "source": [
        "Prepare data for **III. GAN metrics**:"
      ]
    },
    {
      "cell_type": "code",
      "execution_count": null,
      "metadata": {
        "id": "lZC8EP_xvhVD"
      },
      "outputs": [],
      "source": [
        "dm = SneakersSRDataModule(\"data\", batch_size=BATCH_SIZE)\n",
        "dm.setup()\n",
        "hr_data = []\n",
        "for lr, hr in dm.train_dataloader():\n",
        "    hr_data.append(hr)\n",
        "hr_data = torch.cat(hr_data, dim=0)\n",
        "\n",
        "batch_size = 16\n",
        "sr_fake_data_from_real_lr = predict(model, lr_data, batch_size)\n",
        "sr_fake_data_from_fake_lr = predict(model, dc_fake_data, batch_size)\n",
        "print(\"HR data:\", hr_data.size())\n",
        "print(\"SR from real LR:\", sr_fake_data_from_real_lr.size())\n",
        "print(\"SR from fake LR:\", sr_fake_data_from_fake_lr.size())"
      ]
    },
    {
      "cell_type": "code",
      "execution_count": null,
      "metadata": {
        "id": "kmLKMN_rujEn"
      },
      "outputs": [],
      "source": [
        "visualize_images(sr_fake_data_from_real_lr, 4, 8)"
      ]
    },
    {
      "cell_type": "code",
      "execution_count": null,
      "metadata": {
        "id": "mhlAvVbpM9a9"
      },
      "outputs": [],
      "source": [
        "visualize_images(sr_fake_data_from_fake_lr, 4, 8)"
      ]
    },
    {
      "cell_type": "markdown",
      "metadata": {
        "id": "auJUUp_ArHkb"
      },
      "source": [
        "# III. GAN metrics"
      ]
    },
    {
      "cell_type": "markdown",
      "metadata": {
        "id": "Sr1sSMURrPLf"
      },
      "source": [
        "There exists a few metrics used to measure GAN performance. Some of them are based on comparing real samples against generated ones, while the other rely on additional pretrained models that are applied to both real and generated data in order to accumulate high-level statistics. In this task, you are going to use two metrics representing these two approaches -- namely, [Precision-Recall Density](https://arxiv.org/pdf/1806.00035) and [Fréchet Inception Distance](https://arxiv.org/pdf/1706.08500)."
      ]
    },
    {
      "cell_type": "markdown",
      "metadata": {
        "id": "KJDHoskhrMso"
      },
      "source": [
        "##  Precision-Recall Density (PRD score) (1.0 pts) [cross-check:8]\n",
        "\n",
        "Your first task is to implement [Precision-Recall Density](https://arxiv.org/pdf/1806.00035.pdf) score."
      ]
    },
    {
      "cell_type": "code",
      "execution_count": null,
      "metadata": {
        "id": "P_oUr0sjrOti"
      },
      "outputs": [],
      "source": [
        "from sklearn.cluster import KMeans, MiniBatchKMeans\n",
        "\n",
        "\n",
        "def bin_counts(real_data, fake_data, n_bins=25):\n",
        "    real_data = real_data.reshape(len(real_data), -1)\n",
        "    fake_data = fake_data.reshape(len(fake_data), -1)\n",
        "\n",
        "    data = np.vstack([real_data, fake_data])\n",
        "\n",
        "    kmeans = MiniBatchKMeans(n_clusters=n_bins, n_init=10).fit(data)\n",
        "\n",
        "    real_labels = kmeans.labels_[: len(real_data)]\n",
        "    fake_labels = kmeans.labels_[len(real_data) :]\n",
        "\n",
        "    real_density, _ = np.histogram(\n",
        "        real_labels,\n",
        "        bins=n_bins,\n",
        "        range=[0, n_bins],\n",
        "        density=True,\n",
        "    )\n",
        "    # TODO: same for fake_labels\n",
        "    fake_density, _ = ...\n",
        "\n",
        "    return real_density, fake_density\n",
        "\n",
        "\n",
        "def sample_bin_counts(real_data, fake_data, n_bins=25, repeat_number=10, verbose=True):\n",
        "    real_densities = []\n",
        "    fake_densities = []\n",
        "    counter = range(repeat_number)\n",
        "    if verbose:\n",
        "        counter = tqdm.tqdm(counter)\n",
        "    for _ in counter:\n",
        "        real, fake = bin_counts(real_data, fake_data, n_bins=n_bins)\n",
        "        real_densities.append(real)\n",
        "        fake_densities.append(fake)\n",
        "    return np.array(real_densities).mean(axis=0), np.array(fake_densities).mean(axis=0)"
      ]
    },
    {
      "cell_type": "code",
      "execution_count": null,
      "metadata": {
        "id": "V2RUvLSmpeB3"
      },
      "outputs": [],
      "source": [
        "import math\n",
        "\n",
        "from sklearn.metrics import auc\n",
        "\n",
        "\n",
        "def calculate_alpha_beta(real_density, fake_density, n_thetas=1000):\n",
        "    assert real_density.shape == fake_density.shape\n",
        "\n",
        "    alpha = []\n",
        "    beta = []\n",
        "\n",
        "    thetas = np.linspace(1e-6, np.pi / 2 - 1e-6, num=n_thetas)\n",
        "    for theta in thetas:\n",
        "        tan = math.tan(theta)\n",
        "        # TODO: implement paper formula\n",
        "        alpha.append(...)\n",
        "        beta.append(...)\n",
        "\n",
        "    return alpha, beta\n",
        "\n",
        "\n",
        "def calculate_prd_score(real_data, fake_data):\n",
        "    # Calculate bin counts from real and generated data multiple times\n",
        "    # TODO\n",
        "    real_density, fake_density = ...\n",
        "\n",
        "    plt.bar(\n",
        "        range(len(real_density)),\n",
        "        real_density,\n",
        "        width=1,\n",
        "        color=\"g\",\n",
        "        alpha=0.5,\n",
        "        label=\"Real density\",\n",
        "    )\n",
        "    plt.bar(\n",
        "        range(len(fake_density)),\n",
        "        fake_density,\n",
        "        width=1,\n",
        "        color=\"r\",\n",
        "        alpha=0.5,\n",
        "        label=\"Fake density\",\n",
        "    )\n",
        "    plt.legend()\n",
        "    plt.show()\n",
        "\n",
        "    # Calculate alpha and beta\n",
        "    # TODO\n",
        "    alpha, beta = ...\n",
        "\n",
        "    # Calculate area under curve (AUC) for alpha and beta\n",
        "    # TODO\n",
        "    score = ...\n",
        "\n",
        "    return score, alpha, beta"
      ]
    },
    {
      "cell_type": "markdown",
      "metadata": {
        "id": "eXk1fvzBpnAw"
      },
      "source": [
        "Calculate PRD score for DCGAN (task I). You should pass `lr_data` and `dc_fake_data` to scoring function."
      ]
    },
    {
      "cell_type": "code",
      "execution_count": null,
      "metadata": {
        "id": "Wya_v6L5pn_3"
      },
      "outputs": [],
      "source": [
        "score, _, _ = calculate_prd_score(\n",
        "    lr_data,\n",
        "    dc_fake_data,\n",
        ")\n",
        "print(\"Score:\", score)"
      ]
    },
    {
      "cell_type": "markdown",
      "metadata": {
        "id": "T2zud1znprDY"
      },
      "source": [
        "Now use PRD score to compare high resolution data generated from real low resolution data (`sr_fake_data_from_real_lr`) and fake resolution data (`sr_fake_data_from_fake_lr`):"
      ]
    },
    {
      "cell_type": "code",
      "execution_count": null,
      "metadata": {
        "id": "RStA_RiapsEt"
      },
      "outputs": [],
      "source": [
        "print(\"Generated from real LR\")\n",
        "score_real, alpha_real, beta_real = calculate_prd_score(\n",
        "    hr_data,\n",
        "    sr_fake_data_from_real_lr,\n",
        ")\n",
        "print(\"Score:\", score_real, end=\"\\n\\n\")\n",
        "\n",
        "print(\"Generated from fake LR\")\n",
        "score_fake, alpha_fake, beta_fake = calculate_prd_score(\n",
        "    hr_data,\n",
        "    sr_fake_data_from_fake_lr,\n",
        ")\n",
        "print(\"Score:\", score_fake, end=\"\\n\\n\")\n",
        "\n",
        "fig, ax = plt.subplots(figsize=(8, 8))\n",
        "ax.tick_params(axis=\"both\", which=\"major\", labelsize=8)\n",
        "plt.xlim([0, 1])\n",
        "plt.ylim([0, 1])\n",
        "plt.xlabel(\"Recall\")\n",
        "plt.ylabel(\"Precision\")\n",
        "plt.plot(alpha_real, beta_real, color=\"g\", label=\"Generated from real LR\")\n",
        "plt.plot(alpha_fake, beta_fake, color=\"r\", label=\"Generated from fake LR\")\n",
        "plt.legend()\n",
        "plt.show()"
      ]
    },
    {
      "cell_type": "markdown",
      "metadata": {
        "id": "w3qk_19kR_zr"
      },
      "source": [
        "## Fréchet Inception Distance (FID score) (1.0 pts) [cross-check:9]\n",
        "\n",
        "[Frechet Inception Distance](https://arxiv.org/pdf/1706.08500) is an improved version of [Inception score](https://arxiv.org/abs/1606.03498), that additionally calculates the statistics of real data and compares it to the statistics of generated data. It is probably the most widely-used option for evaluating GANs, and relies on features extracted with [InceptionV3](https://arxiv.org/abs/1512.00567) pretrained on ImageNet. These features assumed to come from a multivariate Gaussian distribution, so Fréchet distance between two multivariate Gaussians can be calculated:\n",
        "\n",
        "$$\\text{FID} = ||\\mu_r - \\mu_g||^2 + \\text{Tr} (\\Sigma_r + \\Sigma_g - 2 (\\Sigma_r \\Sigma_g)^{1/2}),$$\n",
        "\n",
        "where $X_r \\sim \\mathcal{N} (\\mu_r, \\Sigma_r)$ and $X_g \\sim \\mathcal{N} (\\mu_g, \\Sigma_g)$ are the 2048-dimensional activations of the Inception-v3 pool3 layer for real and generated samples respectively."
      ]
    },
    {
      "cell_type": "markdown",
      "metadata": {
        "id": "VcHc-r8oSGj7"
      },
      "source": [
        "First, create InceptionV3 ([from torch repository](https://pytorch.org/hub/pytorch_vision_inception_v3/)) model. As you will be using it for feature extraction only, we should remove last fully connected layer."
      ]
    },
    {
      "cell_type": "code",
      "execution_count": null,
      "metadata": {
        "id": "d01uHGsrVzWR"
      },
      "outputs": [],
      "source": [
        "class InceptionHeadless(pl.LightningModule):\n",
        "    def __init__(self):\n",
        "        super().__init__()\n",
        "        self.upsample = nn.Upsample(scale_factor=2)\n",
        "        self.model = torch.hub.load(\"pytorch/vision\", \"inception_v3\", pretrained=True)\n",
        "        # remove last fc layer\n",
        "        self.model.fc = nn.Identity()\n",
        "\n",
        "    def forward(self, z):\n",
        "        x = z.permute(0, 3, 1, 2)\n",
        "        x = self.upsample(x)\n",
        "        return self.model(x)"
      ]
    },
    {
      "cell_type": "code",
      "execution_count": null,
      "metadata": {
        "id": "3U0MbG9KzIMn"
      },
      "outputs": [],
      "source": [
        "inception = InceptionHeadless()\n",
        "inception.eval()\n",
        "\n",
        "with torch.no_grad():\n",
        "    assert inception(hr_data[:32]).shape[1:] == (2048,)"
      ]
    },
    {
      "cell_type": "code",
      "execution_count": null,
      "metadata": {
        "id": "ILNxlRbP25Ec"
      },
      "outputs": [],
      "source": [
        "def calculate_activations(data, batch_size=32, verbose=False):\n",
        "    # Calculate activations of Pool3 layer of InceptionV3\n",
        "    if verbose:\n",
        "        print(\"Calculating activations...\")\n",
        "    activations = predict(inception, data, batch_size=32)\n",
        "    return activations\n",
        "\n",
        "\n",
        "def calculate_activation_statistics(activations):\n",
        "    # Calculate mean and covariance of activations. Mind the dimensions!\n",
        "    # TODO\n",
        "    mu = ...\n",
        "    t = activations - mu\n",
        "    # TODO\n",
        "    sigma = ...\n",
        "    return mu, sigma"
      ]
    },
    {
      "cell_type": "code",
      "execution_count": null,
      "metadata": {
        "id": "ohaJKXnVzIS8"
      },
      "outputs": [],
      "source": [
        "real_activations = calculate_activations(hr_data, verbose=True)\n",
        "real_mu, real_sigma = calculate_activation_statistics(real_activations)\n",
        "\n",
        "assert real_mu.shape == (2048,)\n",
        "assert real_sigma.shape == (2048, 2048)"
      ]
    },
    {
      "cell_type": "code",
      "execution_count": null,
      "metadata": {
        "id": "JYG7z9qSWcyA"
      },
      "outputs": [],
      "source": [
        "import scipy\n",
        "\n",
        "\n",
        "def calculate_frechet_distance(mu1, sigma1, mu2, sigma2, eps=1e-6):\n",
        "    assert mu1.shape == mu2.shape\n",
        "    assert sigma1.shape == sigma2.shape\n",
        "\n",
        "    sigma1_sigma2 = scipy.linalg.sqrtm(np.dot(sigma1, sigma2))\n",
        "\n",
        "    # Numerical error might give slight imaginary component\n",
        "    if np.iscomplexobj(sigma1_sigma2):\n",
        "        sigma1_sigma2 = sigma1_sigma2.real\n",
        "\n",
        "    # Product might be almost singular\n",
        "    if not np.isfinite(sigma1_sigma2).all():\n",
        "        offset = np.eye(sigma1.shape[0]) * eps\n",
        "        sigma1_sigma2 = scipy.linalg.sqrtm(np.dot(sigma1 + offset, sigma2 + offset))\n",
        "\n",
        "    diff = mu1 - mu2\n",
        "\n",
        "    # use diff, sigma1, sigma2 to calculate FID according to the formula above\n",
        "    # TODO: implement score from paper\n",
        "    return ...\n",
        "\n",
        "\n",
        "def calculate_fid_score(real_data, fake_data, verbose=False):\n",
        "    # Run inception on real and fake data to obtain activations\n",
        "    # TODO\n",
        "    real_activations = ...\n",
        "    fake_activations = ...\n",
        "\n",
        "    # Calculate mu and sigma for both real and fake activations\n",
        "    # TODO\n",
        "    real_mu, real_sigma = ...\n",
        "    fake_mu, fake_sigma = ...\n",
        "\n",
        "    # Calculate Frechet distance\n",
        "    return calculate_frechet_distance(\n",
        "        real_mu,\n",
        "        real_sigma,\n",
        "        fake_mu,\n",
        "        fake_sigma,\n",
        "    )"
      ]
    },
    {
      "cell_type": "markdown",
      "metadata": {
        "id": "VQjxyGZLewHo"
      },
      "source": [
        "Calculate FID score between `hr_data` and `sr_fake_data_from_real_hr`:"
      ]
    },
    {
      "cell_type": "code",
      "execution_count": null,
      "metadata": {
        "id": "VvHBjRgOeuCx"
      },
      "outputs": [],
      "source": [
        "score = calculate_fid_score(\n",
        "    hr_data,\n",
        "    sr_fake_data_from_real_lr,\n",
        ")\n",
        "print(\"Score:\", score)"
      ]
    },
    {
      "cell_type": "markdown",
      "metadata": {
        "id": "uHYWDEwZeyT9"
      },
      "source": [
        "Putting it all together: calculate FID score between `hr_data` and `sr_fake_data_from_fake_hr`:"
      ]
    },
    {
      "cell_type": "code",
      "execution_count": null,
      "metadata": {
        "id": "lgyhdAyoezVL"
      },
      "outputs": [],
      "source": [
        "score = calculate_fid_score(\n",
        "    hr_data,\n",
        "    sr_fake_data_from_fake_lr,\n",
        ")\n",
        "print(\"Score:\", score)"
      ]
    }
  ],
  "metadata": {
    "accelerator": "GPU",
    "colab": {
      "provenance": []
    },
    "kernelspec": {
      "display_name": "Python 3 (ipykernel)",
      "language": "python",
      "name": "python3"
    },
    "language_info": {
      "codemirror_mode": {
        "name": "ipython",
        "version": 3
      },
      "file_extension": ".py",
      "mimetype": "text/x-python",
      "name": "python",
      "nbconvert_exporter": "python",
      "pygments_lexer": "ipython3",
      "version": "3.10.3"
    }
  },
  "nbformat": 4,
  "nbformat_minor": 0
}
